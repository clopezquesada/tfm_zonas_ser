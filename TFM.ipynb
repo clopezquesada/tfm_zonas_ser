{
  "cells": [
    {
      "cell_type": "code",
      "source": [
        "# Autenticación para repos privados\n",
        "from google.colab import auth\n",
        "auth.authenticate_user()\n",
        "\n",
        "# Clonar un repo público\n",
        "!git clone https://github.com/clopezquesada/tfm_zonas_ser.git"
      ],
      "metadata": {
        "id": "BsTmVvUyj-dk",
        "outputId": "e6bb276e-650f-4fc1-ee1e-620df255eb14",
        "colab": {
          "base_uri": "https://localhost:8080/"
        }
      },
      "id": "BsTmVvUyj-dk",
      "execution_count": 2,
      "outputs": [
        {
          "output_type": "stream",
          "name": "stdout",
          "text": [
            "Cloning into 'tfm_zonas_ser'...\n",
            "remote: Enumerating objects: 15, done.\u001b[K\n",
            "remote: Counting objects: 100% (15/15), done.\u001b[K\n",
            "remote: Compressing objects: 100% (13/13), done.\u001b[K\n",
            "remote: Total 15 (delta 2), reused 0 (delta 0), pack-reused 0 (from 0)\u001b[K\n",
            "Receiving objects: 100% (15/15), 3.09 MiB | 5.94 MiB/s, done.\n",
            "Resolving deltas: 100% (2/2), done.\n"
          ]
        }
      ]
    },
    {
      "cell_type": "markdown",
      "id": "8040985f",
      "metadata": {
        "id": "8040985f"
      },
      "source": [
        "# TFM - Análisis de las zonas SER de Madrid"
      ]
    },
    {
      "cell_type": "markdown",
      "id": "66a7e4e4",
      "metadata": {
        "id": "66a7e4e4"
      },
      "source": [
        "## MEMORIA"
      ]
    },
    {
      "cell_type": "markdown",
      "id": "0f1db99d",
      "metadata": {
        "id": "0f1db99d"
      },
      "source": [
        "# 1. Introducción\n",
        "Encontrar aparcamiento supone un reto para la mayoría de conductores, este problema se intensifica aún más en grandes núcleos urbanos como Madrid. De hecho, el artículo ... indica que el 76% de los españoles estima que la falta de aparcamiento es el principal problema de movilidad urbana que tienen en su ciudad, además, en éste se destaca que Madrid es una de las ciudades en las que este problema se hace más notable. La dificultad en el aparcamiento se ve aún más intensificada en las zonas céntricas de la capital debido al gran volumen de vehículos y el tráfico constante. Éste hecho no solo conlleva una pérdida de tiempo notable para los usuarios si no también un gasto considerable de combustible y, por ende, una mayor contaminación.\n",
        "\n",
        "En la actualidad, uno de los principales retos es empujar a las ciudades hacia un modelo más sostenible e inteligente, las conocidas como smart cities, así un aparcamiento gestionado de manera eficiente es un reto clave para reducir el impacto medioambiental y para ayudar a la fluidez de la movilidad urbana. Así, este trabajo nace del interés por aplicar la ciencia de datos a un problema que está a la orden del día con gran impacto social y medioambiental. En particular, se pretende resaltar la creciente disponibilidad de datos a tiempo real, que junto con datos históricos y tecnologías en big data y machine learning permiten abordar problemas urbanos desde una perspectiva innovadora, tal y como se ha estudiado a lo largo del máster. Además, el trabajo tiene en el fondo una naturaleza de segmentación de perfiles que se podría extrapolar a otros escenarios como la agrupación de usuarios en plataformas de venta digitales, aportando así valor a las empresas en la toma de decisiones basadas en datos.\n",
        "\n",
        "*Mirar este párrafo que está fatal*El trabajo se centra en desarrollar una herramienta que utilizando datos a tiempo real, además del conocimiento aportado por datos históricos, lleve a cabo una segmentación de las distintas zonas Servicio de Estacionamiento Regulado del centro de Madrid según la facilidad de encontrar aparcamiento en ellas. Para ello, se utilizarán datos abiertos del Ayuntamiento de Madrid sobre tráfico, parquímetros y zonas SER. A lo largo del trabajo se aplican técnicas de análisis descriptivo, aprendizaje estadístico supervisado y no supervisado y análisis predictivo. Además se desarrollará una aplicación web interactiva que permitirá visualizar estos resultados en mapas, buscando así una interpretación rápida, fácil y visual. Además se han considerados diversos artículos relacionados con el aparcamiento inteligente como por ejemplo, … y … que sirven de fundamento para el. El trabajo se estructura en varios capítulos, en primer lugar, se presenta el problema, a continuación, se describe la recopilación y procesamiento de los datos, seguidos por la metodología utilizada para el análisis y el desarrollo del modelo, después, se presentan los resultados obtenidos y la aplicación web desarrollada. Finalmente, se exponen las conclusiones, limitaciones y posibles líneas futuras de trabajo."
      ]
    },
    {
      "cell_type": "markdown",
      "id": "a1b88adb",
      "metadata": {
        "id": "a1b88adb"
      },
      "source": [
        "# 2. Descripción de las fuentes y análisis inicial\n",
        "*Hacer referencia al apartado de carga y análisis del anexo*\n",
        "La totalidad de los datos usados en el trabajo han sido extraidos del Portal de Datos Abiertos del Ayuntamiento de Madrid.\n",
        "Por un lado, introducimos los archivos considerados relativos a la información sobre las zonas de Servicio de Estacionamiento Regulado. En primer lugar, se ha considerado el archivo calles-SER-2025.csv, el cual tiene 33731 filas y 12 columnas, cada una de estas filas se corresponde a información de una zona SER determinada. \\textbf{Poner head del df}. Después se considera el archivo parquimetros.csv el cual contiene 6126 filas y 14 columnas de información sobre parquímetros. \\textbf{Poner head del df}. Se utiliza el archivo Primertrimestre2025.csv, el cual contiene 12745646 y 12 columnas, el cual nos indica la duración e importe de cada uno de los tickets sacados en diversos parquímetros para el primer trimestre de 2025 (coger también los del segundo trimestre hasta mayo???) .\\textbf{poner cabecera df}. La granularidad de este conjunto de datos es parquímetro, día fecha y hora, pero para tener una visión más general de estos datos nos quedamos únicamente con el importe medio, la duración media en minutos, y el número de tickets registrados para cada parquímetro en cada franja de tiempo: mañana, mediodia, tarde y noche, y distinguimos entre si se trata de fin de semana o de un día entre semana. De esta manera acabamos un dataframe llamado zonas-ser-sin-info que recoge las zonas ser sobre las que no tenemos información y por otro lado, zonas-ser-info.\n",
        "Por otro lado, se introducen los archivos relativos al tráfico histórico de Madrid, para ello se consideran los archivos 01-2025.csv, 02-2025.csv,... relativos al tráfico medido cada ... minutos en distintos puntos de medida de Madrid centro. Al unir todos esos datos contamos con un total de 18726997 filas y 9 columnas. Los puntos de medida del tráfico los tenemos en el archivo pmed-ubicacion-06-2025.csv. De nuevo, para tener una visualización más simplificada de los datos consideramos la media de intensidad, media de ocupación y media de carga para cada punto de medida, según la franja de tiempo y si es fin de semana o un día entre semana, el resultado es el df trafico-historico. El procesamiento inicial de estos archivos se ha llevado a cabo en pspark para el tratamiento de los grandes volúmenes de datos de manera efectiva.\n",
        "Los datos de tráfico a tiempo real se obtienen mediante un flujo dinámico en formato XML los cuales se actualizan cada 15 minutos en la url y siguen el siguiente esquema:.. De aquí obtenemos el df trafico-actual.\\textbf{Quizás estaría bien mirar la distribución de los datos para cada franja para ver si está bien hecho lo de coger la media, esto va a alargar mucho todo pero así es más completo, quizás interesa más coger la mediana.}"
      ]
    },
    {
      "cell_type": "markdown",
      "source": [
        "# 3. Metodología\n",
        "## Modelo de regresión\n",
        "\n",
        "## Modelo de clustering\n",
        "\n",
        "Tras el modelo de regresión en el que se han estimado las variables ... y ... para el conjunto de datos que no las tenían. Montamos el modelo de clustering mediante el que se pretende estimar la segmentación de las zonas centro de la capital según distintos factores como: .... Así, se ha estudiado dicha segmentación para cada int_tiempo y para fin_de_semana, la cual se ha llevado a cabo mediante K-means, antes se ha llevado a cabo una reducción de la dimensionalidad, esto también se estudia detalladamente para cada subconjunto, y se determina que 4 componentes principales explican más del 90% de la varianza en cada uno de los subconjuntos. Para el algoritmo de clustering los resultados utilizados, que se pueden visualizar más detalladamente en la sección de Código en el anexo, son los siguiente:\n",
        "\n"
      ],
      "metadata": {
        "id": "8u1zS30y4Fl8"
      },
      "id": "8u1zS30y4Fl8"
    },
    {
      "cell_type": "markdown",
      "id": "5acfe5fe",
      "metadata": {
        "id": "5acfe5fe"
      },
      "source": [
        "## CÓDIGO"
      ]
    },
    {
      "cell_type": "markdown",
      "id": "RombDF_5g40A",
      "metadata": {
        "id": "RombDF_5g40A"
      },
      "source": [
        "### Lectura y análisis de las fuentes. Tratamiento inicial de los datos.\n",
        "\n",
        "Para comenzar, debido a la naturaleza variada y dispersa de los datos que se van a utilizar llevamos a cabo un pretratamiento de éstos. A lo largo de ésta sección se harán modificaciones de los conjuntos de datos a partir de pandas, Spark y geopandas para llegar a los dataframes con los que trabajaremos finalmente. Ésta se cumplimentará con un análisis exploratorio de algunos de los conjuntos de datos que por el tratamiento que se va a realizar, no se puede analizar más adelante. Explicar de manera adecuada y ligera de leer el procedimiento que se lleva a cabo en esta sección. Falta estudiar valores nulos o missing data y duplicados. Poner id a cada zona ser para identificación única que sea cod_barrio, calle, numero_finca"
      ]
    },
    {
      "cell_type": "code",
      "execution_count": null,
      "id": "Bdwmh1QMYhxQ",
      "metadata": {
        "id": "Bdwmh1QMYhxQ"
      },
      "outputs": [],
      "source": [
        "import pandas as pd\n",
        "import numpy as np\n",
        "import matplotlib.pyplot as plt\n",
        "import seaborn as sns"
      ]
    },
    {
      "cell_type": "markdown",
      "id": "328Tl3kFYdu0",
      "metadata": {
        "id": "328Tl3kFYdu0"
      },
      "source": [
        "En primer lugar, se ha considerado el archivo calles-SER-2025.csv, el cual tiene 33731 filas y 10 columnas, cada una de estas filas se corresponde a información de una zona SER determinada, la información sobre éste se puede consultar en ... . Procedemos a su carga y análisis, trabajamos inicialmente con pyspark y con pandas según sea necesario."
      ]
    },
    {
      "cell_type": "code",
      "execution_count": null,
      "id": "66493d88",
      "metadata": {
        "id": "66493d88"
      },
      "outputs": [],
      "source": [
        "calles_ser = pd.read_csv('calles_SER_2025.csv', encoding = 'latin-1', sep = ';')"
      ]
    },
    {
      "cell_type": "code",
      "execution_count": null,
      "id": "-lOJAPEqaKhn",
      "metadata": {
        "id": "-lOJAPEqaKhn"
      },
      "outputs": [],
      "source": [
        "calles_ser.head(5)"
      ]
    },
    {
      "cell_type": "code",
      "execution_count": null,
      "id": "egjmAE-SZIig",
      "metadata": {
        "id": "egjmAE-SZIig"
      },
      "outputs": [],
      "source": [
        "calles_ser.info()"
      ]
    },
    {
      "cell_type": "markdown",
      "id": "SDdekopJe4M1",
      "metadata": {
        "id": "SDdekopJe4M1"
      },
      "source": [
        "Todo esto después, o al menos en este caso sí que se puede mantener pero quizás mejor después. Descripción general de las variables del df:\n",
        "\n",
        "\n",
        "*   Variables numéricas\n",
        "      - numero_plazas\n",
        "*   Variables categóricas\n",
        "      - Consideramos únicamente distrito, barrio, color, bateria_linea\n",
        "\n"
      ]
    },
    {
      "cell_type": "code",
      "execution_count": null,
      "id": "68I-cZ07oJGp",
      "metadata": {
        "id": "68I-cZ07oJGp"
      },
      "outputs": [],
      "source": [
        "calles_ser['id'] = (calles_ser['cod_barrio'].astype(str) + \"_\" +\n",
        "                    calles_ser['cod_distrito'].astype(str) + \"_\" +\n",
        "                    calles_ser['numero_finca'].astype(str))"
      ]
    },
    {
      "cell_type": "code",
      "execution_count": null,
      "id": "pGykKToDpOha",
      "metadata": {
        "id": "pGykKToDpOha"
      },
      "outputs": [],
      "source": [
        "duplicados = calles_ser[calles_ser.duplicated(keep=False)]\n",
        "duplicados"
      ]
    },
    {
      "cell_type": "code",
      "execution_count": null,
      "id": "nn1d9ZEeqEdn",
      "metadata": {
        "id": "nn1d9ZEeqEdn"
      },
      "outputs": [],
      "source": [
        "calles_ser.drop_duplicates(inplace=True)"
      ]
    },
    {
      "cell_type": "code",
      "source": [
        "calles_ser['color'] = calles_ser['color'].replace({\n",
        "    '077214010 Verde': 'Verde',\n",
        "    '043000255 Azul': 'Azul',\n",
        "    '081209246 Alta Rotación': 'Alta Rotación',\n",
        "    '255140000 Naranja': 'Naranja',\n",
        "    '255000000 Rojo': 'Rojo'\n",
        "})\n"
      ],
      "metadata": {
        "id": "v97DH4y-BPXA"
      },
      "id": "v97DH4y-BPXA",
      "execution_count": null,
      "outputs": []
    },
    {
      "cell_type": "markdown",
      "id": "rWZzXhVAeSU2",
      "metadata": {
        "id": "rWZzXhVAeSU2"
      },
      "source": [
        "Vemos que la distribución del número de plazas es muy asimétrica, además de presentar una gran cantidad de outliers, lo cual es esperable en datos reales, que la mayoría de aparcamientos tengan entre 1 y 15 plazas, pero que haya muchos aparcamientos que puedan tener más. Estudiamos a continuación las variables categóricas."
      ]
    },
    {
      "cell_type": "markdown",
      "id": "ZhK3FEhJaaW7",
      "metadata": {
        "id": "ZhK3FEhJaaW7"
      },
      "source": [
        "Interpretación de las variables categóricas. De este dataframe nos interesa conocer la latitud y la longitud de cada zona SER, su color, si se trata de un aparcamiento en línea o en batería y el número de plazas que tiene. Mostrar visualización con el número de zona SER en cada barrio y poner etiqueta de color y símbolo dependiendo de si se trata de un aparcamiento en línea o en batería. Hacer el símbolo más grande conforme más numero_plazas tenga. El sistema de georreferenciación utilizado en los datos de coordenadas es ETRS89."
      ]
    },
    {
      "cell_type": "code",
      "execution_count": null,
      "id": "Xvy41DN0aZVM",
      "metadata": {
        "id": "Xvy41DN0aZVM"
      },
      "outputs": [],
      "source": [
        "from pyproj import Transformer\n",
        "\n",
        "transformer = Transformer.from_crs(\"EPSG:25830\", \"EPSG:4326\", always_xy=True)\n",
        "\n",
        "calles_ser['longitud'], calles_ser['latitud'] = transformer.transform(calles_ser['gis_x'].values, calles_ser['gis_y'].values)"
      ]
    },
    {
      "cell_type": "code",
      "source": [
        "calles_ser.to_csv(\"calles_ser_df.csv\", index=False)"
      ],
      "metadata": {
        "id": "hmBqaSWEL1-F"
      },
      "id": "hmBqaSWEL1-F",
      "execution_count": null,
      "outputs": []
    },
    {
      "cell_type": "code",
      "source": [
        "calles_ser = pd.read_csv('calles_ser_df.csv')"
      ],
      "metadata": {
        "id": "i9uA9jMJMW6G"
      },
      "id": "i9uA9jMJMW6G",
      "execution_count": null,
      "outputs": []
    },
    {
      "cell_type": "code",
      "execution_count": null,
      "id": "qF4f-Ssjjf7l",
      "metadata": {
        "id": "qF4f-Ssjjf7l"
      },
      "outputs": [],
      "source": [
        "parquimetros = pd.read_csv('parquimetros.csv', encoding = 'latin-1', sep = ';')"
      ]
    },
    {
      "cell_type": "code",
      "execution_count": null,
      "id": "B5K4zB7TqLUh",
      "metadata": {
        "id": "B5K4zB7TqLUh"
      },
      "outputs": [],
      "source": [
        "duplicados = parquimetros[parquimetros.duplicated(keep=False)]\n",
        "duplicados"
      ]
    },
    {
      "cell_type": "code",
      "execution_count": null,
      "id": "sEVk0rF46fX0",
      "metadata": {
        "id": "sEVk0rF46fX0"
      },
      "outputs": [],
      "source": [
        "parquimetros.drop_duplicates(inplace = True)"
      ]
    },
    {
      "cell_type": "code",
      "execution_count": null,
      "id": "Rd1qGSNYmBl4",
      "metadata": {
        "id": "Rd1qGSNYmBl4"
      },
      "outputs": [],
      "source": [
        "parquimetros.head(5)"
      ]
    },
    {
      "cell_type": "markdown",
      "id": "up0_i2Cql-WB",
      "metadata": {
        "id": "up0_i2Cql-WB"
      },
      "source": [
        "Quitamos los parquímetros que están dados de baja, vamos a interesarnos únicamente por los que están activos."
      ]
    },
    {
      "cell_type": "code",
      "execution_count": null,
      "id": "YqWzAofqljld",
      "metadata": {
        "id": "YqWzAofqljld"
      },
      "outputs": [],
      "source": [
        "parquimetros['matricula'] = parquimetros['matricula'].astype('Int64')\n",
        "parquimetros['matricula'] = parquimetros['matricula'].astype(str)"
      ]
    },
    {
      "cell_type": "code",
      "execution_count": null,
      "id": "daE1zEP_mSmV",
      "metadata": {
        "id": "daE1zEP_mSmV"
      },
      "outputs": [],
      "source": [
        "parquimetros = parquimetros[parquimetros['fecha_de_baja'].isna()]"
      ]
    },
    {
      "cell_type": "code",
      "execution_count": null,
      "id": "hDx-q04zmU7J",
      "metadata": {
        "id": "hDx-q04zmU7J"
      },
      "outputs": [],
      "source": [
        "parquimetros = parquimetros.drop(columns = ['fecha_de_baja'])"
      ]
    },
    {
      "cell_type": "code",
      "execution_count": null,
      "id": "uGJOIqcrmtU3",
      "metadata": {
        "id": "uGJOIqcrmtU3"
      },
      "outputs": [],
      "source": [
        "parquimetros.info()"
      ]
    },
    {
      "cell_type": "code",
      "execution_count": null,
      "id": "4pV7rJpVms0H",
      "metadata": {
        "id": "4pV7rJpVms0H"
      },
      "outputs": [],
      "source": [
        "parquimetros.head()"
      ]
    },
    {
      "cell_type": "code",
      "execution_count": null,
      "id": "l5H8XI6mm8je",
      "metadata": {
        "id": "l5H8XI6mm8je"
      },
      "outputs": [],
      "source": [
        "parquimetros['barrio'].value_counts()"
      ]
    },
    {
      "cell_type": "code",
      "execution_count": null,
      "id": "xD91WUbsnDj4",
      "metadata": {
        "id": "xD91WUbsnDj4"
      },
      "outputs": [],
      "source": [
        "calles_ser_parquimetro = pd.merge(parquimetros[['matricula','cod_distrito','cod_barrio','numero_finca','calle']],\n",
        "                                  calles_ser[['bateria_linea','color','latitud','longitud','cod_distrito','cod_barrio','numero_finca','calle','numero_plazas']],\n",
        "                                  on=['cod_distrito', 'cod_barrio', 'numero_finca','calle'],\n",
        "                                  how = 'inner',\n",
        "                                  )"
      ]
    },
    {
      "cell_type": "code",
      "execution_count": null,
      "id": "gvWUsehCnc37",
      "metadata": {
        "id": "gvWUsehCnc37"
      },
      "outputs": [],
      "source": [
        "calles_ser_parquimetro"
      ]
    },
    {
      "cell_type": "code",
      "execution_count": null,
      "id": "CZGpU-ZJqya9",
      "metadata": {
        "id": "CZGpU-ZJqya9"
      },
      "outputs": [],
      "source": [
        "# duplicados = calles_ser_parquimetro[calles_ser_parquimetro.duplicated(keep=False)]\n",
        "# duplicados"
      ]
    },
    {
      "cell_type": "code",
      "execution_count": null,
      "id": "I1i3jpOIq1ST",
      "metadata": {
        "id": "I1i3jpOIq1ST"
      },
      "outputs": [],
      "source": [
        "# calles_ser_parquimetro.drop_duplicates(inplace=True)"
      ]
    },
    {
      "cell_type": "markdown",
      "id": "XvSXi0lfe9pJ",
      "metadata": {
        "id": "XvSXi0lfe9pJ"
      },
      "source": [
        "Leemos los archivos que contienen la información de los tiquets de los parquímetros, como son archivos de millones filas y muchas columnas usamos Spark para su lectura y posteriores transformaciones hasta obtener un df adecuado para tratar con pandas."
      ]
    },
    {
      "cell_type": "code",
      "execution_count": null,
      "id": "igcGqcLShE3B",
      "metadata": {
        "id": "igcGqcLShE3B"
      },
      "outputs": [],
      "source": [
        "from pyspark.sql import SparkSession\n",
        "from pyspark.sql.functions import dayofmonth, month, col, count\n",
        "from pyspark.sql.functions import to_timestamp, date_format, when\n",
        "from pyspark.sql.functions import avg, count\n",
        "from pyspark.sql.functions import regexp_replace, col\n",
        "from pyspark.sql.types import FloatType"
      ]
    },
    {
      "cell_type": "code",
      "execution_count": null,
      "id": "Oypz119jP4Om",
      "metadata": {
        "id": "Oypz119jP4Om"
      },
      "outputs": [],
      "source": [
        "spark = SparkSession.builder \\\n",
        "    .appName(\"TiquetsParking\") \\\n",
        "    .getOrCreate()\n",
        "\n",
        "\n",
        "tiquets_1trimestre = spark.read.csv(\"Primertrimestre2025.csv\", header=True, inferSchema=True, sep=\";\")\n",
        "# tiquets_2trimestre = spark.read.csv(\"Primertrimestre2025.csv\", header=True, inferSchema=True, sep=\";\")\n",
        "\n",
        "tiquets = tiquets_1trimestre"
      ]
    },
    {
      "cell_type": "code",
      "execution_count": null,
      "id": "wVG3adUchXnz",
      "metadata": {
        "id": "wVG3adUchXnz"
      },
      "outputs": [],
      "source": [
        "tiquets.printSchema()"
      ]
    },
    {
      "cell_type": "code",
      "execution_count": null,
      "id": "qZ7m8L0Xha-1",
      "metadata": {
        "id": "qZ7m8L0Xha-1"
      },
      "outputs": [],
      "source": [
        "tiquets.show(5)"
      ]
    },
    {
      "cell_type": "code",
      "execution_count": null,
      "id": "X-DNdymwhjS0",
      "metadata": {
        "id": "X-DNdymwhjS0"
      },
      "outputs": [],
      "source": [
        "tiquets = tiquets.withColumn(\n",
        "    \"importe_tique\",\n",
        "    regexp_replace(\"importe_tique\", \",\", \".\").cast(FloatType())\n",
        ")"
      ]
    },
    {
      "cell_type": "code",
      "execution_count": null,
      "id": "5ud3uRcTge93",
      "metadata": {
        "id": "5ud3uRcTge93"
      },
      "outputs": [],
      "source": [
        "tiquets = tiquets.withColumn(\"dia\", date_format(col(\"fecha_operacion\"), \"dd-MM-yyyy\")) \\\n",
        "                 .withColumn(\"hora\", date_format(col(\"fecha_operacion\"), \"HH\"))\n",
        "\n",
        "tiquets = tiquets.withColumn(\"dia_semana\", date_format(col(\"fecha_operacion\"), \"EEEE\"))\n",
        "\n",
        "tiquets = tiquets.withColumn(\n",
        "    \"dia_semana\",\n",
        "    when(col(\"dia_semana\") == \"Monday\", 1)\n",
        "    .when(col(\"dia_semana\") == \"Tuesday\", 2)\n",
        "    .when(col(\"dia_semana\") == \"Wednesday\", 3)\n",
        "    .when(col(\"dia_semana\") == \"Thursday\", 4)\n",
        "    .when(col(\"dia_semana\") == \"Friday\", 5)\n",
        "    .when(col(\"dia_semana\") == \"Saturday\", 6)\n",
        "    .when(col(\"dia_semana\") == \"Sunday\", 7)\n",
        "    .otherwise(\"Desconocido\")\n",
        "    )\n",
        "\n",
        "tiquets = tiquets.withColumn(\"fin_de_semana\", when(col(\"dia_semana\").isin([6, 7]), 1).otherwise(0))\n",
        "\n",
        "tiquets = tiquets.withColumn(\"hora\",\n",
        "    when(col(\"hora\") == 0, 24).otherwise(col(\"hora\"))\n",
        ")\n",
        "\n",
        "tiquets = tiquets.withColumn(\"int_tiempo\", when((col(\"hora\") >= 6) & (col(\"hora\") < 12), \"Mañana\")\n",
        "                  .when((col(\"hora\") >= 12) & (col(\"hora\") < 19), \"Mediodia\")\n",
        "                  .when((col(\"hora\") >= 19) & (col(\"hora\") < 24), \"Tarde\")\n",
        "                  .otherwise(\"Noche\"))"
      ]
    },
    {
      "cell_type": "code",
      "execution_count": null,
      "id": "PbqcbsfBhvUy",
      "metadata": {
        "id": "PbqcbsfBhvUy"
      },
      "outputs": [],
      "source": [
        "tiquets.select(\"matricula_parquimetro\").distinct().count()"
      ]
    },
    {
      "cell_type": "code",
      "execution_count": null,
      "id": "Y3T8TYQ5iWZN",
      "metadata": {
        "id": "Y3T8TYQ5iWZN"
      },
      "outputs": [],
      "source": [
        "tiquets_agrupado = tiquets.groupBy(\"matricula_parquimetro\", \"int_tiempo\", \"fin_de_semana\").agg(\n",
        "    avg(\"minutos_tique\").alias(\"media_minutos\"),\n",
        "    avg(\"importe_tique\").alias(\"media_importe\"),\n",
        "    count(\"*\").alias(\"num_registros\")\n",
        ")\n",
        "\n",
        "tiquets_agrupado.show(5)"
      ]
    },
    {
      "cell_type": "code",
      "execution_count": null,
      "id": "k1DO6UrOie91",
      "metadata": {
        "id": "k1DO6UrOie91"
      },
      "outputs": [],
      "source": [
        "tiquets_agrupado.printSchema()"
      ]
    },
    {
      "cell_type": "code",
      "execution_count": null,
      "id": "FauwrvQjioku",
      "metadata": {
        "id": "FauwrvQjioku"
      },
      "outputs": [],
      "source": [
        "tiquets_agrupado.count()"
      ]
    },
    {
      "cell_type": "markdown",
      "id": "fOdJ8V83i1Mg",
      "metadata": {
        "id": "fOdJ8V83i1Mg"
      },
      "source": [
        "Volvemos a trabajar en pandas para unir la información relativa a los tiquets de cada parquímetros a la información de cada uno de ellos que teníamos anteriormente, para ello transformamos tiquets_agrupado a pandas."
      ]
    },
    {
      "cell_type": "code",
      "execution_count": null,
      "id": "xVx_5aoojyAR",
      "metadata": {
        "id": "xVx_5aoojyAR"
      },
      "outputs": [],
      "source": [
        "tiquets_df = tiquets_agrupado.toPandas()\n",
        "\n",
        "tiquets_df.head(5)"
      ]
    },
    {
      "cell_type": "code",
      "execution_count": null,
      "id": "niV3R76LqYzA",
      "metadata": {
        "id": "niV3R76LqYzA"
      },
      "outputs": [],
      "source": [
        "duplicados = tiquets_df[tiquets_df.duplicated(keep=False)]\n",
        "duplicados"
      ]
    },
    {
      "cell_type": "code",
      "execution_count": null,
      "id": "3Ean4paTl6Rj",
      "metadata": {
        "id": "3Ean4paTl6Rj"
      },
      "outputs": [],
      "source": [
        "tiquets_df.info()"
      ]
    },
    {
      "cell_type": "code",
      "execution_count": null,
      "id": "VtNmDWY6l9M7",
      "metadata": {
        "id": "VtNmDWY6l9M7"
      },
      "outputs": [],
      "source": [
        "parquimetros.head()"
      ]
    },
    {
      "cell_type": "code",
      "execution_count": null,
      "id": "20nqCzsZkL_8",
      "metadata": {
        "id": "20nqCzsZkL_8"
      },
      "outputs": [],
      "source": [
        "parkings_info = pd.merge(tiquets_df, parquimetros, left_on='matricula_parquimetro', right_on='matricula', how='inner')\n"
      ]
    },
    {
      "cell_type": "markdown",
      "id": "rLYacTkonHbb",
      "metadata": {
        "id": "rLYacTkonHbb"
      },
      "source": [
        "No vamos a usar más ni la matrícula de los parquímetros ni el importe de los tiquets (nos da igual porque hay zonas verdes en los que no hay importe y estamos considerando aspectos generales de todas las zonas ser)"
      ]
    },
    {
      "cell_type": "code",
      "execution_count": null,
      "id": "_EAQwr_GlwAT",
      "metadata": {
        "id": "_EAQwr_GlwAT"
      },
      "outputs": [],
      "source": [
        "parkings_info = parkings_info[['int_tiempo', 'fin_de_semana', 'media_minutos', 'num_registros', 'cod_distrito', 'cod_barrio', 'calle','numero_finca','longitud','latitud']]"
      ]
    },
    {
      "cell_type": "code",
      "execution_count": null,
      "id": "I3jV1WiepP5k",
      "metadata": {
        "id": "I3jV1WiepP5k"
      },
      "outputs": [],
      "source": [
        "parkings_info.head()"
      ]
    },
    {
      "cell_type": "markdown",
      "id": "IXyDdpcMi1Ir",
      "metadata": {
        "id": "IXyDdpcMi1Ir"
      },
      "source": [
        "Falta tráfico y el número de plazas"
      ]
    },
    {
      "cell_type": "code",
      "execution_count": null,
      "id": "j0EeT86LpIVS",
      "metadata": {
        "id": "j0EeT86LpIVS"
      },
      "outputs": [],
      "source": [
        "parkings_info = pd.merge(parkings_info,\n",
        "                         calles_ser[['cod_barrio','calle','numero_finca','numero_plazas','color','bateria_linea','gis_x','gis_y']],\n",
        "                         on = ['cod_barrio','calle','numero_finca'],\n",
        "                         how = 'inner')"
      ]
    },
    {
      "cell_type": "code",
      "execution_count": null,
      "id": "VfhRKi4vnlVm",
      "metadata": {
        "id": "VfhRKi4vnlVm"
      },
      "outputs": [],
      "source": [
        "parkings_info.head()"
      ]
    },
    {
      "cell_type": "code",
      "execution_count": null,
      "id": "XGlWRJSoqhwH",
      "metadata": {
        "id": "XGlWRJSoqhwH"
      },
      "outputs": [],
      "source": [
        "parkings_info.info()"
      ]
    },
    {
      "cell_type": "code",
      "execution_count": null,
      "id": "3SZqjlU9qj00",
      "metadata": {
        "id": "3SZqjlU9qj00"
      },
      "outputs": [],
      "source": [
        "duplicados = parkings_info[parkings_info.duplicated(keep=False)]\n",
        "duplicados"
      ]
    },
    {
      "cell_type": "markdown",
      "id": "yxzAIvZVrsfp",
      "metadata": {
        "id": "yxzAIvZVrsfp"
      },
      "source": [
        "Vamos a leer únicamente datos de tráfico de enero a marzo del 2025, los correspondientes al primer trimestre para así tener consistencia con los datos de tiquets, que el archivo para datos más actuales está dañado"
      ]
    },
    {
      "cell_type": "code",
      "execution_count": null,
      "id": "f9RVVTwApahz",
      "metadata": {
        "id": "f9RVVTwApahz"
      },
      "outputs": [],
      "source": [
        "datos_enero = spark.read.csv(\"01-2025.csv\", header=True, inferSchema=True, sep=\";\")\n",
        "datos_febrero = spark.read.csv(\"02-2025.csv\", header=True, inferSchema=True, sep=\";\")\n",
        "datos_marzo = spark.read.csv(\"03-2025.csv\", header=True, inferSchema=True, sep=\";\")\n",
        "\n",
        "trafico = datos_enero.unionByName(datos_febrero).unionByName(datos_marzo)"
      ]
    },
    {
      "cell_type": "code",
      "execution_count": null,
      "id": "pF1U8RGjsCHs",
      "metadata": {
        "id": "pF1U8RGjsCHs"
      },
      "outputs": [],
      "source": [
        "trafico.show(5)\n",
        "trafico.printSchema()"
      ]
    },
    {
      "cell_type": "code",
      "execution_count": null,
      "id": "UV_e4AJxsExU",
      "metadata": {
        "id": "UV_e4AJxsExU"
      },
      "outputs": [],
      "source": [
        "trafico.count()"
      ]
    },
    {
      "cell_type": "code",
      "execution_count": null,
      "id": "rV0qev0DsHfW",
      "metadata": {
        "id": "rV0qev0DsHfW"
      },
      "outputs": [],
      "source": [
        "trafico = trafico.withColumn(\"dia\", date_format(col(\"fecha\"), \"dd-MM-yyyy\")) \\\n",
        "                 .withColumn(\"hora\", date_format(col(\"fecha\"), \"HH\"))\n",
        "\n",
        "trafico = trafico.withColumn(\"dia_semana\", date_format(col(\"fecha\"), \"EEEE\"))\n",
        "\n",
        "trafico = trafico.withColumn(\n",
        "    \"dia_semana\",\n",
        "    when(col(\"dia_semana\") == \"Monday\", 1)\n",
        "    .when(col(\"dia_semana\") == \"Tuesday\", 2)\n",
        "    .when(col(\"dia_semana\") == \"Wednesday\", 3)\n",
        "    .when(col(\"dia_semana\") == \"Thursday\", 4)\n",
        "    .when(col(\"dia_semana\") == \"Friday\", 5)\n",
        "    .when(col(\"dia_semana\") == \"Saturday\", 6)\n",
        "    .when(col(\"dia_semana\") == \"Sunday\", 7)\n",
        "    .otherwise(\"Desconocido\")\n",
        "    )\n",
        "\n",
        "trafico = trafico.withColumn(\"fin_de_semana\", when(col(\"dia_semana\").isin([6, 7]), 1).otherwise(0))\n",
        "\n",
        "trafico = trafico.withColumn(\"hora\",\n",
        "    when(col(\"hora\") == 0, 24).otherwise(col(\"hora\"))\n",
        ")\n",
        "\n",
        "trafico = trafico.withColumn(\"int_tiempo\", when((col(\"hora\") >= 6) & (col(\"hora\") < 12), \"Mañana\")\n",
        "                  .when((col(\"hora\") >= 12) & (col(\"hora\") < 19), \"Mediodia\")\n",
        "                  .when((col(\"hora\") >= 19) & (col(\"hora\") < 24), \"Tarde\")\n",
        "                  .otherwise(\"Noche\"))"
      ]
    },
    {
      "cell_type": "code",
      "execution_count": null,
      "id": "WK1hom0StYn-",
      "metadata": {
        "id": "WK1hom0StYn-"
      },
      "outputs": [],
      "source": [
        "trafico.show(5)"
      ]
    },
    {
      "cell_type": "code",
      "execution_count": null,
      "id": "eb-GhLUbtaj5",
      "metadata": {
        "id": "eb-GhLUbtaj5"
      },
      "outputs": [],
      "source": [
        "from pyspark.sql.functions import avg\n",
        "\n",
        "trafico_agrupado = trafico.groupBy(\"int_tiempo\",\"fin_de_semana\",\"id\").agg(\n",
        "    avg(\"intensidad\").alias(\"media_intensidad\"),\n",
        "    avg(\"ocupacion\").alias(\"media_ocupacion\"),\n",
        "    avg(\"carga\").alias(\"media_carga\")\n",
        ")"
      ]
    },
    {
      "cell_type": "code",
      "execution_count": null,
      "id": "Cl4rVy6nt6ak",
      "metadata": {
        "id": "Cl4rVy6nt6ak"
      },
      "outputs": [],
      "source": [
        "trafico_agrupado.count()"
      ]
    },
    {
      "cell_type": "code",
      "execution_count": null,
      "id": "-fBekGWmt8JT",
      "metadata": {
        "id": "-fBekGWmt8JT"
      },
      "outputs": [],
      "source": [
        "trafico_agrupado.show(5)"
      ]
    },
    {
      "cell_type": "code",
      "execution_count": null,
      "id": "miD_na4FwAiH",
      "metadata": {
        "id": "miD_na4FwAiH"
      },
      "outputs": [],
      "source": [
        "trafico_df = trafico_agrupado.toPandas()"
      ]
    },
    {
      "cell_type": "code",
      "execution_count": null,
      "id": "GZlTCT18BsCa",
      "metadata": {
        "id": "GZlTCT18BsCa"
      },
      "outputs": [],
      "source": [
        "trafico_df['id'] = trafico_df['id'].astype(str)"
      ]
    },
    {
      "cell_type": "code",
      "execution_count": null,
      "id": "FuifCI2VuV87",
      "metadata": {
        "id": "FuifCI2VuV87"
      },
      "outputs": [],
      "source": [
        "import pandas as pd\n",
        "ubicacion_pmed = pd.read_csv(\"pmed_ubicacion_06-2025.csv\",  encoding = 'latin-1', sep = ';')"
      ]
    },
    {
      "cell_type": "code",
      "execution_count": null,
      "id": "0ItqOnCpBaKB",
      "metadata": {
        "id": "0ItqOnCpBaKB"
      },
      "outputs": [],
      "source": [
        "ubicacion_pmed.info()"
      ]
    },
    {
      "cell_type": "code",
      "execution_count": null,
      "id": "vc8fXA_u-v57",
      "metadata": {
        "id": "vc8fXA_u-v57"
      },
      "outputs": [],
      "source": [
        "ubicacion_pmed['id'] = ubicacion_pmed['id'].astype(str)"
      ]
    },
    {
      "cell_type": "code",
      "execution_count": null,
      "id": "r_Y2EH5-vx4W",
      "metadata": {
        "id": "r_Y2EH5-vx4W"
      },
      "outputs": [],
      "source": [
        "trafico_df = pd.merge(trafico_df,\n",
        "                      ubicacion_pmed[['id','longitud','latitud']],\n",
        "                      on='id',\n",
        "                      how='left')"
      ]
    },
    {
      "cell_type": "code",
      "execution_count": null,
      "id": "gGjySxpDv-TN",
      "metadata": {
        "id": "gGjySxpDv-TN"
      },
      "outputs": [],
      "source": [
        "trafico_df"
      ]
    },
    {
      "cell_type": "code",
      "source": [
        "trafico_df.to_csv(\"trafico_df.csv\", index=False)"
      ],
      "metadata": {
        "id": "fRHmTs7YJpWF"
      },
      "id": "fRHmTs7YJpWF",
      "execution_count": null,
      "outputs": []
    },
    {
      "cell_type": "code",
      "source": [
        "import pandas as pd\n",
        "import geopandas as gpd\n",
        "from shapely.geometry import Point\n",
        "import plotly.express as px\n",
        "import plotly.graph_objects as go\n",
        "from plotly.subplots import make_subplots\n",
        "import numpy as np\n",
        "from sklearn.model_selection import train_test_split\n",
        "import xgboost as xgb\n",
        "from sklearn.model_selection import TimeSeriesSplit\n",
        "from sklearn.model_selection import RandomizedSearchCV\n",
        "from sklearn.metrics import mean_absolute_error, mean_squared_error, r2_score\n",
        "from scipy.stats import randint\n",
        "from sklearn.ensemble import RandomForestRegressor"
      ],
      "metadata": {
        "id": "QkOkrM4yjiWC"
      },
      "id": "QkOkrM4yjiWC",
      "execution_count": 136,
      "outputs": []
    },
    {
      "cell_type": "markdown",
      "source": [
        "## Tratamiento espacial de los datos\n",
        "Tras haber leido los datos, a parte haciendo uso de spark, y haber hecho las modificaciones pertinentes, trabajamos ahora en google collab para el tratamiento espacial de los datos. Buscamos como finalidad llegar a dos dataset finales, uno con información de parquímetros y el otro sin información de parquímetros."
      ],
      "metadata": {
        "id": "l5B-oae2j3Lm"
      },
      "id": "l5B-oae2j3Lm"
    },
    {
      "cell_type": "code",
      "source": [
        "calles_ser = pd.read_csv(\"tfm_zonas_ser/calles_ser_df.csv\")\n",
        "parkings_info = pd.read_csv(\"tfm_zonas_ser/parking_info_df.csv\")\n",
        "trafico_df = pd.read_csv(\"tfm_zonas_ser/trafico_df.csv\")"
      ],
      "metadata": {
        "id": "xXAsSuaUjVe2"
      },
      "id": "xXAsSuaUjVe2",
      "execution_count": 5,
      "outputs": []
    },
    {
      "cell_type": "code",
      "source": [
        "trafico_df.info()"
      ],
      "metadata": {
        "id": "PJIEIOdvoWjc"
      },
      "id": "PJIEIOdvoWjc",
      "execution_count": null,
      "outputs": []
    },
    {
      "cell_type": "markdown",
      "source": [
        "Vemos que el dataframe trafico_df tiene valores nulos de longitud y latitud, los eliminamos"
      ],
      "metadata": {
        "id": "47iK8u1Womwh"
      },
      "id": "47iK8u1Womwh"
    },
    {
      "cell_type": "code",
      "source": [
        "trafico_df[trafico_df.isna().any(axis=1)]"
      ],
      "metadata": {
        "id": "HDBngZWvoF8e"
      },
      "id": "HDBngZWvoF8e",
      "execution_count": null,
      "outputs": []
    },
    {
      "cell_type": "code",
      "source": [
        "trafico_df = trafico_df.dropna()"
      ],
      "metadata": {
        "id": "zYnpJ_MpouF4"
      },
      "id": "zYnpJ_MpouF4",
      "execution_count": null,
      "outputs": []
    },
    {
      "cell_type": "markdown",
      "id": "8aDVZhtexxq5",
      "metadata": {
        "id": "8aDVZhtexxq5"
      },
      "source": [
        "Para unir el tráfico a la información de las zonas SER he decidido considerar geometría mediante geospanda. La componente espacial de los datos la tratamos mediante geometría"
      ]
    },
    {
      "cell_type": "code",
      "execution_count": 6,
      "id": "k2VCpYTFw-48",
      "metadata": {
        "id": "k2VCpYTFw-48"
      },
      "outputs": [],
      "source": [
        "# Se añaden a los datasets una nueva columna a la que se llama geometria la cual contiene el punto (latitud, longitud)\n",
        "trafico_df['geometria'] = trafico_df.apply(lambda row: Point(row['longitud'], row['latitud']), axis=1)\n",
        "parkings_info['geometria'] = parkings_info.apply(lambda row: Point(row['longitud'], row['latitud']), axis=1)\n",
        "\n",
        "# Transformamos los dataframes a geodataframes haciendo uso de la columna geometria que se define arriba\n",
        "geo_trafico = gpd.GeoDataFrame(trafico_df, geometry='geometria', crs=\"EPSG:4326\")\n",
        "geo_parkings_info = gpd.GeoDataFrame(parkings_info, geometry='geometria', crs=\"EPSG:4326\")"
      ]
    },
    {
      "cell_type": "code",
      "execution_count": 7,
      "id": "yg8Z0iyfyp4i",
      "metadata": {
        "id": "yg8Z0iyfyp4i"
      },
      "outputs": [],
      "source": [
        "# Se modifica el sistema de coordenadas a EPSG:25830 corresponde al sistema ETRS89 / UTM zone 30N, usado comúnmente en España.\n",
        "# Este sistema utiliza coordenadas planas en metros (en lugar de latitud/longitud en grados), lo cual es ideal para:\n",
        "# Calcular distancias con precisión.\n",
        "# Hacer uniones espaciales (spatial joins).\n",
        "# Trabajar con buffers y análisis espacial.\n",
        "geo_trafico = geo_trafico.to_crs(epsg=25830)\n",
        "geo_parkings_info = geo_parkings_info.to_crs(epsg=25830)"
      ]
    },
    {
      "cell_type": "markdown",
      "source": [
        "El interés de utilizar geodataframes es poder hacer join por cercanía, así para cada zona SER del dataframe, intervalo de tiempo y tipo de día se le asigna el tráfico correspondiente más cercano, para el mismo intervalo de tiempo y tipo de día. Esto se hace mediante la función sjoin_nearest:"
      ],
      "metadata": {
        "id": "duZXDTGEl-3r"
      },
      "id": "duZXDTGEl-3r"
    },
    {
      "cell_type": "code",
      "execution_count": 8,
      "id": "jTVcFJmQRANY",
      "metadata": {
        "id": "jTVcFJmQRANY"
      },
      "outputs": [],
      "source": [
        "# Lista para guardar resultados parciales\n",
        "resultados = []\n",
        "\n",
        "# Se obtienen grupos únicos combinados de las columnas clave\n",
        "grupos = geo_parkings_info[['fin_de_semana', 'int_tiempo']].drop_duplicates()\n",
        "\n",
        "for _, grupo in grupos.iterrows():\n",
        "    # Se filtran los dataframes que se van a unir según el subconjunto considerado\n",
        "    subset_parkings = geo_parkings_info[(geo_parkings_info['fin_de_semana'] == grupo['fin_de_semana']) & (geo_parkings_info['int_tiempo'] == grupo['int_tiempo'])]\n",
        "    subset_trafico = geo_trafico[(geo_trafico['fin_de_semana'] == grupo['fin_de_semana']) & (geo_trafico['int_tiempo'] == grupo['int_tiempo'])]\n",
        "\n",
        "    # Se hace sjoin_nearest para el grupo filtrado\n",
        "    join = gpd.sjoin_nearest(\n",
        "        subset_parkings[['geometria','int_tiempo','fin_de_semana','media_minutos','num_registros','numero_plazas','color','bateria_linea']],\n",
        "        subset_trafico[['geometria', 'media_intensidad', 'media_carga', 'media_ocupacion']],\n",
        "        how='left',\n",
        "        distance_col='distance'\n",
        "    )\n",
        "\n",
        "    # Se van almacenando los resultados\n",
        "    resultados.append(join)\n",
        "\n",
        "# Finalmente se concatenan todos los resultados\n",
        "geo_parking_info_completo = gpd.GeoDataFrame(pd.concat(resultados, ignore_index=True))\n"
      ]
    },
    {
      "cell_type": "code",
      "execution_count": 9,
      "id": "9vCYFYqkRBhV",
      "metadata": {
        "id": "9vCYFYqkRBhV",
        "outputId": "0e8a0c48-a7cb-445b-a547-f5e577354ae8",
        "colab": {
          "base_uri": "https://localhost:8080/",
          "height": 399
        }
      },
      "outputs": [
        {
          "output_type": "execute_result",
          "data": {
            "text/plain": [
              "                        geometria int_tiempo  fin_de_semana  media_minutos  \\\n",
              "0  POINT (445059.292 4477173.243)     Mañana              0     118.545946   \n",
              "1   POINT (442377.916 4474603.17)     Mañana              0     201.957692   \n",
              "2   POINT (439622.57 4475927.444)     Mañana              0     178.323944   \n",
              "3  POINT (440853.491 4478666.342)     Mañana              0     131.340289   \n",
              "4  POINT (440853.491 4478666.342)     Mañana              0     131.340289   \n",
              "\n",
              "   num_registros  numero_plazas  color bateria_linea  index_right  \\\n",
              "0            370             18  Verde       Batería        15638   \n",
              "1            260             11  Verde         Línea         4957   \n",
              "2            355             11  Verde       Batería        23473   \n",
              "3            623             10  Verde       Batería        19310   \n",
              "4            623              4  Verde       Batería        19310   \n",
              "\n",
              "   media_intensidad  media_carga  media_ocupacion    distance  \n",
              "0        122.227807    35.662533        32.012402  237.521142  \n",
              "1        895.170033    30.332248         9.065147   80.449773  \n",
              "2        128.001304    21.393090         6.591265   48.692724  \n",
              "3        160.874267     9.847557         2.074919   62.726568  \n",
              "4        160.874267     9.847557         2.074919   62.726568  "
            ],
            "text/html": [
              "\n",
              "  <div id=\"df-68c3c647-a504-4875-9153-19ffb68923f4\" class=\"colab-df-container\">\n",
              "    <div>\n",
              "<style scoped>\n",
              "    .dataframe tbody tr th:only-of-type {\n",
              "        vertical-align: middle;\n",
              "    }\n",
              "\n",
              "    .dataframe tbody tr th {\n",
              "        vertical-align: top;\n",
              "    }\n",
              "\n",
              "    .dataframe thead th {\n",
              "        text-align: right;\n",
              "    }\n",
              "</style>\n",
              "<table border=\"1\" class=\"dataframe\">\n",
              "  <thead>\n",
              "    <tr style=\"text-align: right;\">\n",
              "      <th></th>\n",
              "      <th>geometria</th>\n",
              "      <th>int_tiempo</th>\n",
              "      <th>fin_de_semana</th>\n",
              "      <th>media_minutos</th>\n",
              "      <th>num_registros</th>\n",
              "      <th>numero_plazas</th>\n",
              "      <th>color</th>\n",
              "      <th>bateria_linea</th>\n",
              "      <th>index_right</th>\n",
              "      <th>media_intensidad</th>\n",
              "      <th>media_carga</th>\n",
              "      <th>media_ocupacion</th>\n",
              "      <th>distance</th>\n",
              "    </tr>\n",
              "  </thead>\n",
              "  <tbody>\n",
              "    <tr>\n",
              "      <th>0</th>\n",
              "      <td>POINT (445059.292 4477173.243)</td>\n",
              "      <td>Mañana</td>\n",
              "      <td>0</td>\n",
              "      <td>118.545946</td>\n",
              "      <td>370</td>\n",
              "      <td>18</td>\n",
              "      <td>Verde</td>\n",
              "      <td>Batería</td>\n",
              "      <td>15638</td>\n",
              "      <td>122.227807</td>\n",
              "      <td>35.662533</td>\n",
              "      <td>32.012402</td>\n",
              "      <td>237.521142</td>\n",
              "    </tr>\n",
              "    <tr>\n",
              "      <th>1</th>\n",
              "      <td>POINT (442377.916 4474603.17)</td>\n",
              "      <td>Mañana</td>\n",
              "      <td>0</td>\n",
              "      <td>201.957692</td>\n",
              "      <td>260</td>\n",
              "      <td>11</td>\n",
              "      <td>Verde</td>\n",
              "      <td>Línea</td>\n",
              "      <td>4957</td>\n",
              "      <td>895.170033</td>\n",
              "      <td>30.332248</td>\n",
              "      <td>9.065147</td>\n",
              "      <td>80.449773</td>\n",
              "    </tr>\n",
              "    <tr>\n",
              "      <th>2</th>\n",
              "      <td>POINT (439622.57 4475927.444)</td>\n",
              "      <td>Mañana</td>\n",
              "      <td>0</td>\n",
              "      <td>178.323944</td>\n",
              "      <td>355</td>\n",
              "      <td>11</td>\n",
              "      <td>Verde</td>\n",
              "      <td>Batería</td>\n",
              "      <td>23473</td>\n",
              "      <td>128.001304</td>\n",
              "      <td>21.393090</td>\n",
              "      <td>6.591265</td>\n",
              "      <td>48.692724</td>\n",
              "    </tr>\n",
              "    <tr>\n",
              "      <th>3</th>\n",
              "      <td>POINT (440853.491 4478666.342)</td>\n",
              "      <td>Mañana</td>\n",
              "      <td>0</td>\n",
              "      <td>131.340289</td>\n",
              "      <td>623</td>\n",
              "      <td>10</td>\n",
              "      <td>Verde</td>\n",
              "      <td>Batería</td>\n",
              "      <td>19310</td>\n",
              "      <td>160.874267</td>\n",
              "      <td>9.847557</td>\n",
              "      <td>2.074919</td>\n",
              "      <td>62.726568</td>\n",
              "    </tr>\n",
              "    <tr>\n",
              "      <th>4</th>\n",
              "      <td>POINT (440853.491 4478666.342)</td>\n",
              "      <td>Mañana</td>\n",
              "      <td>0</td>\n",
              "      <td>131.340289</td>\n",
              "      <td>623</td>\n",
              "      <td>4</td>\n",
              "      <td>Verde</td>\n",
              "      <td>Batería</td>\n",
              "      <td>19310</td>\n",
              "      <td>160.874267</td>\n",
              "      <td>9.847557</td>\n",
              "      <td>2.074919</td>\n",
              "      <td>62.726568</td>\n",
              "    </tr>\n",
              "  </tbody>\n",
              "</table>\n",
              "</div>\n",
              "    <div class=\"colab-df-buttons\">\n",
              "\n",
              "  <div class=\"colab-df-container\">\n",
              "    <button class=\"colab-df-convert\" onclick=\"convertToInteractive('df-68c3c647-a504-4875-9153-19ffb68923f4')\"\n",
              "            title=\"Convert this dataframe to an interactive table.\"\n",
              "            style=\"display:none;\">\n",
              "\n",
              "  <svg xmlns=\"http://www.w3.org/2000/svg\" height=\"24px\" viewBox=\"0 -960 960 960\">\n",
              "    <path d=\"M120-120v-720h720v720H120Zm60-500h600v-160H180v160Zm220 220h160v-160H400v160Zm0 220h160v-160H400v160ZM180-400h160v-160H180v160Zm440 0h160v-160H620v160ZM180-180h160v-160H180v160Zm440 0h160v-160H620v160Z\"/>\n",
              "  </svg>\n",
              "    </button>\n",
              "\n",
              "  <style>\n",
              "    .colab-df-container {\n",
              "      display:flex;\n",
              "      gap: 12px;\n",
              "    }\n",
              "\n",
              "    .colab-df-convert {\n",
              "      background-color: #E8F0FE;\n",
              "      border: none;\n",
              "      border-radius: 50%;\n",
              "      cursor: pointer;\n",
              "      display: none;\n",
              "      fill: #1967D2;\n",
              "      height: 32px;\n",
              "      padding: 0 0 0 0;\n",
              "      width: 32px;\n",
              "    }\n",
              "\n",
              "    .colab-df-convert:hover {\n",
              "      background-color: #E2EBFA;\n",
              "      box-shadow: 0px 1px 2px rgba(60, 64, 67, 0.3), 0px 1px 3px 1px rgba(60, 64, 67, 0.15);\n",
              "      fill: #174EA6;\n",
              "    }\n",
              "\n",
              "    .colab-df-buttons div {\n",
              "      margin-bottom: 4px;\n",
              "    }\n",
              "\n",
              "    [theme=dark] .colab-df-convert {\n",
              "      background-color: #3B4455;\n",
              "      fill: #D2E3FC;\n",
              "    }\n",
              "\n",
              "    [theme=dark] .colab-df-convert:hover {\n",
              "      background-color: #434B5C;\n",
              "      box-shadow: 0px 1px 3px 1px rgba(0, 0, 0, 0.15);\n",
              "      filter: drop-shadow(0px 1px 2px rgba(0, 0, 0, 0.3));\n",
              "      fill: #FFFFFF;\n",
              "    }\n",
              "  </style>\n",
              "\n",
              "    <script>\n",
              "      const buttonEl =\n",
              "        document.querySelector('#df-68c3c647-a504-4875-9153-19ffb68923f4 button.colab-df-convert');\n",
              "      buttonEl.style.display =\n",
              "        google.colab.kernel.accessAllowed ? 'block' : 'none';\n",
              "\n",
              "      async function convertToInteractive(key) {\n",
              "        const element = document.querySelector('#df-68c3c647-a504-4875-9153-19ffb68923f4');\n",
              "        const dataTable =\n",
              "          await google.colab.kernel.invokeFunction('convertToInteractive',\n",
              "                                                    [key], {});\n",
              "        if (!dataTable) return;\n",
              "\n",
              "        const docLinkHtml = 'Like what you see? Visit the ' +\n",
              "          '<a target=\"_blank\" href=https://colab.research.google.com/notebooks/data_table.ipynb>data table notebook</a>'\n",
              "          + ' to learn more about interactive tables.';\n",
              "        element.innerHTML = '';\n",
              "        dataTable['output_type'] = 'display_data';\n",
              "        await google.colab.output.renderOutput(dataTable, element);\n",
              "        const docLink = document.createElement('div');\n",
              "        docLink.innerHTML = docLinkHtml;\n",
              "        element.appendChild(docLink);\n",
              "      }\n",
              "    </script>\n",
              "  </div>\n",
              "\n",
              "\n",
              "    <div id=\"df-9a9d8f20-e394-4c8d-8016-d61e897f10a8\">\n",
              "      <button class=\"colab-df-quickchart\" onclick=\"quickchart('df-9a9d8f20-e394-4c8d-8016-d61e897f10a8')\"\n",
              "                title=\"Suggest charts\"\n",
              "                style=\"display:none;\">\n",
              "\n",
              "<svg xmlns=\"http://www.w3.org/2000/svg\" height=\"24px\"viewBox=\"0 0 24 24\"\n",
              "     width=\"24px\">\n",
              "    <g>\n",
              "        <path d=\"M19 3H5c-1.1 0-2 .9-2 2v14c0 1.1.9 2 2 2h14c1.1 0 2-.9 2-2V5c0-1.1-.9-2-2-2zM9 17H7v-7h2v7zm4 0h-2V7h2v10zm4 0h-2v-4h2v4z\"/>\n",
              "    </g>\n",
              "</svg>\n",
              "      </button>\n",
              "\n",
              "<style>\n",
              "  .colab-df-quickchart {\n",
              "      --bg-color: #E8F0FE;\n",
              "      --fill-color: #1967D2;\n",
              "      --hover-bg-color: #E2EBFA;\n",
              "      --hover-fill-color: #174EA6;\n",
              "      --disabled-fill-color: #AAA;\n",
              "      --disabled-bg-color: #DDD;\n",
              "  }\n",
              "\n",
              "  [theme=dark] .colab-df-quickchart {\n",
              "      --bg-color: #3B4455;\n",
              "      --fill-color: #D2E3FC;\n",
              "      --hover-bg-color: #434B5C;\n",
              "      --hover-fill-color: #FFFFFF;\n",
              "      --disabled-bg-color: #3B4455;\n",
              "      --disabled-fill-color: #666;\n",
              "  }\n",
              "\n",
              "  .colab-df-quickchart {\n",
              "    background-color: var(--bg-color);\n",
              "    border: none;\n",
              "    border-radius: 50%;\n",
              "    cursor: pointer;\n",
              "    display: none;\n",
              "    fill: var(--fill-color);\n",
              "    height: 32px;\n",
              "    padding: 0;\n",
              "    width: 32px;\n",
              "  }\n",
              "\n",
              "  .colab-df-quickchart:hover {\n",
              "    background-color: var(--hover-bg-color);\n",
              "    box-shadow: 0 1px 2px rgba(60, 64, 67, 0.3), 0 1px 3px 1px rgba(60, 64, 67, 0.15);\n",
              "    fill: var(--button-hover-fill-color);\n",
              "  }\n",
              "\n",
              "  .colab-df-quickchart-complete:disabled,\n",
              "  .colab-df-quickchart-complete:disabled:hover {\n",
              "    background-color: var(--disabled-bg-color);\n",
              "    fill: var(--disabled-fill-color);\n",
              "    box-shadow: none;\n",
              "  }\n",
              "\n",
              "  .colab-df-spinner {\n",
              "    border: 2px solid var(--fill-color);\n",
              "    border-color: transparent;\n",
              "    border-bottom-color: var(--fill-color);\n",
              "    animation:\n",
              "      spin 1s steps(1) infinite;\n",
              "  }\n",
              "\n",
              "  @keyframes spin {\n",
              "    0% {\n",
              "      border-color: transparent;\n",
              "      border-bottom-color: var(--fill-color);\n",
              "      border-left-color: var(--fill-color);\n",
              "    }\n",
              "    20% {\n",
              "      border-color: transparent;\n",
              "      border-left-color: var(--fill-color);\n",
              "      border-top-color: var(--fill-color);\n",
              "    }\n",
              "    30% {\n",
              "      border-color: transparent;\n",
              "      border-left-color: var(--fill-color);\n",
              "      border-top-color: var(--fill-color);\n",
              "      border-right-color: var(--fill-color);\n",
              "    }\n",
              "    40% {\n",
              "      border-color: transparent;\n",
              "      border-right-color: var(--fill-color);\n",
              "      border-top-color: var(--fill-color);\n",
              "    }\n",
              "    60% {\n",
              "      border-color: transparent;\n",
              "      border-right-color: var(--fill-color);\n",
              "    }\n",
              "    80% {\n",
              "      border-color: transparent;\n",
              "      border-right-color: var(--fill-color);\n",
              "      border-bottom-color: var(--fill-color);\n",
              "    }\n",
              "    90% {\n",
              "      border-color: transparent;\n",
              "      border-bottom-color: var(--fill-color);\n",
              "    }\n",
              "  }\n",
              "</style>\n",
              "\n",
              "      <script>\n",
              "        async function quickchart(key) {\n",
              "          const quickchartButtonEl =\n",
              "            document.querySelector('#' + key + ' button');\n",
              "          quickchartButtonEl.disabled = true;  // To prevent multiple clicks.\n",
              "          quickchartButtonEl.classList.add('colab-df-spinner');\n",
              "          try {\n",
              "            const charts = await google.colab.kernel.invokeFunction(\n",
              "                'suggestCharts', [key], {});\n",
              "          } catch (error) {\n",
              "            console.error('Error during call to suggestCharts:', error);\n",
              "          }\n",
              "          quickchartButtonEl.classList.remove('colab-df-spinner');\n",
              "          quickchartButtonEl.classList.add('colab-df-quickchart-complete');\n",
              "        }\n",
              "        (() => {\n",
              "          let quickchartButtonEl =\n",
              "            document.querySelector('#df-9a9d8f20-e394-4c8d-8016-d61e897f10a8 button');\n",
              "          quickchartButtonEl.style.display =\n",
              "            google.colab.kernel.accessAllowed ? 'block' : 'none';\n",
              "        })();\n",
              "      </script>\n",
              "    </div>\n",
              "\n",
              "    </div>\n",
              "  </div>\n"
            ],
            "application/vnd.google.colaboratory.intrinsic+json": {
              "type": "dataframe",
              "variable_name": "geo_parking_info_completo",
              "summary": "{\n  \"name\": \"geo_parking_info_completo\",\n  \"rows\": 47214,\n  \"fields\": [\n    {\n      \"column\": \"geometria\",\n      \"properties\": {\n        \"dtype\": \"geometry\",\n        \"num_unique_values\": 2927,\n        \"samples\": [\n          \"POINT (439248.6328814961 4478405.47824923)\",\n          \"POINT (440063.4235603775 4472439.060802982)\",\n          \"POINT (441959.26978444506 4472233.411136357)\"\n        ],\n        \"semantic_type\": \"\",\n        \"description\": \"\"\n      }\n    },\n    {\n      \"column\": \"int_tiempo\",\n      \"properties\": {\n        \"dtype\": \"category\",\n        \"num_unique_values\": 4,\n        \"samples\": [\n          \"Tarde\",\n          \"Noche\",\n          \"Ma\\u00f1ana\"\n        ],\n        \"semantic_type\": \"\",\n        \"description\": \"\"\n      }\n    },\n    {\n      \"column\": \"fin_de_semana\",\n      \"properties\": {\n        \"dtype\": \"number\",\n        \"std\": 0,\n        \"min\": 0,\n        \"max\": 1,\n        \"num_unique_values\": 2,\n        \"samples\": [\n          1,\n          0\n        ],\n        \"semantic_type\": \"\",\n        \"description\": \"\"\n      }\n    },\n    {\n      \"column\": \"media_minutos\",\n      \"properties\": {\n        \"dtype\": \"number\",\n        \"std\": 54.48074868882493,\n        \"min\": 1.0,\n        \"max\": 599.6,\n        \"num_unique_values\": 14394,\n        \"samples\": [\n          56.58730158730159,\n          60.26315789473684\n        ],\n        \"semantic_type\": \"\",\n        \"description\": \"\"\n      }\n    },\n    {\n      \"column\": \"num_registros\",\n      \"properties\": {\n        \"dtype\": \"number\",\n        \"std\": 257,\n        \"min\": 1,\n        \"max\": 3298,\n        \"num_unique_values\": 1254,\n        \"samples\": [\n          2659,\n          283\n        ],\n        \"semantic_type\": \"\",\n        \"description\": \"\"\n      }\n    },\n    {\n      \"column\": \"numero_plazas\",\n      \"properties\": {\n        \"dtype\": \"number\",\n        \"std\": 10,\n        \"min\": 1,\n        \"max\": 183,\n        \"num_unique_values\": 66,\n        \"samples\": [\n          59,\n          41\n        ],\n        \"semantic_type\": \"\",\n        \"description\": \"\"\n      }\n    },\n    {\n      \"column\": \"color\",\n      \"properties\": {\n        \"dtype\": \"category\",\n        \"num_unique_values\": 5,\n        \"samples\": [\n          \"Azul\",\n          \"Naranja\"\n        ],\n        \"semantic_type\": \"\",\n        \"description\": \"\"\n      }\n    },\n    {\n      \"column\": \"bateria_linea\",\n      \"properties\": {\n        \"dtype\": \"category\",\n        \"num_unique_values\": 2,\n        \"samples\": [\n          \"L\\u00ednea\",\n          \"Bater\\u00eda\"\n        ],\n        \"semantic_type\": \"\",\n        \"description\": \"\"\n      }\n    },\n    {\n      \"column\": \"index_right\",\n      \"properties\": {\n        \"dtype\": \"number\",\n        \"std\": 11253,\n        \"min\": 8,\n        \"max\": 37692,\n        \"num_unique_values\": 9337,\n        \"samples\": [\n          6965,\n          36759\n        ],\n        \"semantic_type\": \"\",\n        \"description\": \"\"\n      }\n    },\n    {\n      \"column\": \"media_intensidad\",\n      \"properties\": {\n        \"dtype\": \"number\",\n        \"std\": 554.1847457170078,\n        \"min\": 0.0,\n        \"max\": 5225.344671201814,\n        \"num_unique_values\": 9263,\n        \"samples\": [\n          1589.7942307692308,\n          96.26346153846154\n        ],\n        \"semantic_type\": \"\",\n        \"description\": \"\"\n      }\n    },\n    {\n      \"column\": \"media_carga\",\n      \"properties\": {\n        \"dtype\": \"number\",\n        \"std\": 14.255613758688888,\n        \"min\": 0.0,\n        \"max\": 98.5,\n        \"num_unique_values\": 9024,\n        \"samples\": [\n          13.614420062695924,\n          7.556270096463023\n        ],\n        \"semantic_type\": \"\",\n        \"description\": \"\"\n      }\n    },\n    {\n      \"column\": \"media_ocupacion\",\n      \"properties\": {\n        \"dtype\": \"number\",\n        \"std\": 7.728577511467416,\n        \"min\": 0.0,\n        \"max\": 98.5,\n        \"num_unique_values\": 8888,\n        \"samples\": [\n          3.092948717948718,\n          11.870349492671927\n        ],\n        \"semantic_type\": \"\",\n        \"description\": \"\"\n      }\n    },\n    {\n      \"column\": \"distance\",\n      \"properties\": {\n        \"dtype\": \"number\",\n        \"std\": 71.89106243144671,\n        \"min\": 4.985609830752493,\n        \"max\": 445.3903166457797,\n        \"num_unique_values\": 2950,\n        \"samples\": [\n          149.70513479311683,\n          231.8056468858847\n        ],\n        \"semantic_type\": \"\",\n        \"description\": \"\"\n      }\n    }\n  ]\n}"
            }
          },
          "metadata": {},
          "execution_count": 9
        }
      ],
      "source": [
        "# Se muestra el dataframe que contiene toda la información sobre parquímetros y tráfico según cercanía\n",
        "geo_parking_info_completo.head(5)"
      ]
    },
    {
      "cell_type": "code",
      "execution_count": 10,
      "id": "izrJ6PgJylBy",
      "metadata": {
        "id": "izrJ6PgJylBy"
      },
      "outputs": [],
      "source": [
        "# Se eliminan las columas que no son de interes para el trabajo\n",
        "geo_parking_info_completo.drop(columns=['index_right', 'distance'], inplace=True)"
      ]
    },
    {
      "cell_type": "code",
      "execution_count": 11,
      "id": "8ADwt12Y7_jk",
      "metadata": {
        "id": "8ADwt12Y7_jk",
        "outputId": "b06ebb10-1f1f-43ce-b46e-e9afeeba6837",
        "colab": {
          "base_uri": "https://localhost:8080/",
          "height": 790
        }
      },
      "outputs": [
        {
          "output_type": "execute_result",
          "data": {
            "text/plain": [
              "                            geometria int_tiempo  fin_de_semana  \\\n",
              "3      POINT (440853.491 4478666.342)     Mañana              0   \n",
              "6      POINT (440853.491 4478666.342)     Mañana              0   \n",
              "15     POINT (443603.525 4474395.698)     Mañana              0   \n",
              "16     POINT (443603.525 4474395.698)     Mañana              0   \n",
              "20     POINT (443603.525 4474395.698)     Mañana              0   \n",
              "...                               ...        ...            ...   \n",
              "47138  POINT (441119.831 4474939.905)      Tarde              1   \n",
              "47185  POINT (441759.596 4480025.347)      Tarde              1   \n",
              "47186  POINT (441759.596 4480025.347)      Tarde              1   \n",
              "47203  POINT (444463.856 4476716.553)      Tarde              1   \n",
              "47204  POINT (444463.856 4476716.553)      Tarde              1   \n",
              "\n",
              "       media_minutos  num_registros  numero_plazas  color bateria_linea  \\\n",
              "3         131.340289            623             10  Verde       Batería   \n",
              "6         131.340289            623             10  Verde       Batería   \n",
              "15        146.440580            345              3   Azul         Línea   \n",
              "16        146.440580            345              7   Azul         Línea   \n",
              "20        146.440580            345              2  Verde         Línea   \n",
              "...              ...            ...            ...    ...           ...   \n",
              "47138      94.000000              2              1  Verde         Línea   \n",
              "47185      38.000000              1              5  Verde         Línea   \n",
              "47186      38.000000              1              5  Verde         Línea   \n",
              "47203      69.000000              3              1  Verde         Línea   \n",
              "47204      69.000000              3              1  Verde         Línea   \n",
              "\n",
              "       media_intensidad  media_carga  media_ocupacion  \n",
              "3            160.874267     9.847557         2.074919  \n",
              "6            160.874267     9.847557         2.074919  \n",
              "15           127.084155    18.784352         7.358317  \n",
              "16           127.084155    18.784352         7.358317  \n",
              "20           127.084155    18.784352         7.358317  \n",
              "...                 ...          ...              ...  \n",
              "47138         53.834630    11.533074         1.175097  \n",
              "47185        271.994231    24.976923         9.409615  \n",
              "47186        271.994231    24.976923         9.409615  \n",
              "47203        315.598077    25.828846         2.800000  \n",
              "47204        315.598077    25.828846         2.800000  \n",
              "\n",
              "[12473 rows x 11 columns]"
            ],
            "text/html": [
              "\n",
              "  <div id=\"df-0c955bfe-8ae6-4a68-af07-c0751ae05c9b\" class=\"colab-df-container\">\n",
              "    <div>\n",
              "<style scoped>\n",
              "    .dataframe tbody tr th:only-of-type {\n",
              "        vertical-align: middle;\n",
              "    }\n",
              "\n",
              "    .dataframe tbody tr th {\n",
              "        vertical-align: top;\n",
              "    }\n",
              "\n",
              "    .dataframe thead th {\n",
              "        text-align: right;\n",
              "    }\n",
              "</style>\n",
              "<table border=\"1\" class=\"dataframe\">\n",
              "  <thead>\n",
              "    <tr style=\"text-align: right;\">\n",
              "      <th></th>\n",
              "      <th>geometria</th>\n",
              "      <th>int_tiempo</th>\n",
              "      <th>fin_de_semana</th>\n",
              "      <th>media_minutos</th>\n",
              "      <th>num_registros</th>\n",
              "      <th>numero_plazas</th>\n",
              "      <th>color</th>\n",
              "      <th>bateria_linea</th>\n",
              "      <th>media_intensidad</th>\n",
              "      <th>media_carga</th>\n",
              "      <th>media_ocupacion</th>\n",
              "    </tr>\n",
              "  </thead>\n",
              "  <tbody>\n",
              "    <tr>\n",
              "      <th>3</th>\n",
              "      <td>POINT (440853.491 4478666.342)</td>\n",
              "      <td>Mañana</td>\n",
              "      <td>0</td>\n",
              "      <td>131.340289</td>\n",
              "      <td>623</td>\n",
              "      <td>10</td>\n",
              "      <td>Verde</td>\n",
              "      <td>Batería</td>\n",
              "      <td>160.874267</td>\n",
              "      <td>9.847557</td>\n",
              "      <td>2.074919</td>\n",
              "    </tr>\n",
              "    <tr>\n",
              "      <th>6</th>\n",
              "      <td>POINT (440853.491 4478666.342)</td>\n",
              "      <td>Mañana</td>\n",
              "      <td>0</td>\n",
              "      <td>131.340289</td>\n",
              "      <td>623</td>\n",
              "      <td>10</td>\n",
              "      <td>Verde</td>\n",
              "      <td>Batería</td>\n",
              "      <td>160.874267</td>\n",
              "      <td>9.847557</td>\n",
              "      <td>2.074919</td>\n",
              "    </tr>\n",
              "    <tr>\n",
              "      <th>15</th>\n",
              "      <td>POINT (443603.525 4474395.698)</td>\n",
              "      <td>Mañana</td>\n",
              "      <td>0</td>\n",
              "      <td>146.440580</td>\n",
              "      <td>345</td>\n",
              "      <td>3</td>\n",
              "      <td>Azul</td>\n",
              "      <td>Línea</td>\n",
              "      <td>127.084155</td>\n",
              "      <td>18.784352</td>\n",
              "      <td>7.358317</td>\n",
              "    </tr>\n",
              "    <tr>\n",
              "      <th>16</th>\n",
              "      <td>POINT (443603.525 4474395.698)</td>\n",
              "      <td>Mañana</td>\n",
              "      <td>0</td>\n",
              "      <td>146.440580</td>\n",
              "      <td>345</td>\n",
              "      <td>7</td>\n",
              "      <td>Azul</td>\n",
              "      <td>Línea</td>\n",
              "      <td>127.084155</td>\n",
              "      <td>18.784352</td>\n",
              "      <td>7.358317</td>\n",
              "    </tr>\n",
              "    <tr>\n",
              "      <th>20</th>\n",
              "      <td>POINT (443603.525 4474395.698)</td>\n",
              "      <td>Mañana</td>\n",
              "      <td>0</td>\n",
              "      <td>146.440580</td>\n",
              "      <td>345</td>\n",
              "      <td>2</td>\n",
              "      <td>Verde</td>\n",
              "      <td>Línea</td>\n",
              "      <td>127.084155</td>\n",
              "      <td>18.784352</td>\n",
              "      <td>7.358317</td>\n",
              "    </tr>\n",
              "    <tr>\n",
              "      <th>...</th>\n",
              "      <td>...</td>\n",
              "      <td>...</td>\n",
              "      <td>...</td>\n",
              "      <td>...</td>\n",
              "      <td>...</td>\n",
              "      <td>...</td>\n",
              "      <td>...</td>\n",
              "      <td>...</td>\n",
              "      <td>...</td>\n",
              "      <td>...</td>\n",
              "      <td>...</td>\n",
              "    </tr>\n",
              "    <tr>\n",
              "      <th>47138</th>\n",
              "      <td>POINT (441119.831 4474939.905)</td>\n",
              "      <td>Tarde</td>\n",
              "      <td>1</td>\n",
              "      <td>94.000000</td>\n",
              "      <td>2</td>\n",
              "      <td>1</td>\n",
              "      <td>Verde</td>\n",
              "      <td>Línea</td>\n",
              "      <td>53.834630</td>\n",
              "      <td>11.533074</td>\n",
              "      <td>1.175097</td>\n",
              "    </tr>\n",
              "    <tr>\n",
              "      <th>47185</th>\n",
              "      <td>POINT (441759.596 4480025.347)</td>\n",
              "      <td>Tarde</td>\n",
              "      <td>1</td>\n",
              "      <td>38.000000</td>\n",
              "      <td>1</td>\n",
              "      <td>5</td>\n",
              "      <td>Verde</td>\n",
              "      <td>Línea</td>\n",
              "      <td>271.994231</td>\n",
              "      <td>24.976923</td>\n",
              "      <td>9.409615</td>\n",
              "    </tr>\n",
              "    <tr>\n",
              "      <th>47186</th>\n",
              "      <td>POINT (441759.596 4480025.347)</td>\n",
              "      <td>Tarde</td>\n",
              "      <td>1</td>\n",
              "      <td>38.000000</td>\n",
              "      <td>1</td>\n",
              "      <td>5</td>\n",
              "      <td>Verde</td>\n",
              "      <td>Línea</td>\n",
              "      <td>271.994231</td>\n",
              "      <td>24.976923</td>\n",
              "      <td>9.409615</td>\n",
              "    </tr>\n",
              "    <tr>\n",
              "      <th>47203</th>\n",
              "      <td>POINT (444463.856 4476716.553)</td>\n",
              "      <td>Tarde</td>\n",
              "      <td>1</td>\n",
              "      <td>69.000000</td>\n",
              "      <td>3</td>\n",
              "      <td>1</td>\n",
              "      <td>Verde</td>\n",
              "      <td>Línea</td>\n",
              "      <td>315.598077</td>\n",
              "      <td>25.828846</td>\n",
              "      <td>2.800000</td>\n",
              "    </tr>\n",
              "    <tr>\n",
              "      <th>47204</th>\n",
              "      <td>POINT (444463.856 4476716.553)</td>\n",
              "      <td>Tarde</td>\n",
              "      <td>1</td>\n",
              "      <td>69.000000</td>\n",
              "      <td>3</td>\n",
              "      <td>1</td>\n",
              "      <td>Verde</td>\n",
              "      <td>Línea</td>\n",
              "      <td>315.598077</td>\n",
              "      <td>25.828846</td>\n",
              "      <td>2.800000</td>\n",
              "    </tr>\n",
              "  </tbody>\n",
              "</table>\n",
              "<p>12473 rows × 11 columns</p>\n",
              "</div>\n",
              "    <div class=\"colab-df-buttons\">\n",
              "\n",
              "  <div class=\"colab-df-container\">\n",
              "    <button class=\"colab-df-convert\" onclick=\"convertToInteractive('df-0c955bfe-8ae6-4a68-af07-c0751ae05c9b')\"\n",
              "            title=\"Convert this dataframe to an interactive table.\"\n",
              "            style=\"display:none;\">\n",
              "\n",
              "  <svg xmlns=\"http://www.w3.org/2000/svg\" height=\"24px\" viewBox=\"0 -960 960 960\">\n",
              "    <path d=\"M120-120v-720h720v720H120Zm60-500h600v-160H180v160Zm220 220h160v-160H400v160Zm0 220h160v-160H400v160ZM180-400h160v-160H180v160Zm440 0h160v-160H620v160ZM180-180h160v-160H180v160Zm440 0h160v-160H620v160Z\"/>\n",
              "  </svg>\n",
              "    </button>\n",
              "\n",
              "  <style>\n",
              "    .colab-df-container {\n",
              "      display:flex;\n",
              "      gap: 12px;\n",
              "    }\n",
              "\n",
              "    .colab-df-convert {\n",
              "      background-color: #E8F0FE;\n",
              "      border: none;\n",
              "      border-radius: 50%;\n",
              "      cursor: pointer;\n",
              "      display: none;\n",
              "      fill: #1967D2;\n",
              "      height: 32px;\n",
              "      padding: 0 0 0 0;\n",
              "      width: 32px;\n",
              "    }\n",
              "\n",
              "    .colab-df-convert:hover {\n",
              "      background-color: #E2EBFA;\n",
              "      box-shadow: 0px 1px 2px rgba(60, 64, 67, 0.3), 0px 1px 3px 1px rgba(60, 64, 67, 0.15);\n",
              "      fill: #174EA6;\n",
              "    }\n",
              "\n",
              "    .colab-df-buttons div {\n",
              "      margin-bottom: 4px;\n",
              "    }\n",
              "\n",
              "    [theme=dark] .colab-df-convert {\n",
              "      background-color: #3B4455;\n",
              "      fill: #D2E3FC;\n",
              "    }\n",
              "\n",
              "    [theme=dark] .colab-df-convert:hover {\n",
              "      background-color: #434B5C;\n",
              "      box-shadow: 0px 1px 3px 1px rgba(0, 0, 0, 0.15);\n",
              "      filter: drop-shadow(0px 1px 2px rgba(0, 0, 0, 0.3));\n",
              "      fill: #FFFFFF;\n",
              "    }\n",
              "  </style>\n",
              "\n",
              "    <script>\n",
              "      const buttonEl =\n",
              "        document.querySelector('#df-0c955bfe-8ae6-4a68-af07-c0751ae05c9b button.colab-df-convert');\n",
              "      buttonEl.style.display =\n",
              "        google.colab.kernel.accessAllowed ? 'block' : 'none';\n",
              "\n",
              "      async function convertToInteractive(key) {\n",
              "        const element = document.querySelector('#df-0c955bfe-8ae6-4a68-af07-c0751ae05c9b');\n",
              "        const dataTable =\n",
              "          await google.colab.kernel.invokeFunction('convertToInteractive',\n",
              "                                                    [key], {});\n",
              "        if (!dataTable) return;\n",
              "\n",
              "        const docLinkHtml = 'Like what you see? Visit the ' +\n",
              "          '<a target=\"_blank\" href=https://colab.research.google.com/notebooks/data_table.ipynb>data table notebook</a>'\n",
              "          + ' to learn more about interactive tables.';\n",
              "        element.innerHTML = '';\n",
              "        dataTable['output_type'] = 'display_data';\n",
              "        await google.colab.output.renderOutput(dataTable, element);\n",
              "        const docLink = document.createElement('div');\n",
              "        docLink.innerHTML = docLinkHtml;\n",
              "        element.appendChild(docLink);\n",
              "      }\n",
              "    </script>\n",
              "  </div>\n",
              "\n",
              "\n",
              "    <div id=\"df-7c0d6fe9-ba68-4aa4-8c52-fa8c8641f309\">\n",
              "      <button class=\"colab-df-quickchart\" onclick=\"quickchart('df-7c0d6fe9-ba68-4aa4-8c52-fa8c8641f309')\"\n",
              "                title=\"Suggest charts\"\n",
              "                style=\"display:none;\">\n",
              "\n",
              "<svg xmlns=\"http://www.w3.org/2000/svg\" height=\"24px\"viewBox=\"0 0 24 24\"\n",
              "     width=\"24px\">\n",
              "    <g>\n",
              "        <path d=\"M19 3H5c-1.1 0-2 .9-2 2v14c0 1.1.9 2 2 2h14c1.1 0 2-.9 2-2V5c0-1.1-.9-2-2-2zM9 17H7v-7h2v7zm4 0h-2V7h2v10zm4 0h-2v-4h2v4z\"/>\n",
              "    </g>\n",
              "</svg>\n",
              "      </button>\n",
              "\n",
              "<style>\n",
              "  .colab-df-quickchart {\n",
              "      --bg-color: #E8F0FE;\n",
              "      --fill-color: #1967D2;\n",
              "      --hover-bg-color: #E2EBFA;\n",
              "      --hover-fill-color: #174EA6;\n",
              "      --disabled-fill-color: #AAA;\n",
              "      --disabled-bg-color: #DDD;\n",
              "  }\n",
              "\n",
              "  [theme=dark] .colab-df-quickchart {\n",
              "      --bg-color: #3B4455;\n",
              "      --fill-color: #D2E3FC;\n",
              "      --hover-bg-color: #434B5C;\n",
              "      --hover-fill-color: #FFFFFF;\n",
              "      --disabled-bg-color: #3B4455;\n",
              "      --disabled-fill-color: #666;\n",
              "  }\n",
              "\n",
              "  .colab-df-quickchart {\n",
              "    background-color: var(--bg-color);\n",
              "    border: none;\n",
              "    border-radius: 50%;\n",
              "    cursor: pointer;\n",
              "    display: none;\n",
              "    fill: var(--fill-color);\n",
              "    height: 32px;\n",
              "    padding: 0;\n",
              "    width: 32px;\n",
              "  }\n",
              "\n",
              "  .colab-df-quickchart:hover {\n",
              "    background-color: var(--hover-bg-color);\n",
              "    box-shadow: 0 1px 2px rgba(60, 64, 67, 0.3), 0 1px 3px 1px rgba(60, 64, 67, 0.15);\n",
              "    fill: var(--button-hover-fill-color);\n",
              "  }\n",
              "\n",
              "  .colab-df-quickchart-complete:disabled,\n",
              "  .colab-df-quickchart-complete:disabled:hover {\n",
              "    background-color: var(--disabled-bg-color);\n",
              "    fill: var(--disabled-fill-color);\n",
              "    box-shadow: none;\n",
              "  }\n",
              "\n",
              "  .colab-df-spinner {\n",
              "    border: 2px solid var(--fill-color);\n",
              "    border-color: transparent;\n",
              "    border-bottom-color: var(--fill-color);\n",
              "    animation:\n",
              "      spin 1s steps(1) infinite;\n",
              "  }\n",
              "\n",
              "  @keyframes spin {\n",
              "    0% {\n",
              "      border-color: transparent;\n",
              "      border-bottom-color: var(--fill-color);\n",
              "      border-left-color: var(--fill-color);\n",
              "    }\n",
              "    20% {\n",
              "      border-color: transparent;\n",
              "      border-left-color: var(--fill-color);\n",
              "      border-top-color: var(--fill-color);\n",
              "    }\n",
              "    30% {\n",
              "      border-color: transparent;\n",
              "      border-left-color: var(--fill-color);\n",
              "      border-top-color: var(--fill-color);\n",
              "      border-right-color: var(--fill-color);\n",
              "    }\n",
              "    40% {\n",
              "      border-color: transparent;\n",
              "      border-right-color: var(--fill-color);\n",
              "      border-top-color: var(--fill-color);\n",
              "    }\n",
              "    60% {\n",
              "      border-color: transparent;\n",
              "      border-right-color: var(--fill-color);\n",
              "    }\n",
              "    80% {\n",
              "      border-color: transparent;\n",
              "      border-right-color: var(--fill-color);\n",
              "      border-bottom-color: var(--fill-color);\n",
              "    }\n",
              "    90% {\n",
              "      border-color: transparent;\n",
              "      border-bottom-color: var(--fill-color);\n",
              "    }\n",
              "  }\n",
              "</style>\n",
              "\n",
              "      <script>\n",
              "        async function quickchart(key) {\n",
              "          const quickchartButtonEl =\n",
              "            document.querySelector('#' + key + ' button');\n",
              "          quickchartButtonEl.disabled = true;  // To prevent multiple clicks.\n",
              "          quickchartButtonEl.classList.add('colab-df-spinner');\n",
              "          try {\n",
              "            const charts = await google.colab.kernel.invokeFunction(\n",
              "                'suggestCharts', [key], {});\n",
              "          } catch (error) {\n",
              "            console.error('Error during call to suggestCharts:', error);\n",
              "          }\n",
              "          quickchartButtonEl.classList.remove('colab-df-spinner');\n",
              "          quickchartButtonEl.classList.add('colab-df-quickchart-complete');\n",
              "        }\n",
              "        (() => {\n",
              "          let quickchartButtonEl =\n",
              "            document.querySelector('#df-7c0d6fe9-ba68-4aa4-8c52-fa8c8641f309 button');\n",
              "          quickchartButtonEl.style.display =\n",
              "            google.colab.kernel.accessAllowed ? 'block' : 'none';\n",
              "        })();\n",
              "      </script>\n",
              "    </div>\n",
              "\n",
              "  <div id=\"id_c52259ea-0cb2-45ed-b57b-fcea08111c7f\">\n",
              "    <style>\n",
              "      .colab-df-generate {\n",
              "        background-color: #E8F0FE;\n",
              "        border: none;\n",
              "        border-radius: 50%;\n",
              "        cursor: pointer;\n",
              "        display: none;\n",
              "        fill: #1967D2;\n",
              "        height: 32px;\n",
              "        padding: 0 0 0 0;\n",
              "        width: 32px;\n",
              "      }\n",
              "\n",
              "      .colab-df-generate:hover {\n",
              "        background-color: #E2EBFA;\n",
              "        box-shadow: 0px 1px 2px rgba(60, 64, 67, 0.3), 0px 1px 3px 1px rgba(60, 64, 67, 0.15);\n",
              "        fill: #174EA6;\n",
              "      }\n",
              "\n",
              "      [theme=dark] .colab-df-generate {\n",
              "        background-color: #3B4455;\n",
              "        fill: #D2E3FC;\n",
              "      }\n",
              "\n",
              "      [theme=dark] .colab-df-generate:hover {\n",
              "        background-color: #434B5C;\n",
              "        box-shadow: 0px 1px 3px 1px rgba(0, 0, 0, 0.15);\n",
              "        filter: drop-shadow(0px 1px 2px rgba(0, 0, 0, 0.3));\n",
              "        fill: #FFFFFF;\n",
              "      }\n",
              "    </style>\n",
              "    <button class=\"colab-df-generate\" onclick=\"generateWithVariable('duplicados')\"\n",
              "            title=\"Generate code using this dataframe.\"\n",
              "            style=\"display:none;\">\n",
              "\n",
              "  <svg xmlns=\"http://www.w3.org/2000/svg\" height=\"24px\"viewBox=\"0 0 24 24\"\n",
              "       width=\"24px\">\n",
              "    <path d=\"M7,19H8.4L18.45,9,17,7.55,7,17.6ZM5,21V16.75L18.45,3.32a2,2,0,0,1,2.83,0l1.4,1.43a1.91,1.91,0,0,1,.58,1.4,1.91,1.91,0,0,1-.58,1.4L9.25,21ZM18.45,9,17,7.55Zm-12,3A5.31,5.31,0,0,0,4.9,8.1,5.31,5.31,0,0,0,1,6.5,5.31,5.31,0,0,0,4.9,4.9,5.31,5.31,0,0,0,6.5,1,5.31,5.31,0,0,0,8.1,4.9,5.31,5.31,0,0,0,12,6.5,5.46,5.46,0,0,0,6.5,12Z\"/>\n",
              "  </svg>\n",
              "    </button>\n",
              "    <script>\n",
              "      (() => {\n",
              "      const buttonEl =\n",
              "        document.querySelector('#id_c52259ea-0cb2-45ed-b57b-fcea08111c7f button.colab-df-generate');\n",
              "      buttonEl.style.display =\n",
              "        google.colab.kernel.accessAllowed ? 'block' : 'none';\n",
              "\n",
              "      buttonEl.onclick = () => {\n",
              "        google.colab.notebook.generateWithVariable('duplicados');\n",
              "      }\n",
              "      })();\n",
              "    </script>\n",
              "  </div>\n",
              "\n",
              "    </div>\n",
              "  </div>\n"
            ],
            "application/vnd.google.colaboratory.intrinsic+json": {
              "type": "dataframe",
              "variable_name": "duplicados",
              "summary": "{\n  \"name\": \"duplicados\",\n  \"rows\": 12473,\n  \"fields\": [\n    {\n      \"column\": \"geometria\",\n      \"properties\": {\n        \"dtype\": \"geometry\",\n        \"num_unique_values\": 417,\n        \"samples\": [\n          \"POINT (439678.40004769363 4481292.425112723)\",\n          \"POINT (439446.8026512376 4478947.04629968)\",\n          \"POINT (440249.81175834086 4481816.137068055)\"\n        ],\n        \"semantic_type\": \"\",\n        \"description\": \"\"\n      }\n    },\n    {\n      \"column\": \"int_tiempo\",\n      \"properties\": {\n        \"dtype\": \"category\",\n        \"num_unique_values\": 4,\n        \"samples\": [\n          \"Tarde\",\n          \"Noche\",\n          \"Ma\\u00f1ana\"\n        ],\n        \"semantic_type\": \"\",\n        \"description\": \"\"\n      }\n    },\n    {\n      \"column\": \"fin_de_semana\",\n      \"properties\": {\n        \"dtype\": \"number\",\n        \"std\": 0,\n        \"min\": 0,\n        \"max\": 1,\n        \"num_unique_values\": 2,\n        \"samples\": [\n          1,\n          0\n        ],\n        \"semantic_type\": \"\",\n        \"description\": \"\"\n      }\n    },\n    {\n      \"column\": \"media_minutos\",\n      \"properties\": {\n        \"dtype\": \"number\",\n        \"std\": 53.371796137854254,\n        \"min\": 1.0,\n        \"max\": 599.6,\n        \"num_unique_values\": 2324,\n        \"samples\": [\n          67.72881355932203,\n          117.07692307692308\n        ],\n        \"semantic_type\": \"\",\n        \"description\": \"\"\n      }\n    },\n    {\n      \"column\": \"num_registros\",\n      \"properties\": {\n        \"dtype\": \"number\",\n        \"std\": 224,\n        \"min\": 1,\n        \"max\": 2567,\n        \"num_unique_values\": 591,\n        \"samples\": [\n          1778,\n          545\n        ],\n        \"semantic_type\": \"\",\n        \"description\": \"\"\n      }\n    },\n    {\n      \"column\": \"numero_plazas\",\n      \"properties\": {\n        \"dtype\": \"number\",\n        \"std\": 5,\n        \"min\": 1,\n        \"max\": 50,\n        \"num_unique_values\": 23,\n        \"samples\": [\n          13,\n          15\n        ],\n        \"semantic_type\": \"\",\n        \"description\": \"\"\n      }\n    },\n    {\n      \"column\": \"color\",\n      \"properties\": {\n        \"dtype\": \"category\",\n        \"num_unique_values\": 4,\n        \"samples\": [\n          \"Azul\",\n          \"Rojo\"\n        ],\n        \"semantic_type\": \"\",\n        \"description\": \"\"\n      }\n    },\n    {\n      \"column\": \"bateria_linea\",\n      \"properties\": {\n        \"dtype\": \"category\",\n        \"num_unique_values\": 2,\n        \"samples\": [\n          \"L\\u00ednea\",\n          \"Bater\\u00eda\"\n        ],\n        \"semantic_type\": \"\",\n        \"description\": \"\"\n      }\n    },\n    {\n      \"column\": \"media_intensidad\",\n      \"properties\": {\n        \"dtype\": \"number\",\n        \"std\": 526.981979315404,\n        \"min\": 0.0,\n        \"max\": 5225.344671201814,\n        \"num_unique_values\": 2093,\n        \"samples\": [\n          159.63540983606558,\n          1355.0634831460677\n        ],\n        \"semantic_type\": \"\",\n        \"description\": \"\"\n      }\n    },\n    {\n      \"column\": \"media_carga\",\n      \"properties\": {\n        \"dtype\": \"number\",\n        \"std\": 14.747140767485964,\n        \"min\": 0.0,\n        \"max\": 84.6512153759186,\n        \"num_unique_values\": 2057,\n        \"samples\": [\n          46.6282722513089,\n          10.922928709055876\n        ],\n        \"semantic_type\": \"\",\n        \"description\": \"\"\n      }\n    },\n    {\n      \"column\": \"media_ocupacion\",\n      \"properties\": {\n        \"dtype\": \"number\",\n        \"std\": 6.977231462156146,\n        \"min\": 0.0,\n        \"max\": 74.85714285714286,\n        \"num_unique_values\": 2064,\n        \"samples\": [\n          7.4094240837696335,\n          21.52163650668765\n        ],\n        \"semantic_type\": \"\",\n        \"description\": \"\"\n      }\n    }\n  ]\n}"
            }
          },
          "metadata": {},
          "execution_count": 11
        }
      ],
      "source": [
        "# Se comprueba si hay duplicados en el dataframe generado\n",
        "duplicados = geo_parking_info_completo[geo_parking_info_completo.duplicated(keep = False)]\n",
        "duplicados"
      ]
    },
    {
      "cell_type": "code",
      "execution_count": 12,
      "id": "SqSVOEsj8Ze2",
      "metadata": {
        "id": "SqSVOEsj8Ze2"
      },
      "outputs": [],
      "source": [
        "# Se eliminan los duplicados\n",
        "geo_parking_info_completo.drop_duplicates(inplace=True)"
      ]
    },
    {
      "cell_type": "markdown",
      "id": "LrD7RP3Hzj-g",
      "metadata": {
        "id": "LrD7RP3Hzj-g"
      },
      "source": [
        "El procedimiento para las zonas SER sobre las cuales no tenemos información acerca de parquímetros es el siguiente:\n",
        "\n",
        "\n",
        "1.   Se toman únicamente los registros de calles_ser_df que no estén en parkings_info (esto son las zonas de aparcamiento no informadas). Esto se lleva a cabo con un join left only.\n",
        "2.   Cada registro resultante se duplica de manera que cada calle ser aparezca para cada intervalo de tiempo y para cada tipo de dia. Esto se hace para que tenga consistencia con el dataframe informado.\n",
        "3. Se calculan las coordenadas a partir de gis_x y gis_y, se convierte en un geodataframe.\n",
        "4. Se hace join espacial por cercanía de la misma manera que se ha hecho en el caso anterior.\n",
        "\n"
      ]
    },
    {
      "cell_type": "code",
      "execution_count": 13,
      "id": "wmGeIyl7yv7H",
      "metadata": {
        "id": "wmGeIyl7yv7H"
      },
      "outputs": [],
      "source": [
        "# Hacemos esto para simular un left_anti join, esto es una unión que conserve únicamente los valores de la tabla izquierda que no estén en la derecha\n",
        "aux = pd.merge(calles_ser, parkings_info[['gis_x','gis_y']], on=['gis_x', 'gis_y'], how='left', indicator=True)\n",
        "\n",
        "parkings_no_info = aux[aux['_merge'] == 'left_only'].drop(columns=['_merge'])"
      ]
    },
    {
      "cell_type": "code",
      "execution_count": 14,
      "id": "1rD5FH2S0qTr",
      "metadata": {
        "id": "1rD5FH2S0qTr",
        "outputId": "27c01d6d-edf2-4c4d-b6bc-0b33cca6bca6",
        "colab": {
          "base_uri": "https://localhost:8080/"
        }
      },
      "outputs": [
        {
          "output_type": "execute_result",
          "data": {
            "text/plain": [
              "28505"
            ]
          },
          "metadata": {},
          "execution_count": 14
        }
      ],
      "source": [
        "# De los 33.___ zonas ser totales, 28505 de ellas no están informadas\n",
        "parkings_no_info.shape[0]"
      ]
    },
    {
      "cell_type": "code",
      "execution_count": 15,
      "id": "hXdv9nK21x-v",
      "metadata": {
        "id": "hXdv9nK21x-v"
      },
      "outputs": [],
      "source": [
        "# Se hace un producto cartesiando de los diferentes valores de fin_de_semana y de int_tiempo con el dataframe parkings_no_info\n",
        "fin_de_semana = [0, 1]\n",
        "dias_df = pd.DataFrame({'fin_de_semana': fin_de_semana})\n",
        "\n",
        "int_tiempo = ['Mañana', 'Mediodia', 'Tarde', 'Noche']\n",
        "horas_df = pd.DataFrame({'int_tiempo': int_tiempo})\n",
        "\n",
        "dias_horas_df = dias_df.merge(horas_df, how='cross')\n",
        "\n",
        "parkings_no_info_expandido = parkings_no_info.merge(dias_horas_df, how='cross')"
      ]
    },
    {
      "cell_type": "code",
      "execution_count": 16,
      "id": "x2nVqUgc2NmC",
      "metadata": {
        "id": "x2nVqUgc2NmC",
        "outputId": "c4bfc54e-4224-403f-9c87-18785523937e",
        "colab": {
          "base_uri": "https://localhost:8080/",
          "height": 399
        }
      },
      "outputs": [
        {
          "output_type": "execute_result",
          "data": {
            "text/plain": [
              "       gis_x       gis_y  cod_distrito distrito  cod_barrio  num_barrio  \\\n",
              "0  439592.91  4473566.23             1   CENTRO          11           1   \n",
              "1  439592.91  4473566.23             1   CENTRO          11           1   \n",
              "2  439592.91  4473566.23             1   CENTRO          11           1   \n",
              "3  439592.91  4473566.23             1   CENTRO          11           1   \n",
              "4  439592.91  4473566.23             1   CENTRO          11           1   \n",
              "\n",
              "    barrio                 calle numero_finca  color bateria_linea  \\\n",
              "0  PALACIO  AGUAS, CALLE, DE LAS            2  Verde         Línea   \n",
              "1  PALACIO  AGUAS, CALLE, DE LAS            2  Verde         Línea   \n",
              "2  PALACIO  AGUAS, CALLE, DE LAS            2  Verde         Línea   \n",
              "3  PALACIO  AGUAS, CALLE, DE LAS            2  Verde         Línea   \n",
              "4  PALACIO  AGUAS, CALLE, DE LAS            2  Verde         Línea   \n",
              "\n",
              "   numero_plazas      id  longitud    latitud  fin_de_semana int_tiempo  \n",
              "0              7  11_1_2 -3.711956  40.410523              0     Mañana  \n",
              "1              7  11_1_2 -3.711956  40.410523              0   Mediodia  \n",
              "2              7  11_1_2 -3.711956  40.410523              0      Tarde  \n",
              "3              7  11_1_2 -3.711956  40.410523              0      Noche  \n",
              "4              7  11_1_2 -3.711956  40.410523              1     Mañana  "
            ],
            "text/html": [
              "\n",
              "  <div id=\"df-578902a3-7b27-430a-891d-77ea80aafb96\" class=\"colab-df-container\">\n",
              "    <div>\n",
              "<style scoped>\n",
              "    .dataframe tbody tr th:only-of-type {\n",
              "        vertical-align: middle;\n",
              "    }\n",
              "\n",
              "    .dataframe tbody tr th {\n",
              "        vertical-align: top;\n",
              "    }\n",
              "\n",
              "    .dataframe thead th {\n",
              "        text-align: right;\n",
              "    }\n",
              "</style>\n",
              "<table border=\"1\" class=\"dataframe\">\n",
              "  <thead>\n",
              "    <tr style=\"text-align: right;\">\n",
              "      <th></th>\n",
              "      <th>gis_x</th>\n",
              "      <th>gis_y</th>\n",
              "      <th>cod_distrito</th>\n",
              "      <th>distrito</th>\n",
              "      <th>cod_barrio</th>\n",
              "      <th>num_barrio</th>\n",
              "      <th>barrio</th>\n",
              "      <th>calle</th>\n",
              "      <th>numero_finca</th>\n",
              "      <th>color</th>\n",
              "      <th>bateria_linea</th>\n",
              "      <th>numero_plazas</th>\n",
              "      <th>id</th>\n",
              "      <th>longitud</th>\n",
              "      <th>latitud</th>\n",
              "      <th>fin_de_semana</th>\n",
              "      <th>int_tiempo</th>\n",
              "    </tr>\n",
              "  </thead>\n",
              "  <tbody>\n",
              "    <tr>\n",
              "      <th>0</th>\n",
              "      <td>439592.91</td>\n",
              "      <td>4473566.23</td>\n",
              "      <td>1</td>\n",
              "      <td>CENTRO</td>\n",
              "      <td>11</td>\n",
              "      <td>1</td>\n",
              "      <td>PALACIO</td>\n",
              "      <td>AGUAS, CALLE, DE LAS</td>\n",
              "      <td>2</td>\n",
              "      <td>Verde</td>\n",
              "      <td>Línea</td>\n",
              "      <td>7</td>\n",
              "      <td>11_1_2</td>\n",
              "      <td>-3.711956</td>\n",
              "      <td>40.410523</td>\n",
              "      <td>0</td>\n",
              "      <td>Mañana</td>\n",
              "    </tr>\n",
              "    <tr>\n",
              "      <th>1</th>\n",
              "      <td>439592.91</td>\n",
              "      <td>4473566.23</td>\n",
              "      <td>1</td>\n",
              "      <td>CENTRO</td>\n",
              "      <td>11</td>\n",
              "      <td>1</td>\n",
              "      <td>PALACIO</td>\n",
              "      <td>AGUAS, CALLE, DE LAS</td>\n",
              "      <td>2</td>\n",
              "      <td>Verde</td>\n",
              "      <td>Línea</td>\n",
              "      <td>7</td>\n",
              "      <td>11_1_2</td>\n",
              "      <td>-3.711956</td>\n",
              "      <td>40.410523</td>\n",
              "      <td>0</td>\n",
              "      <td>Mediodia</td>\n",
              "    </tr>\n",
              "    <tr>\n",
              "      <th>2</th>\n",
              "      <td>439592.91</td>\n",
              "      <td>4473566.23</td>\n",
              "      <td>1</td>\n",
              "      <td>CENTRO</td>\n",
              "      <td>11</td>\n",
              "      <td>1</td>\n",
              "      <td>PALACIO</td>\n",
              "      <td>AGUAS, CALLE, DE LAS</td>\n",
              "      <td>2</td>\n",
              "      <td>Verde</td>\n",
              "      <td>Línea</td>\n",
              "      <td>7</td>\n",
              "      <td>11_1_2</td>\n",
              "      <td>-3.711956</td>\n",
              "      <td>40.410523</td>\n",
              "      <td>0</td>\n",
              "      <td>Tarde</td>\n",
              "    </tr>\n",
              "    <tr>\n",
              "      <th>3</th>\n",
              "      <td>439592.91</td>\n",
              "      <td>4473566.23</td>\n",
              "      <td>1</td>\n",
              "      <td>CENTRO</td>\n",
              "      <td>11</td>\n",
              "      <td>1</td>\n",
              "      <td>PALACIO</td>\n",
              "      <td>AGUAS, CALLE, DE LAS</td>\n",
              "      <td>2</td>\n",
              "      <td>Verde</td>\n",
              "      <td>Línea</td>\n",
              "      <td>7</td>\n",
              "      <td>11_1_2</td>\n",
              "      <td>-3.711956</td>\n",
              "      <td>40.410523</td>\n",
              "      <td>0</td>\n",
              "      <td>Noche</td>\n",
              "    </tr>\n",
              "    <tr>\n",
              "      <th>4</th>\n",
              "      <td>439592.91</td>\n",
              "      <td>4473566.23</td>\n",
              "      <td>1</td>\n",
              "      <td>CENTRO</td>\n",
              "      <td>11</td>\n",
              "      <td>1</td>\n",
              "      <td>PALACIO</td>\n",
              "      <td>AGUAS, CALLE, DE LAS</td>\n",
              "      <td>2</td>\n",
              "      <td>Verde</td>\n",
              "      <td>Línea</td>\n",
              "      <td>7</td>\n",
              "      <td>11_1_2</td>\n",
              "      <td>-3.711956</td>\n",
              "      <td>40.410523</td>\n",
              "      <td>1</td>\n",
              "      <td>Mañana</td>\n",
              "    </tr>\n",
              "  </tbody>\n",
              "</table>\n",
              "</div>\n",
              "    <div class=\"colab-df-buttons\">\n",
              "\n",
              "  <div class=\"colab-df-container\">\n",
              "    <button class=\"colab-df-convert\" onclick=\"convertToInteractive('df-578902a3-7b27-430a-891d-77ea80aafb96')\"\n",
              "            title=\"Convert this dataframe to an interactive table.\"\n",
              "            style=\"display:none;\">\n",
              "\n",
              "  <svg xmlns=\"http://www.w3.org/2000/svg\" height=\"24px\" viewBox=\"0 -960 960 960\">\n",
              "    <path d=\"M120-120v-720h720v720H120Zm60-500h600v-160H180v160Zm220 220h160v-160H400v160Zm0 220h160v-160H400v160ZM180-400h160v-160H180v160Zm440 0h160v-160H620v160ZM180-180h160v-160H180v160Zm440 0h160v-160H620v160Z\"/>\n",
              "  </svg>\n",
              "    </button>\n",
              "\n",
              "  <style>\n",
              "    .colab-df-container {\n",
              "      display:flex;\n",
              "      gap: 12px;\n",
              "    }\n",
              "\n",
              "    .colab-df-convert {\n",
              "      background-color: #E8F0FE;\n",
              "      border: none;\n",
              "      border-radius: 50%;\n",
              "      cursor: pointer;\n",
              "      display: none;\n",
              "      fill: #1967D2;\n",
              "      height: 32px;\n",
              "      padding: 0 0 0 0;\n",
              "      width: 32px;\n",
              "    }\n",
              "\n",
              "    .colab-df-convert:hover {\n",
              "      background-color: #E2EBFA;\n",
              "      box-shadow: 0px 1px 2px rgba(60, 64, 67, 0.3), 0px 1px 3px 1px rgba(60, 64, 67, 0.15);\n",
              "      fill: #174EA6;\n",
              "    }\n",
              "\n",
              "    .colab-df-buttons div {\n",
              "      margin-bottom: 4px;\n",
              "    }\n",
              "\n",
              "    [theme=dark] .colab-df-convert {\n",
              "      background-color: #3B4455;\n",
              "      fill: #D2E3FC;\n",
              "    }\n",
              "\n",
              "    [theme=dark] .colab-df-convert:hover {\n",
              "      background-color: #434B5C;\n",
              "      box-shadow: 0px 1px 3px 1px rgba(0, 0, 0, 0.15);\n",
              "      filter: drop-shadow(0px 1px 2px rgba(0, 0, 0, 0.3));\n",
              "      fill: #FFFFFF;\n",
              "    }\n",
              "  </style>\n",
              "\n",
              "    <script>\n",
              "      const buttonEl =\n",
              "        document.querySelector('#df-578902a3-7b27-430a-891d-77ea80aafb96 button.colab-df-convert');\n",
              "      buttonEl.style.display =\n",
              "        google.colab.kernel.accessAllowed ? 'block' : 'none';\n",
              "\n",
              "      async function convertToInteractive(key) {\n",
              "        const element = document.querySelector('#df-578902a3-7b27-430a-891d-77ea80aafb96');\n",
              "        const dataTable =\n",
              "          await google.colab.kernel.invokeFunction('convertToInteractive',\n",
              "                                                    [key], {});\n",
              "        if (!dataTable) return;\n",
              "\n",
              "        const docLinkHtml = 'Like what you see? Visit the ' +\n",
              "          '<a target=\"_blank\" href=https://colab.research.google.com/notebooks/data_table.ipynb>data table notebook</a>'\n",
              "          + ' to learn more about interactive tables.';\n",
              "        element.innerHTML = '';\n",
              "        dataTable['output_type'] = 'display_data';\n",
              "        await google.colab.output.renderOutput(dataTable, element);\n",
              "        const docLink = document.createElement('div');\n",
              "        docLink.innerHTML = docLinkHtml;\n",
              "        element.appendChild(docLink);\n",
              "      }\n",
              "    </script>\n",
              "  </div>\n",
              "\n",
              "\n",
              "    <div id=\"df-2d99896d-1ec0-4f3c-bb82-49791264a2a4\">\n",
              "      <button class=\"colab-df-quickchart\" onclick=\"quickchart('df-2d99896d-1ec0-4f3c-bb82-49791264a2a4')\"\n",
              "                title=\"Suggest charts\"\n",
              "                style=\"display:none;\">\n",
              "\n",
              "<svg xmlns=\"http://www.w3.org/2000/svg\" height=\"24px\"viewBox=\"0 0 24 24\"\n",
              "     width=\"24px\">\n",
              "    <g>\n",
              "        <path d=\"M19 3H5c-1.1 0-2 .9-2 2v14c0 1.1.9 2 2 2h14c1.1 0 2-.9 2-2V5c0-1.1-.9-2-2-2zM9 17H7v-7h2v7zm4 0h-2V7h2v10zm4 0h-2v-4h2v4z\"/>\n",
              "    </g>\n",
              "</svg>\n",
              "      </button>\n",
              "\n",
              "<style>\n",
              "  .colab-df-quickchart {\n",
              "      --bg-color: #E8F0FE;\n",
              "      --fill-color: #1967D2;\n",
              "      --hover-bg-color: #E2EBFA;\n",
              "      --hover-fill-color: #174EA6;\n",
              "      --disabled-fill-color: #AAA;\n",
              "      --disabled-bg-color: #DDD;\n",
              "  }\n",
              "\n",
              "  [theme=dark] .colab-df-quickchart {\n",
              "      --bg-color: #3B4455;\n",
              "      --fill-color: #D2E3FC;\n",
              "      --hover-bg-color: #434B5C;\n",
              "      --hover-fill-color: #FFFFFF;\n",
              "      --disabled-bg-color: #3B4455;\n",
              "      --disabled-fill-color: #666;\n",
              "  }\n",
              "\n",
              "  .colab-df-quickchart {\n",
              "    background-color: var(--bg-color);\n",
              "    border: none;\n",
              "    border-radius: 50%;\n",
              "    cursor: pointer;\n",
              "    display: none;\n",
              "    fill: var(--fill-color);\n",
              "    height: 32px;\n",
              "    padding: 0;\n",
              "    width: 32px;\n",
              "  }\n",
              "\n",
              "  .colab-df-quickchart:hover {\n",
              "    background-color: var(--hover-bg-color);\n",
              "    box-shadow: 0 1px 2px rgba(60, 64, 67, 0.3), 0 1px 3px 1px rgba(60, 64, 67, 0.15);\n",
              "    fill: var(--button-hover-fill-color);\n",
              "  }\n",
              "\n",
              "  .colab-df-quickchart-complete:disabled,\n",
              "  .colab-df-quickchart-complete:disabled:hover {\n",
              "    background-color: var(--disabled-bg-color);\n",
              "    fill: var(--disabled-fill-color);\n",
              "    box-shadow: none;\n",
              "  }\n",
              "\n",
              "  .colab-df-spinner {\n",
              "    border: 2px solid var(--fill-color);\n",
              "    border-color: transparent;\n",
              "    border-bottom-color: var(--fill-color);\n",
              "    animation:\n",
              "      spin 1s steps(1) infinite;\n",
              "  }\n",
              "\n",
              "  @keyframes spin {\n",
              "    0% {\n",
              "      border-color: transparent;\n",
              "      border-bottom-color: var(--fill-color);\n",
              "      border-left-color: var(--fill-color);\n",
              "    }\n",
              "    20% {\n",
              "      border-color: transparent;\n",
              "      border-left-color: var(--fill-color);\n",
              "      border-top-color: var(--fill-color);\n",
              "    }\n",
              "    30% {\n",
              "      border-color: transparent;\n",
              "      border-left-color: var(--fill-color);\n",
              "      border-top-color: var(--fill-color);\n",
              "      border-right-color: var(--fill-color);\n",
              "    }\n",
              "    40% {\n",
              "      border-color: transparent;\n",
              "      border-right-color: var(--fill-color);\n",
              "      border-top-color: var(--fill-color);\n",
              "    }\n",
              "    60% {\n",
              "      border-color: transparent;\n",
              "      border-right-color: var(--fill-color);\n",
              "    }\n",
              "    80% {\n",
              "      border-color: transparent;\n",
              "      border-right-color: var(--fill-color);\n",
              "      border-bottom-color: var(--fill-color);\n",
              "    }\n",
              "    90% {\n",
              "      border-color: transparent;\n",
              "      border-bottom-color: var(--fill-color);\n",
              "    }\n",
              "  }\n",
              "</style>\n",
              "\n",
              "      <script>\n",
              "        async function quickchart(key) {\n",
              "          const quickchartButtonEl =\n",
              "            document.querySelector('#' + key + ' button');\n",
              "          quickchartButtonEl.disabled = true;  // To prevent multiple clicks.\n",
              "          quickchartButtonEl.classList.add('colab-df-spinner');\n",
              "          try {\n",
              "            const charts = await google.colab.kernel.invokeFunction(\n",
              "                'suggestCharts', [key], {});\n",
              "          } catch (error) {\n",
              "            console.error('Error during call to suggestCharts:', error);\n",
              "          }\n",
              "          quickchartButtonEl.classList.remove('colab-df-spinner');\n",
              "          quickchartButtonEl.classList.add('colab-df-quickchart-complete');\n",
              "        }\n",
              "        (() => {\n",
              "          let quickchartButtonEl =\n",
              "            document.querySelector('#df-2d99896d-1ec0-4f3c-bb82-49791264a2a4 button');\n",
              "          quickchartButtonEl.style.display =\n",
              "            google.colab.kernel.accessAllowed ? 'block' : 'none';\n",
              "        })();\n",
              "      </script>\n",
              "    </div>\n",
              "\n",
              "    </div>\n",
              "  </div>\n"
            ],
            "application/vnd.google.colaboratory.intrinsic+json": {
              "type": "dataframe",
              "variable_name": "parkings_no_info_expandido"
            }
          },
          "metadata": {},
          "execution_count": 16
        }
      ],
      "source": [
        "# Tenemos un registro para cada aparcamiento, para cada intervalo de tiempo y para cada tipo de día\n",
        "parkings_no_info_expandido.head(5)"
      ]
    },
    {
      "cell_type": "code",
      "execution_count": 17,
      "id": "CgTepsYs_V0_",
      "metadata": {
        "id": "CgTepsYs_V0_"
      },
      "outputs": [],
      "source": [
        "# Se crea la columan geometria como un punto (latitud, longitud)\n",
        "parkings_no_info_expandido['geometria'] = parkings_no_info_expandido.apply(lambda row: Point(row['longitud'], row['latitud']), axis=1)\n",
        "\n",
        "# Se convierte el dataframe en geodataframe\n",
        "geo_parkings_no_info = gpd.GeoDataFrame(parkings_no_info_expandido, geometry='geometria', crs=\"EPSG:4326\")\n",
        "\n",
        "# Lo pasamos a este sistema de coordenadas más apropiado para el tratamiento que vamos a realizar de los datos\n",
        "geo_parkings_no_info = geo_parkings_no_info.to_crs(epsg=25830)"
      ]
    },
    {
      "cell_type": "code",
      "execution_count": 18,
      "id": "fILPO759_s7j",
      "metadata": {
        "id": "fILPO759_s7j"
      },
      "outputs": [],
      "source": [
        "# De nuevo hacemos todo el procedimiento para hacer join por cercanía con el dataframe de tráfico, quizás lo mejor sea hacer una función y aplicarla dos veces\n",
        "resultados = []\n",
        "\n",
        "grupos = geo_parkings_no_info[['fin_de_semana', 'int_tiempo']].drop_duplicates()\n",
        "\n",
        "for _, grupo in grupos.iterrows():\n",
        "\n",
        "    subset_parkings = geo_parkings_no_info[(geo_parkings_no_info['fin_de_semana'] == grupo['fin_de_semana']) & (geo_parkings_no_info['int_tiempo'] == grupo['int_tiempo'])]\n",
        "    subset_trafico = geo_trafico[(geo_trafico['fin_de_semana'] == grupo['fin_de_semana']) & (geo_trafico['int_tiempo'] == grupo['int_tiempo'])]\n",
        "\n",
        "    join = gpd.sjoin_nearest(\n",
        "        subset_parkings[['geometria','int_tiempo','fin_de_semana','numero_plazas','color','bateria_linea']],\n",
        "        subset_trafico[['geometria', 'media_intensidad', 'media_carga', 'media_ocupacion']],\n",
        "        how='left',\n",
        "        distance_col='distance'\n",
        "    )\n",
        "\n",
        "    resultados.append(join)\n",
        "\n",
        "geo_parking_no_info_completo = gpd.GeoDataFrame(pd.concat(resultados, ignore_index=True))\n"
      ]
    },
    {
      "cell_type": "code",
      "execution_count": 19,
      "id": "OKGVXzfAALjQ",
      "metadata": {
        "id": "OKGVXzfAALjQ",
        "outputId": "367e2b80-9c94-40a1-96d7-83bd999c71e7",
        "colab": {
          "base_uri": "https://localhost:8080/",
          "height": 399
        }
      },
      "outputs": [
        {
          "output_type": "execute_result",
          "data": {
            "text/plain": [
              "                      geometria int_tiempo  fin_de_semana  numero_plazas  \\\n",
              "0  POINT (439592.91 4473566.23)     Mañana              0              7   \n",
              "1  POINT (439569.61 4473598.22)     Mañana              0              4   \n",
              "2  POINT (439536.49 4473428.32)     Mañana              0              4   \n",
              "3  POINT (439525.36 4473404.28)     Mañana              0              4   \n",
              "4  POINT (439578.18 4473498.76)     Mañana              0              1   \n",
              "\n",
              "   color bateria_linea  index_right  media_intensidad  media_carga  \\\n",
              "0  Verde         Línea         7053        144.674297    21.432309   \n",
              "1  Verde         Línea         7053        144.674297    21.432309   \n",
              "2  Verde         Línea        37230        614.665141    21.202093   \n",
              "3  Verde         Línea        37230        614.665141    21.202093   \n",
              "4  Verde         Línea         7053        144.674297    21.432309   \n",
              "\n",
              "   media_ocupacion    distance  \n",
              "0         4.702420   76.555963  \n",
              "1         4.702420   38.157128  \n",
              "2         3.971877   67.620295  \n",
              "3         3.971877   62.527676  \n",
              "4         4.702420  127.296346  "
            ],
            "text/html": [
              "\n",
              "  <div id=\"df-ab09e43e-3f8c-4069-b5bf-f9b05046e1cb\" class=\"colab-df-container\">\n",
              "    <div>\n",
              "<style scoped>\n",
              "    .dataframe tbody tr th:only-of-type {\n",
              "        vertical-align: middle;\n",
              "    }\n",
              "\n",
              "    .dataframe tbody tr th {\n",
              "        vertical-align: top;\n",
              "    }\n",
              "\n",
              "    .dataframe thead th {\n",
              "        text-align: right;\n",
              "    }\n",
              "</style>\n",
              "<table border=\"1\" class=\"dataframe\">\n",
              "  <thead>\n",
              "    <tr style=\"text-align: right;\">\n",
              "      <th></th>\n",
              "      <th>geometria</th>\n",
              "      <th>int_tiempo</th>\n",
              "      <th>fin_de_semana</th>\n",
              "      <th>numero_plazas</th>\n",
              "      <th>color</th>\n",
              "      <th>bateria_linea</th>\n",
              "      <th>index_right</th>\n",
              "      <th>media_intensidad</th>\n",
              "      <th>media_carga</th>\n",
              "      <th>media_ocupacion</th>\n",
              "      <th>distance</th>\n",
              "    </tr>\n",
              "  </thead>\n",
              "  <tbody>\n",
              "    <tr>\n",
              "      <th>0</th>\n",
              "      <td>POINT (439592.91 4473566.23)</td>\n",
              "      <td>Mañana</td>\n",
              "      <td>0</td>\n",
              "      <td>7</td>\n",
              "      <td>Verde</td>\n",
              "      <td>Línea</td>\n",
              "      <td>7053</td>\n",
              "      <td>144.674297</td>\n",
              "      <td>21.432309</td>\n",
              "      <td>4.702420</td>\n",
              "      <td>76.555963</td>\n",
              "    </tr>\n",
              "    <tr>\n",
              "      <th>1</th>\n",
              "      <td>POINT (439569.61 4473598.22)</td>\n",
              "      <td>Mañana</td>\n",
              "      <td>0</td>\n",
              "      <td>4</td>\n",
              "      <td>Verde</td>\n",
              "      <td>Línea</td>\n",
              "      <td>7053</td>\n",
              "      <td>144.674297</td>\n",
              "      <td>21.432309</td>\n",
              "      <td>4.702420</td>\n",
              "      <td>38.157128</td>\n",
              "    </tr>\n",
              "    <tr>\n",
              "      <th>2</th>\n",
              "      <td>POINT (439536.49 4473428.32)</td>\n",
              "      <td>Mañana</td>\n",
              "      <td>0</td>\n",
              "      <td>4</td>\n",
              "      <td>Verde</td>\n",
              "      <td>Línea</td>\n",
              "      <td>37230</td>\n",
              "      <td>614.665141</td>\n",
              "      <td>21.202093</td>\n",
              "      <td>3.971877</td>\n",
              "      <td>67.620295</td>\n",
              "    </tr>\n",
              "    <tr>\n",
              "      <th>3</th>\n",
              "      <td>POINT (439525.36 4473404.28)</td>\n",
              "      <td>Mañana</td>\n",
              "      <td>0</td>\n",
              "      <td>4</td>\n",
              "      <td>Verde</td>\n",
              "      <td>Línea</td>\n",
              "      <td>37230</td>\n",
              "      <td>614.665141</td>\n",
              "      <td>21.202093</td>\n",
              "      <td>3.971877</td>\n",
              "      <td>62.527676</td>\n",
              "    </tr>\n",
              "    <tr>\n",
              "      <th>4</th>\n",
              "      <td>POINT (439578.18 4473498.76)</td>\n",
              "      <td>Mañana</td>\n",
              "      <td>0</td>\n",
              "      <td>1</td>\n",
              "      <td>Verde</td>\n",
              "      <td>Línea</td>\n",
              "      <td>7053</td>\n",
              "      <td>144.674297</td>\n",
              "      <td>21.432309</td>\n",
              "      <td>4.702420</td>\n",
              "      <td>127.296346</td>\n",
              "    </tr>\n",
              "  </tbody>\n",
              "</table>\n",
              "</div>\n",
              "    <div class=\"colab-df-buttons\">\n",
              "\n",
              "  <div class=\"colab-df-container\">\n",
              "    <button class=\"colab-df-convert\" onclick=\"convertToInteractive('df-ab09e43e-3f8c-4069-b5bf-f9b05046e1cb')\"\n",
              "            title=\"Convert this dataframe to an interactive table.\"\n",
              "            style=\"display:none;\">\n",
              "\n",
              "  <svg xmlns=\"http://www.w3.org/2000/svg\" height=\"24px\" viewBox=\"0 -960 960 960\">\n",
              "    <path d=\"M120-120v-720h720v720H120Zm60-500h600v-160H180v160Zm220 220h160v-160H400v160Zm0 220h160v-160H400v160ZM180-400h160v-160H180v160Zm440 0h160v-160H620v160ZM180-180h160v-160H180v160Zm440 0h160v-160H620v160Z\"/>\n",
              "  </svg>\n",
              "    </button>\n",
              "\n",
              "  <style>\n",
              "    .colab-df-container {\n",
              "      display:flex;\n",
              "      gap: 12px;\n",
              "    }\n",
              "\n",
              "    .colab-df-convert {\n",
              "      background-color: #E8F0FE;\n",
              "      border: none;\n",
              "      border-radius: 50%;\n",
              "      cursor: pointer;\n",
              "      display: none;\n",
              "      fill: #1967D2;\n",
              "      height: 32px;\n",
              "      padding: 0 0 0 0;\n",
              "      width: 32px;\n",
              "    }\n",
              "\n",
              "    .colab-df-convert:hover {\n",
              "      background-color: #E2EBFA;\n",
              "      box-shadow: 0px 1px 2px rgba(60, 64, 67, 0.3), 0px 1px 3px 1px rgba(60, 64, 67, 0.15);\n",
              "      fill: #174EA6;\n",
              "    }\n",
              "\n",
              "    .colab-df-buttons div {\n",
              "      margin-bottom: 4px;\n",
              "    }\n",
              "\n",
              "    [theme=dark] .colab-df-convert {\n",
              "      background-color: #3B4455;\n",
              "      fill: #D2E3FC;\n",
              "    }\n",
              "\n",
              "    [theme=dark] .colab-df-convert:hover {\n",
              "      background-color: #434B5C;\n",
              "      box-shadow: 0px 1px 3px 1px rgba(0, 0, 0, 0.15);\n",
              "      filter: drop-shadow(0px 1px 2px rgba(0, 0, 0, 0.3));\n",
              "      fill: #FFFFFF;\n",
              "    }\n",
              "  </style>\n",
              "\n",
              "    <script>\n",
              "      const buttonEl =\n",
              "        document.querySelector('#df-ab09e43e-3f8c-4069-b5bf-f9b05046e1cb button.colab-df-convert');\n",
              "      buttonEl.style.display =\n",
              "        google.colab.kernel.accessAllowed ? 'block' : 'none';\n",
              "\n",
              "      async function convertToInteractive(key) {\n",
              "        const element = document.querySelector('#df-ab09e43e-3f8c-4069-b5bf-f9b05046e1cb');\n",
              "        const dataTable =\n",
              "          await google.colab.kernel.invokeFunction('convertToInteractive',\n",
              "                                                    [key], {});\n",
              "        if (!dataTable) return;\n",
              "\n",
              "        const docLinkHtml = 'Like what you see? Visit the ' +\n",
              "          '<a target=\"_blank\" href=https://colab.research.google.com/notebooks/data_table.ipynb>data table notebook</a>'\n",
              "          + ' to learn more about interactive tables.';\n",
              "        element.innerHTML = '';\n",
              "        dataTable['output_type'] = 'display_data';\n",
              "        await google.colab.output.renderOutput(dataTable, element);\n",
              "        const docLink = document.createElement('div');\n",
              "        docLink.innerHTML = docLinkHtml;\n",
              "        element.appendChild(docLink);\n",
              "      }\n",
              "    </script>\n",
              "  </div>\n",
              "\n",
              "\n",
              "    <div id=\"df-89b2534b-da42-4f07-82df-08b132582c10\">\n",
              "      <button class=\"colab-df-quickchart\" onclick=\"quickchart('df-89b2534b-da42-4f07-82df-08b132582c10')\"\n",
              "                title=\"Suggest charts\"\n",
              "                style=\"display:none;\">\n",
              "\n",
              "<svg xmlns=\"http://www.w3.org/2000/svg\" height=\"24px\"viewBox=\"0 0 24 24\"\n",
              "     width=\"24px\">\n",
              "    <g>\n",
              "        <path d=\"M19 3H5c-1.1 0-2 .9-2 2v14c0 1.1.9 2 2 2h14c1.1 0 2-.9 2-2V5c0-1.1-.9-2-2-2zM9 17H7v-7h2v7zm4 0h-2V7h2v10zm4 0h-2v-4h2v4z\"/>\n",
              "    </g>\n",
              "</svg>\n",
              "      </button>\n",
              "\n",
              "<style>\n",
              "  .colab-df-quickchart {\n",
              "      --bg-color: #E8F0FE;\n",
              "      --fill-color: #1967D2;\n",
              "      --hover-bg-color: #E2EBFA;\n",
              "      --hover-fill-color: #174EA6;\n",
              "      --disabled-fill-color: #AAA;\n",
              "      --disabled-bg-color: #DDD;\n",
              "  }\n",
              "\n",
              "  [theme=dark] .colab-df-quickchart {\n",
              "      --bg-color: #3B4455;\n",
              "      --fill-color: #D2E3FC;\n",
              "      --hover-bg-color: #434B5C;\n",
              "      --hover-fill-color: #FFFFFF;\n",
              "      --disabled-bg-color: #3B4455;\n",
              "      --disabled-fill-color: #666;\n",
              "  }\n",
              "\n",
              "  .colab-df-quickchart {\n",
              "    background-color: var(--bg-color);\n",
              "    border: none;\n",
              "    border-radius: 50%;\n",
              "    cursor: pointer;\n",
              "    display: none;\n",
              "    fill: var(--fill-color);\n",
              "    height: 32px;\n",
              "    padding: 0;\n",
              "    width: 32px;\n",
              "  }\n",
              "\n",
              "  .colab-df-quickchart:hover {\n",
              "    background-color: var(--hover-bg-color);\n",
              "    box-shadow: 0 1px 2px rgba(60, 64, 67, 0.3), 0 1px 3px 1px rgba(60, 64, 67, 0.15);\n",
              "    fill: var(--button-hover-fill-color);\n",
              "  }\n",
              "\n",
              "  .colab-df-quickchart-complete:disabled,\n",
              "  .colab-df-quickchart-complete:disabled:hover {\n",
              "    background-color: var(--disabled-bg-color);\n",
              "    fill: var(--disabled-fill-color);\n",
              "    box-shadow: none;\n",
              "  }\n",
              "\n",
              "  .colab-df-spinner {\n",
              "    border: 2px solid var(--fill-color);\n",
              "    border-color: transparent;\n",
              "    border-bottom-color: var(--fill-color);\n",
              "    animation:\n",
              "      spin 1s steps(1) infinite;\n",
              "  }\n",
              "\n",
              "  @keyframes spin {\n",
              "    0% {\n",
              "      border-color: transparent;\n",
              "      border-bottom-color: var(--fill-color);\n",
              "      border-left-color: var(--fill-color);\n",
              "    }\n",
              "    20% {\n",
              "      border-color: transparent;\n",
              "      border-left-color: var(--fill-color);\n",
              "      border-top-color: var(--fill-color);\n",
              "    }\n",
              "    30% {\n",
              "      border-color: transparent;\n",
              "      border-left-color: var(--fill-color);\n",
              "      border-top-color: var(--fill-color);\n",
              "      border-right-color: var(--fill-color);\n",
              "    }\n",
              "    40% {\n",
              "      border-color: transparent;\n",
              "      border-right-color: var(--fill-color);\n",
              "      border-top-color: var(--fill-color);\n",
              "    }\n",
              "    60% {\n",
              "      border-color: transparent;\n",
              "      border-right-color: var(--fill-color);\n",
              "    }\n",
              "    80% {\n",
              "      border-color: transparent;\n",
              "      border-right-color: var(--fill-color);\n",
              "      border-bottom-color: var(--fill-color);\n",
              "    }\n",
              "    90% {\n",
              "      border-color: transparent;\n",
              "      border-bottom-color: var(--fill-color);\n",
              "    }\n",
              "  }\n",
              "</style>\n",
              "\n",
              "      <script>\n",
              "        async function quickchart(key) {\n",
              "          const quickchartButtonEl =\n",
              "            document.querySelector('#' + key + ' button');\n",
              "          quickchartButtonEl.disabled = true;  // To prevent multiple clicks.\n",
              "          quickchartButtonEl.classList.add('colab-df-spinner');\n",
              "          try {\n",
              "            const charts = await google.colab.kernel.invokeFunction(\n",
              "                'suggestCharts', [key], {});\n",
              "          } catch (error) {\n",
              "            console.error('Error during call to suggestCharts:', error);\n",
              "          }\n",
              "          quickchartButtonEl.classList.remove('colab-df-spinner');\n",
              "          quickchartButtonEl.classList.add('colab-df-quickchart-complete');\n",
              "        }\n",
              "        (() => {\n",
              "          let quickchartButtonEl =\n",
              "            document.querySelector('#df-89b2534b-da42-4f07-82df-08b132582c10 button');\n",
              "          quickchartButtonEl.style.display =\n",
              "            google.colab.kernel.accessAllowed ? 'block' : 'none';\n",
              "        })();\n",
              "      </script>\n",
              "    </div>\n",
              "\n",
              "    </div>\n",
              "  </div>\n"
            ],
            "application/vnd.google.colaboratory.intrinsic+json": {
              "type": "dataframe",
              "variable_name": "geo_parking_no_info_completo"
            }
          },
          "metadata": {},
          "execution_count": 19
        }
      ],
      "source": [
        "geo_parking_no_info_completo.head(5)"
      ]
    },
    {
      "cell_type": "code",
      "execution_count": 20,
      "id": "DNZdj0x7998b",
      "metadata": {
        "id": "DNZdj0x7998b",
        "outputId": "f3e7712d-4da1-4b88-ce4f-56d01220823d",
        "colab": {
          "base_uri": "https://localhost:8080/",
          "height": 109
        }
      },
      "outputs": [
        {
          "output_type": "execute_result",
          "data": {
            "text/plain": [
              "Empty GeoDataFrame\n",
              "Columns: [geometria, int_tiempo, fin_de_semana, numero_plazas, color, bateria_linea, index_right, media_intensidad, media_carga, media_ocupacion, distance]\n",
              "Index: []"
            ],
            "text/html": [
              "\n",
              "  <div id=\"df-37c28af8-d99e-43ef-a555-ea7f2b6ed6a8\" class=\"colab-df-container\">\n",
              "    <div>\n",
              "<style scoped>\n",
              "    .dataframe tbody tr th:only-of-type {\n",
              "        vertical-align: middle;\n",
              "    }\n",
              "\n",
              "    .dataframe tbody tr th {\n",
              "        vertical-align: top;\n",
              "    }\n",
              "\n",
              "    .dataframe thead th {\n",
              "        text-align: right;\n",
              "    }\n",
              "</style>\n",
              "<table border=\"1\" class=\"dataframe\">\n",
              "  <thead>\n",
              "    <tr style=\"text-align: right;\">\n",
              "      <th></th>\n",
              "      <th>geometria</th>\n",
              "      <th>int_tiempo</th>\n",
              "      <th>fin_de_semana</th>\n",
              "      <th>numero_plazas</th>\n",
              "      <th>color</th>\n",
              "      <th>bateria_linea</th>\n",
              "      <th>index_right</th>\n",
              "      <th>media_intensidad</th>\n",
              "      <th>media_carga</th>\n",
              "      <th>media_ocupacion</th>\n",
              "      <th>distance</th>\n",
              "    </tr>\n",
              "  </thead>\n",
              "  <tbody>\n",
              "  </tbody>\n",
              "</table>\n",
              "</div>\n",
              "    <div class=\"colab-df-buttons\">\n",
              "\n",
              "  <div class=\"colab-df-container\">\n",
              "    <button class=\"colab-df-convert\" onclick=\"convertToInteractive('df-37c28af8-d99e-43ef-a555-ea7f2b6ed6a8')\"\n",
              "            title=\"Convert this dataframe to an interactive table.\"\n",
              "            style=\"display:none;\">\n",
              "\n",
              "  <svg xmlns=\"http://www.w3.org/2000/svg\" height=\"24px\" viewBox=\"0 -960 960 960\">\n",
              "    <path d=\"M120-120v-720h720v720H120Zm60-500h600v-160H180v160Zm220 220h160v-160H400v160Zm0 220h160v-160H400v160ZM180-400h160v-160H180v160Zm440 0h160v-160H620v160ZM180-180h160v-160H180v160Zm440 0h160v-160H620v160Z\"/>\n",
              "  </svg>\n",
              "    </button>\n",
              "\n",
              "  <style>\n",
              "    .colab-df-container {\n",
              "      display:flex;\n",
              "      gap: 12px;\n",
              "    }\n",
              "\n",
              "    .colab-df-convert {\n",
              "      background-color: #E8F0FE;\n",
              "      border: none;\n",
              "      border-radius: 50%;\n",
              "      cursor: pointer;\n",
              "      display: none;\n",
              "      fill: #1967D2;\n",
              "      height: 32px;\n",
              "      padding: 0 0 0 0;\n",
              "      width: 32px;\n",
              "    }\n",
              "\n",
              "    .colab-df-convert:hover {\n",
              "      background-color: #E2EBFA;\n",
              "      box-shadow: 0px 1px 2px rgba(60, 64, 67, 0.3), 0px 1px 3px 1px rgba(60, 64, 67, 0.15);\n",
              "      fill: #174EA6;\n",
              "    }\n",
              "\n",
              "    .colab-df-buttons div {\n",
              "      margin-bottom: 4px;\n",
              "    }\n",
              "\n",
              "    [theme=dark] .colab-df-convert {\n",
              "      background-color: #3B4455;\n",
              "      fill: #D2E3FC;\n",
              "    }\n",
              "\n",
              "    [theme=dark] .colab-df-convert:hover {\n",
              "      background-color: #434B5C;\n",
              "      box-shadow: 0px 1px 3px 1px rgba(0, 0, 0, 0.15);\n",
              "      filter: drop-shadow(0px 1px 2px rgba(0, 0, 0, 0.3));\n",
              "      fill: #FFFFFF;\n",
              "    }\n",
              "  </style>\n",
              "\n",
              "    <script>\n",
              "      const buttonEl =\n",
              "        document.querySelector('#df-37c28af8-d99e-43ef-a555-ea7f2b6ed6a8 button.colab-df-convert');\n",
              "      buttonEl.style.display =\n",
              "        google.colab.kernel.accessAllowed ? 'block' : 'none';\n",
              "\n",
              "      async function convertToInteractive(key) {\n",
              "        const element = document.querySelector('#df-37c28af8-d99e-43ef-a555-ea7f2b6ed6a8');\n",
              "        const dataTable =\n",
              "          await google.colab.kernel.invokeFunction('convertToInteractive',\n",
              "                                                    [key], {});\n",
              "        if (!dataTable) return;\n",
              "\n",
              "        const docLinkHtml = 'Like what you see? Visit the ' +\n",
              "          '<a target=\"_blank\" href=https://colab.research.google.com/notebooks/data_table.ipynb>data table notebook</a>'\n",
              "          + ' to learn more about interactive tables.';\n",
              "        element.innerHTML = '';\n",
              "        dataTable['output_type'] = 'display_data';\n",
              "        await google.colab.output.renderOutput(dataTable, element);\n",
              "        const docLink = document.createElement('div');\n",
              "        docLink.innerHTML = docLinkHtml;\n",
              "        element.appendChild(docLink);\n",
              "      }\n",
              "    </script>\n",
              "  </div>\n",
              "\n",
              "\n",
              "  <div id=\"id_6b20aba1-99cf-47d8-bfdd-df307bde8350\">\n",
              "    <style>\n",
              "      .colab-df-generate {\n",
              "        background-color: #E8F0FE;\n",
              "        border: none;\n",
              "        border-radius: 50%;\n",
              "        cursor: pointer;\n",
              "        display: none;\n",
              "        fill: #1967D2;\n",
              "        height: 32px;\n",
              "        padding: 0 0 0 0;\n",
              "        width: 32px;\n",
              "      }\n",
              "\n",
              "      .colab-df-generate:hover {\n",
              "        background-color: #E2EBFA;\n",
              "        box-shadow: 0px 1px 2px rgba(60, 64, 67, 0.3), 0px 1px 3px 1px rgba(60, 64, 67, 0.15);\n",
              "        fill: #174EA6;\n",
              "      }\n",
              "\n",
              "      [theme=dark] .colab-df-generate {\n",
              "        background-color: #3B4455;\n",
              "        fill: #D2E3FC;\n",
              "      }\n",
              "\n",
              "      [theme=dark] .colab-df-generate:hover {\n",
              "        background-color: #434B5C;\n",
              "        box-shadow: 0px 1px 3px 1px rgba(0, 0, 0, 0.15);\n",
              "        filter: drop-shadow(0px 1px 2px rgba(0, 0, 0, 0.3));\n",
              "        fill: #FFFFFF;\n",
              "      }\n",
              "    </style>\n",
              "    <button class=\"colab-df-generate\" onclick=\"generateWithVariable('duplicados')\"\n",
              "            title=\"Generate code using this dataframe.\"\n",
              "            style=\"display:none;\">\n",
              "\n",
              "  <svg xmlns=\"http://www.w3.org/2000/svg\" height=\"24px\"viewBox=\"0 0 24 24\"\n",
              "       width=\"24px\">\n",
              "    <path d=\"M7,19H8.4L18.45,9,17,7.55,7,17.6ZM5,21V16.75L18.45,3.32a2,2,0,0,1,2.83,0l1.4,1.43a1.91,1.91,0,0,1,.58,1.4,1.91,1.91,0,0,1-.58,1.4L9.25,21ZM18.45,9,17,7.55Zm-12,3A5.31,5.31,0,0,0,4.9,8.1,5.31,5.31,0,0,0,1,6.5,5.31,5.31,0,0,0,4.9,4.9,5.31,5.31,0,0,0,6.5,1,5.31,5.31,0,0,0,8.1,4.9,5.31,5.31,0,0,0,12,6.5,5.46,5.46,0,0,0,6.5,12Z\"/>\n",
              "  </svg>\n",
              "    </button>\n",
              "    <script>\n",
              "      (() => {\n",
              "      const buttonEl =\n",
              "        document.querySelector('#id_6b20aba1-99cf-47d8-bfdd-df307bde8350 button.colab-df-generate');\n",
              "      buttonEl.style.display =\n",
              "        google.colab.kernel.accessAllowed ? 'block' : 'none';\n",
              "\n",
              "      buttonEl.onclick = () => {\n",
              "        google.colab.notebook.generateWithVariable('duplicados');\n",
              "      }\n",
              "      })();\n",
              "    </script>\n",
              "  </div>\n",
              "\n",
              "    </div>\n",
              "  </div>\n"
            ],
            "application/vnd.google.colaboratory.intrinsic+json": {
              "type": "dataframe",
              "variable_name": "duplicados",
              "repr_error": "Out of range float values are not JSON compliant: nan"
            }
          },
          "metadata": {},
          "execution_count": 20
        }
      ],
      "source": [
        "# Se comprueba si hay duplicados\n",
        "duplicados = geo_parking_no_info_completo[geo_parking_no_info_completo.duplicated(keep = False)]\n",
        "duplicados"
      ]
    },
    {
      "cell_type": "code",
      "execution_count": 21,
      "id": "I39mkQtJf-rL",
      "metadata": {
        "id": "I39mkQtJf-rL"
      },
      "outputs": [],
      "source": [
        "# Se eliminan las coordenadas que no nos interesan para el trabajo\n",
        "geo_parking_no_info_completo.drop(columns=['index_right', 'distance'], inplace=True)"
      ]
    },
    {
      "cell_type": "markdown",
      "id": "mG9II_7cX06c",
      "metadata": {
        "id": "mG9II_7cX06c"
      },
      "source": [
        "En este punto ya tenemos los dataframes que queríamos visualizar, se pueden visualizar los puntos de zonas ser con información conocida y aquellos de los que no tenemos información y a partir de estos continuaremos con un análisis exploratorio de ambos conjuntos y posteriormente con el modelado."
      ]
    },
    {
      "cell_type": "code",
      "execution_count": 22,
      "id": "DqbKWfhTbThr",
      "metadata": {
        "id": "DqbKWfhTbThr"
      },
      "outputs": [],
      "source": [
        "df_parking_info = pd.DataFrame(geo_parking_info_completo)\n",
        "df_parking_no_info = pd.DataFrame(geo_parking_no_info_completo)"
      ]
    },
    {
      "cell_type": "code",
      "execution_count": 23,
      "id": "XXlMHdmPrRV0",
      "metadata": {
        "id": "XXlMHdmPrRV0"
      },
      "outputs": [],
      "source": [
        "calles_ser.to_csv(\"calles_ser_df.csv\", index=False)\n",
        "trafico_df.to_csv(\"trafico_df.csv\", index=False)\n",
        "df_parking_info.to_csv(\"df_parking_info.csv\", index=False)\n",
        "df_parking_no_info.to_csv(\"df_parking_no_info.csv\", index=False)\n"
      ]
    },
    {
      "cell_type": "markdown",
      "id": "bQw9a2PNaA8T",
      "metadata": {
        "id": "bQw9a2PNaA8T"
      },
      "source": [
        "## Análisis Exploratorio de Datos\n",
        "En esta sección vamos a análizar en profundidad la información que nos dan nuestros datos, para ello vamos a estudiar los conjuntos de datos\n",
        "\n",
        "\n",
        "*   calles_ser\n",
        "*   geo_parking_info_completo\n",
        "*   geo_parking_no_info_completo\n",
        "*   trafico_df\n",
        "\n"
      ]
    },
    {
      "cell_type": "markdown",
      "id": "xikzn7XsdfhS",
      "metadata": {
        "id": "xikzn7XsdfhS"
      },
      "source": [
        "Aunque el dataset calles_ser no se va a utilizar por el mismo, por la naturaleza y la intención del trabajo se ha analizado para comprender y visualizar la distribución de las zonas SER del centro de la capital... Recordar incluir análisis univariante y bivariante."
      ]
    },
    {
      "cell_type": "markdown",
      "id": "fZ5_wVeLLa1D",
      "metadata": {
        "id": "fZ5_wVeLLa1D"
      },
      "source": [
        "Cabe mencionar que se podría llevar un análisis aún más detallado de los datos, puestos que éstos contienen una gran cantidad de información, pero se ha decidido llevar a cabo un análisis general pero que abarque todo lo necesario para no alargar excesivamente la extensión del trabajo. En particular, se ha intentado que sea una descripción visual que se entienda de manera fácil y directa."
      ]
    },
    {
      "cell_type": "markdown",
      "id": "IQeiP7vG9jfS",
      "metadata": {
        "id": "IQeiP7vG9jfS"
      },
      "source": [
        "En primer lugar comenzamos con el análisis exploratorio del dataset calles_ser, éste contiene información sobre las calles de Madrid centro en las que podemos encontrar servicio de estacionamiento regulado, con información adicional como el número de plazas asignado a cada zona, si se trata de un aparcamiento en línea o en batería o el tipo de zona de aparcamiento de la que se trata según su color: azul, verde, roja, naranja o de alta ..."
      ]
    },
    {
      "cell_type": "markdown",
      "source": [
        "### Calles SER"
      ],
      "metadata": {
        "id": "9SC_HXhpvUku"
      },
      "id": "9SC_HXhpvUku"
    },
    {
      "cell_type": "code",
      "source": [
        "# Tema de plotly para todas las gráficas\n",
        "import plotly.io as pio\n",
        "\n",
        "pio.templates.default = \"simple_white\""
      ],
      "metadata": {
        "id": "0gMpbD3-xUqm"
      },
      "id": "0gMpbD3-xUqm",
      "execution_count": null,
      "outputs": []
    },
    {
      "cell_type": "code",
      "execution_count": null,
      "id": "a0hSdEtn-Rqx",
      "metadata": {
        "id": "a0hSdEtn-Rqx"
      },
      "outputs": [],
      "source": [
        "calles_ser.head(5)"
      ]
    },
    {
      "cell_type": "code",
      "execution_count": null,
      "id": "mFpWiwX59isx",
      "metadata": {
        "id": "mFpWiwX59isx"
      },
      "outputs": [],
      "source": [
        "calles_ser.info()"
      ]
    },
    {
      "cell_type": "markdown",
      "id": "222U4-cmAfuP",
      "metadata": {
        "id": "222U4-cmAfuP"
      },
      "source": [
        "Analizamos los barrios principales, con más plazas, las calles, la proporción en la que son bateria_linea, la proporción en los colores del aparcamiento y la distribución en el número de plazas. Quitar gis_x y gis_y y mostrar aquí el mapa. Este y el de tráfico los analizamos para entender el comportamiento de los fenómenos que estamos estudiando, sin embargo, los dos df que hemos construido para trabajar en la sección anterior son los que vamos a tratar de cara al modelaje de datos."
      ]
    },
    {
      "cell_type": "markdown",
      "source": [
        "ANÁLISIS UNIVARIANTE"
      ],
      "metadata": {
        "id": "lxhIHjE2vZaB"
      },
      "id": "lxhIHjE2vZaB"
    },
    {
      "cell_type": "markdown",
      "source": [
        "Distrito"
      ],
      "metadata": {
        "id": "d72u2x55viP5"
      },
      "id": "d72u2x55viP5"
    },
    {
      "cell_type": "code",
      "source": [
        "# Nuestros datos contienen información de 13 distritos distintos\n",
        "len(calles_ser['distrito'].unique())"
      ],
      "metadata": {
        "id": "QuHgGR6wvutU"
      },
      "id": "QuHgGR6wvutU",
      "execution_count": null,
      "outputs": []
    },
    {
      "cell_type": "code",
      "source": [
        "# Distritos sobre los cuales tenemos información\n",
        "print(calles_ser['distrito'].unique())"
      ],
      "metadata": {
        "id": "2chA5tDhwLY4"
      },
      "id": "2chA5tDhwLY4",
      "execution_count": null,
      "outputs": []
    },
    {
      "cell_type": "code",
      "source": [
        "# Nº de zonas SER en cada distrito\n",
        "frecuencias = calles_ser['distrito'].value_counts().reset_index()\n",
        "frecuencias.columns = ['categoria', 'frecuencia']\n",
        "\n",
        "fig = px.bar(\n",
        "    frecuencias,\n",
        "    x='categoria',\n",
        "    y='frecuencia',\n",
        "    text='frecuencia',\n",
        "    title='Gráfico de barras distritos',\n",
        "    labels={'categoria': 'Distritos', 'frecuencia': 'Frecuencia'},\n",
        "    color='frecuencia'\n",
        ")\n",
        "\n",
        "fig.update_traces(textposition='outside')\n",
        "fig.update_layout(xaxis_tickangle=-45)\n",
        "fig.show()"
      ],
      "metadata": {
        "id": "Pp244ssJvh2d"
      },
      "id": "Pp244ssJvh2d",
      "execution_count": null,
      "outputs": []
    },
    {
      "cell_type": "markdown",
      "id": "-0t3Cc4I-kGn",
      "metadata": {
        "id": "-0t3Cc4I-kGn"
      },
      "source": [
        "BARRIO"
      ]
    },
    {
      "cell_type": "code",
      "source": [
        "# Nuestros datos contienen información de 63 barrios distintos\n",
        "len(calles_ser['barrio'].unique())"
      ],
      "metadata": {
        "id": "btb1ZHMsyH02"
      },
      "execution_count": null,
      "outputs": [],
      "id": "btb1ZHMsyH02"
    },
    {
      "cell_type": "code",
      "source": [
        "# Barrios sobre los cuales tenemos información\n",
        "print(calles_ser['barrio'].unique())"
      ],
      "metadata": {
        "id": "yFrIP2AnyH03"
      },
      "execution_count": null,
      "outputs": [],
      "id": "yFrIP2AnyH03"
    },
    {
      "cell_type": "code",
      "source": [
        "# Nº de zonas SER en cada barrio, mostramos los 20 barrios que más aparecen en nuestros daots\n",
        "frecuencias = calles_ser['barrio'].value_counts().head(20).reset_index()\n",
        "frecuencias.columns = ['categoria', 'frecuencia']\n",
        "\n",
        "fig = px.bar(\n",
        "    frecuencias,\n",
        "    x='categoria',\n",
        "    y='frecuencia',\n",
        "    text='frecuencia',\n",
        "    title='Gráfico de barras barrios',\n",
        "    labels={'categoria': 'Barrios', 'frecuencia': 'Frecuencia'},\n",
        "    color='frecuencia'\n",
        ")\n",
        "\n",
        "fig.update_traces(textposition='outside')\n",
        "fig.update_layout(xaxis_tickangle=-45)\n",
        "fig.show()"
      ],
      "metadata": {
        "id": "st4ebpCdyH03"
      },
      "execution_count": null,
      "outputs": [],
      "id": "st4ebpCdyH03"
    },
    {
      "cell_type": "markdown",
      "source": [
        "CALLES"
      ],
      "metadata": {
        "id": "0fHdr1MCzHKd"
      },
      "id": "0fHdr1MCzHKd"
    },
    {
      "cell_type": "code",
      "execution_count": null,
      "id": "XmD7gPoH-Td_",
      "metadata": {
        "id": "XmD7gPoH-Td_"
      },
      "outputs": [],
      "source": [
        "# Nº de calles de las que tenemos información\n",
        "calles_ser['calle'].nunique()"
      ]
    },
    {
      "cell_type": "code",
      "execution_count": null,
      "id": "OBKMRooHCfQq",
      "metadata": {
        "id": "OBKMRooHCfQq"
      },
      "outputs": [],
      "source": [
        "# No vamos a mostrar todas las calles que aparecen pero sí las 20 calles que más aparecen en nuestros datos\n",
        "# Vemos que la calle que más aparece es el Paseo de la Castellana\n",
        "frecuencias = calles_ser['calle'].value_counts().head(20).reset_index()\n",
        "frecuencias.columns = ['categoria', 'frecuencia']\n",
        "\n",
        "fig = px.bar(\n",
        "    frecuencias,\n",
        "    x='categoria',\n",
        "    y='frecuencia',\n",
        "    text='frecuencia',\n",
        "    title='Distribución de categorías',\n",
        "    labels={'categoria': 'Categoría', 'frecuencia': 'Frecuencia'},\n",
        "    color='frecuencia'\n",
        ")\n",
        "fig.update_traces(textposition='outside')\n",
        "fig.update_layout(xaxis_tickangle=-45)\n",
        "fig.show()"
      ]
    },
    {
      "cell_type": "markdown",
      "id": "ilrAYYhuGeEW",
      "metadata": {
        "id": "ilrAYYhuGeEW"
      },
      "source": [
        "Las variables bateria_linea y color las vamos a estudiar mediante gráficos de sectores circulares puesto que ambas tienen entre 2 y 5 valores distintos, por lo que estas visualizaciones son ideales para ver su distribución en éstos casos."
      ]
    },
    {
      "cell_type": "code",
      "execution_count": null,
      "id": "oQzu14Jw_n5j",
      "metadata": {
        "id": "oQzu14Jw_n5j"
      },
      "outputs": [],
      "source": [
        "import plotly.express as px\n",
        "\n",
        "# Variable categórica que quieres visualizar\n",
        "columna = 'bateria_linea'  # por ejemplo\n",
        "\n",
        "# Agrupar y contar ocurrencias\n",
        "df_pie = calles_ser[columna].value_counts().reset_index()\n",
        "df_pie.columns = [columna, 'cuentas']\n",
        "\n",
        "# Crear gráfico\n",
        "fig = px.pie(\n",
        "    df_pie,\n",
        "    names=columna,\n",
        "    values='cuentas',\n",
        "    title=f'Distribución de {columna}',\n",
        "    color_discrete_sequence=px.colors.qualitative.Set2\n",
        ")\n",
        "\n",
        "fig.update_traces(textinfo='percent+label')\n",
        "fig.show()\n"
      ]
    },
    {
      "cell_type": "markdown",
      "id": "V2jxT_jXHALd",
      "metadata": {
        "id": "V2jxT_jXHALd"
      },
      "source": [
        "cambiar los colores de ésto para que vaya en consonancia."
      ]
    },
    {
      "cell_type": "code",
      "execution_count": null,
      "id": "E1q31xQOG48N",
      "metadata": {
        "id": "E1q31xQOG48N"
      },
      "outputs": [],
      "source": [
        "import plotly.express as px\n",
        "\n",
        "# Variable categórica que quieres visualizar\n",
        "columna = 'color'  # por ejemplo\n",
        "\n",
        "colores = {\n",
        "    'Azul': 'blue',\n",
        "    'Verde': 'green',\n",
        "    'Rojo': 'red',\n",
        "    'Naranja': 'orange',\n",
        "    'Alta Rotación': 'purple'\n",
        "}\n",
        "\n",
        "# Agrupar y contar ocurrencias\n",
        "df_pie = calles_ser[columna].value_counts().reset_index()\n",
        "df_pie.columns = [columna, 'cuentas']\n",
        "\n",
        "# Crear gráfico\n",
        "fig = px.pie(\n",
        "    df_pie,\n",
        "    names=columna,\n",
        "    values='cuentas',\n",
        "    color=columna,\n",
        "    title=f'Distribución de {columna}',\n",
        "    color_discrete_map=colores\n",
        ")\n",
        "\n",
        "fig.update_traces(textinfo='percent+label')\n",
        "fig.show()\n"
      ]
    },
    {
      "cell_type": "markdown",
      "source": [
        "Numero de plazas"
      ],
      "metadata": {
        "id": "b5hdnKmUzs7L"
      },
      "id": "b5hdnKmUzs7L"
    },
    {
      "cell_type": "code",
      "source": [
        "# Nº total de plazas 177622 plazas de aparcamiento\n",
        "print(calles_ser['numero_plazas'].sum())"
      ],
      "metadata": {
        "id": "HOeOh9dB29SQ"
      },
      "id": "HOeOh9dB29SQ",
      "execution_count": null,
      "outputs": []
    },
    {
      "cell_type": "code",
      "source": [
        "calles_ser['numero_plazas'].describe()"
      ],
      "metadata": {
        "id": "wbmBJIpHzsha"
      },
      "id": "wbmBJIpHzsha",
      "execution_count": null,
      "outputs": []
    },
    {
      "cell_type": "code",
      "execution_count": null,
      "id": "VkGEcGl3HNq0",
      "metadata": {
        "id": "VkGEcGl3HNq0"
      },
      "outputs": [],
      "source": [
        "# Vemos la distribución de la variable de manera visual mediante su histograma y boxplot\n",
        "variable = 'numero_plazas'\n",
        "\n",
        "# Crear subplots\n",
        "fig = make_subplots(\n",
        "    rows=2, cols=1,\n",
        "    shared_xaxes=True,\n",
        "    vertical_spacing=0.05,\n",
        "    row_heights=[0.25, 0.75]\n",
        ")\n",
        "\n",
        "# Boxplot\n",
        "fig.add_trace(\n",
        "    go.Box(x=calles_ser[variable], name='Boxplot', boxpoints='outliers'),\n",
        "    row=1, col=1\n",
        ")\n",
        "\n",
        "# Histograma\n",
        "fig.add_trace(\n",
        "    go.Histogram(x=calles_ser[variable], nbinsx=30, name='Histograma'),\n",
        "    row=2, col=1\n",
        ")\n",
        "\n",
        "fig.update_layout(\n",
        "    title_text=f'Distribución de \"{variable}\": Histograma + Boxplot',\n",
        "    showlegend=False,\n",
        "    height=500\n",
        ")\n",
        "\n",
        "fig.show()\n"
      ]
    },
    {
      "cell_type": "markdown",
      "source": [
        "Vemos que la mayoría de zonas SER tienen entre 0 y 9 plazas de aparcamiento, aunque lo normal es que tengan hasta 29. El máximo número de plazas de una zona SER es 183."
      ],
      "metadata": {
        "id": "MOoC4skZ0T87"
      },
      "id": "MOoC4skZ0T87"
    },
    {
      "cell_type": "code",
      "source": [
        "df_plazas = (\n",
        "    calles_ser\n",
        "    .groupby(['distrito', 'barrio'], as_index=False)\n",
        "    .agg({'numero_plazas': 'sum'})\n",
        ")\n"
      ],
      "metadata": {
        "id": "IiHeUjf_3Khp"
      },
      "id": "IiHeUjf_3Khp",
      "execution_count": null,
      "outputs": []
    },
    {
      "cell_type": "code",
      "source": [
        "fig = px.treemap(\n",
        "    df_plazas,\n",
        "    path=['distrito', 'barrio'],\n",
        "    values='numero_plazas',\n",
        "    title='Número de plazas por distrito y barrio'\n",
        ")\n",
        "\n",
        "fig.show()\n"
      ],
      "metadata": {
        "id": "8ZyxyWB53Vsk"
      },
      "id": "8ZyxyWB53Vsk",
      "execution_count": null,
      "outputs": []
    },
    {
      "cell_type": "code",
      "source": [
        "df_top_calles = (\n",
        "    calles_ser\n",
        "    .sort_values('numero_plazas', ascending=False)\n",
        "    .drop_duplicates(subset=['distrito', 'barrio'])\n",
        "    [['distrito', 'barrio', 'calle', 'numero_plazas']]\n",
        "    .sort_values(['distrito', 'barrio'])  # opcional para orden visual\n",
        ")"
      ],
      "metadata": {
        "id": "Sbov7OB92Mvx"
      },
      "id": "Sbov7OB92Mvx",
      "execution_count": null,
      "outputs": []
    },
    {
      "cell_type": "code",
      "source": [
        "df_top_calles['Etiqueta'] = df_top_calles['distrito'] + ' | ' + df_top_calles['barrio'] + ' | ' + df_top_calles['calle']\n",
        "\n",
        "fig = px.bar(\n",
        "    df_top_calles,\n",
        "    x='numero_plazas',\n",
        "    y='Etiqueta',\n",
        "    orientation='h',\n",
        "    title='Calle con más plazas por barrio y distrito',\n",
        "    labels={'numero_plazas': 'Número de Plazas', 'Etiqueta': 'Distrito | Barrio | Calle'}\n",
        ")\n",
        "\n",
        "fig.update_layout(yaxis={'categoryorder':'total ascending'})\n",
        "fig.show()"
      ],
      "metadata": {
        "id": "dOIPwczW2omg"
      },
      "id": "dOIPwczW2omg",
      "execution_count": null,
      "outputs": []
    },
    {
      "cell_type": "markdown",
      "source": [
        "Vemos por  ejemplo que el paseo de la castellana era la calle que más aparecía en nuestro dataframe, sin embargo, es porque en la propia calle existen muchas zonas SER distintas, no porque sea la calle con el mayor número de plazas de aparcamiento."
      ],
      "metadata": {
        "id": "-e97Wbx649i0"
      },
      "id": "-e97Wbx649i0"
    },
    {
      "cell_type": "code",
      "source": [
        "colores = {\n",
        "    'Azul': 'blue',\n",
        "    'Verde': 'green',\n",
        "    'Rojo': 'red',\n",
        "    'Naranja': 'orange',\n",
        "    'Alta Rotación': 'purple'\n",
        "}\n",
        "\n",
        "df_color = (\n",
        "    calles_ser\n",
        "    .groupby('color', as_index=False)\n",
        "    .agg({'numero_plazas': 'sum'})\n",
        "    .sort_values('numero_plazas', ascending=False)\n",
        ")\n",
        "\n",
        "fig = px.pie(\n",
        "    df_color,\n",
        "    names='color',\n",
        "    color='color',\n",
        "    color_discrete_map=colores,\n",
        "    values='numero_plazas',\n",
        "    title='Distribución de plazas por color'\n",
        ")\n",
        "\n",
        "fig.update_traces(textinfo='percent+label')\n",
        "fig.show()\n"
      ],
      "metadata": {
        "id": "vaz-q5546YgN"
      },
      "id": "vaz-q5546YgN",
      "execution_count": null,
      "outputs": []
    },
    {
      "cell_type": "markdown",
      "id": "WnvOSpdvHG0n",
      "metadata": {
        "id": "WnvOSpdvHG0n"
      },
      "source": [
        "Finalmente estudiamos la distribución del número de plazas de las zonas SER¡"
      ]
    },
    {
      "cell_type": "markdown",
      "id": "NEhZkgAm_2tm",
      "metadata": {
        "id": "NEhZkgAm_2tm"
      },
      "source": [
        "Podemos observar que la mayoría de las zonas SER se encuentran entre 1 y 15 plazas como nos indica el boxplot aunque también cuenta con numerosos outliers, correspondientes a zonas de aparcamiento más amplias."
      ]
    },
    {
      "cell_type": "markdown",
      "id": "3voGQw4pIYHh",
      "metadata": {
        "id": "3voGQw4pIYHh"
      },
      "source": [
        "Finalemente observamos un mapa de Madrid con las correspondientes zonas SER dibujadas en función de su color y su tamaño en función del número de plazas para obtener así una apreciación visual de lo que estamos estudiando."
      ]
    },
    {
      "cell_type": "code",
      "execution_count": null,
      "id": "QACoc4Z0IXM5",
      "metadata": {
        "id": "QACoc4Z0IXM5"
      },
      "outputs": [],
      "source": [
        "import plotly.graph_objects as go\n",
        "\n",
        "# Colores por tipo de zona\n",
        "color_map = {\n",
        "    'Azul': 'blue',\n",
        "    'Verde': 'green',\n",
        "    'Alta Rotación': 'purple',\n",
        "    'Rojo': 'red',\n",
        "    'Naranja': 'orange'\n",
        "}\n",
        "\n",
        "# Crear figura base\n",
        "fig = go.Figure()\n",
        "\n",
        "# Añadir todos los puntos (sin distinción por batería/línea)\n",
        "fig.add_trace(go.Scattermapbox(\n",
        "    lat=calles_ser['latitud'],\n",
        "    lon=calles_ser['longitud'],\n",
        "    mode='markers',\n",
        "    marker=dict(\n",
        "        size=3,  # Tamaño fijo para todos los puntos\n",
        "        color=calles_ser['color'].map(color_map),\n",
        "        symbol='circle'\n",
        "    ),\n",
        "    text=calles_ser['calle'],\n",
        "    hovertemplate='<b>%{text}</b><br>' +\n",
        "                  'Color: %{marker.color}<br>' +\n",
        "                  'Nº plazas: %{customdata}<extra></extra>',\n",
        "    customdata=calles_ser['numero_plazas'],  # Para mostrar nº plazas en hover\n",
        "    name='Zonas SER'\n",
        "))\n",
        "\n",
        "# Configuración del mapa\n",
        "fig.update_layout(\n",
        "    mapbox=dict(\n",
        "        style=\"carto-positron\",\n",
        "        center=dict(\n",
        "            lat=calles_ser['latitud'].mean(),\n",
        "            lon=calles_ser['longitud'].mean()\n",
        "        ),\n",
        "        zoom=11\n",
        "    ),\n",
        "    title='Mapa de zonas SER de Madrid centro',\n",
        "    height=700,\n",
        "    showlegend=False\n",
        ")\n",
        "\n",
        "fig.show()\n"
      ]
    },
    {
      "cell_type": "markdown",
      "source": [
        "TRAFICO"
      ],
      "metadata": {
        "id": "xaecBp3kAFzM"
      },
      "id": "xaecBp3kAFzM"
    },
    {
      "cell_type": "markdown",
      "id": "63u6RYsLMNYX",
      "metadata": {
        "id": "63u6RYsLMNYX"
      },
      "source": [
        "Hacer un análisis de los datos de tráfico, y mencionar que luego estos dos conjuntos de datos se han dividido en la sección anterior dedicada al pretratamiento de los datos para el posterior modelado. Así a continuación se hará un análisis muy breve de los conjuntos de datos df_parking_info y df_parking_no_info, sobre todo de cara a que estén preparados de manera idónea para la parte de modelización."
      ]
    },
    {
      "cell_type": "code",
      "execution_count": null,
      "id": "S1uT8TgBNzXT",
      "metadata": {
        "id": "S1uT8TgBNzXT"
      },
      "outputs": [],
      "source": [
        "trafico_df.info()"
      ]
    },
    {
      "cell_type": "code",
      "source": [
        "trafico_df['media_intensidad'].describe()"
      ],
      "metadata": {
        "id": "Ump7odPi9sln"
      },
      "execution_count": null,
      "outputs": [],
      "id": "Ump7odPi9sln"
    },
    {
      "cell_type": "code",
      "execution_count": null,
      "metadata": {
        "id": "7VCOR05T9sln"
      },
      "outputs": [],
      "source": [
        "# Vemos la distribución de la variable de manera visual mediante su histograma y boxplot\n",
        "variable = 'media_intensidad'\n",
        "\n",
        "# Crear subplots\n",
        "fig = make_subplots(\n",
        "    rows=2, cols=1,\n",
        "    shared_xaxes=True,\n",
        "    vertical_spacing=0.05,\n",
        "    row_heights=[0.25, 0.75]\n",
        ")\n",
        "\n",
        "# Boxplot\n",
        "fig.add_trace(\n",
        "    go.Box(x=trafico_df[variable], name='Boxplot', boxpoints='outliers'),\n",
        "    row=1, col=1\n",
        ")\n",
        "\n",
        "# Histograma\n",
        "fig.add_trace(\n",
        "    go.Histogram(x=trafico_df[variable], nbinsx=30, name='Histograma'),\n",
        "    row=2, col=1\n",
        ")\n",
        "\n",
        "fig.update_layout(\n",
        "    title_text=f'Distribución de \"{variable}\": Histograma + Boxplot',\n",
        "    showlegend=False,\n",
        "    height=500\n",
        ")\n",
        "\n",
        "fig.show()\n"
      ],
      "id": "7VCOR05T9sln"
    },
    {
      "cell_type": "markdown",
      "source": [
        "Vemos que es una distribución muy asimétrica hacia la izquierda"
      ],
      "metadata": {
        "id": "AEhMtZnm979I"
      },
      "id": "AEhMtZnm979I"
    },
    {
      "cell_type": "code",
      "source": [
        "trafico_df['media_ocupacion'].describe()"
      ],
      "metadata": {
        "id": "DAU1X1gN9qtt"
      },
      "execution_count": null,
      "outputs": [],
      "id": "DAU1X1gN9qtt"
    },
    {
      "cell_type": "code",
      "execution_count": null,
      "metadata": {
        "id": "ZqpfumOE9qtu"
      },
      "outputs": [],
      "source": [
        "# Vemos la distribución de la variable de manera visual mediante su histograma y boxplot\n",
        "variable = 'media_ocupacion'\n",
        "\n",
        "# Crear subplots\n",
        "fig = make_subplots(\n",
        "    rows=2, cols=1,\n",
        "    shared_xaxes=True,\n",
        "    vertical_spacing=0.05,\n",
        "    row_heights=[0.25, 0.75]\n",
        ")\n",
        "\n",
        "# Boxplot\n",
        "fig.add_trace(\n",
        "    go.Box(x=trafico_df[variable], name='Boxplot', boxpoints='outliers'),\n",
        "    row=1, col=1\n",
        ")\n",
        "\n",
        "# Histograma\n",
        "fig.add_trace(\n",
        "    go.Histogram(x=trafico_df[variable], nbinsx=30, name='Histograma'),\n",
        "    row=2, col=1\n",
        ")\n",
        "\n",
        "fig.update_layout(\n",
        "    title_text=f'Distribución de \"{variable}\": Histograma + Boxplot',\n",
        "    showlegend=False,\n",
        "    height=500\n",
        ")\n",
        "\n",
        "fig.show()\n"
      ],
      "id": "ZqpfumOE9qtu"
    },
    {
      "cell_type": "code",
      "source": [
        "trafico_df['media_carga'].describe()"
      ],
      "metadata": {
        "id": "xKTWmiR6-NEc"
      },
      "id": "xKTWmiR6-NEc",
      "execution_count": null,
      "outputs": []
    },
    {
      "cell_type": "code",
      "source": [
        "# Vemos la distribución de la variable de manera visual mediante su histograma y boxplot\n",
        "variable = 'media_carga'\n",
        "\n",
        "# Crear subplots\n",
        "fig = make_subplots(\n",
        "    rows=2, cols=1,\n",
        "    shared_xaxes=True,\n",
        "    vertical_spacing=0.05,\n",
        "    row_heights=[0.25, 0.75]\n",
        ")\n",
        "\n",
        "# Boxplot\n",
        "fig.add_trace(\n",
        "    go.Box(x=trafico_df[variable], name='Boxplot', boxpoints='outliers'),\n",
        "    row=1, col=1\n",
        ")\n",
        "\n",
        "# Histograma\n",
        "fig.add_trace(\n",
        "    go.Histogram(x=trafico_df[variable], nbinsx=30, name='Histograma'),\n",
        "    row=2, col=1\n",
        ")\n",
        "\n",
        "fig.update_layout(\n",
        "    title_text=f'Distribución de \"{variable}\": Histograma + Boxplot',\n",
        "    showlegend=False,\n",
        "    height=500\n",
        ")\n",
        "\n",
        "fig.show()\n"
      ],
      "metadata": {
        "id": "4gS3l8wD-M28"
      },
      "id": "4gS3l8wD-M28",
      "execution_count": null,
      "outputs": []
    },
    {
      "cell_type": "code",
      "execution_count": null,
      "id": "thufgdcgM1Wn",
      "metadata": {
        "id": "thufgdcgM1Wn"
      },
      "outputs": [],
      "source": [
        "# Se calcula la matriz de correlación para las variables\n",
        "corr = trafico_df[['media_intensidad','media_ocupacion','media_carga']].corr()\n",
        "\n",
        "fig = px.imshow(\n",
        "    corr,\n",
        "    text_auto=True,\n",
        "    color_continuous_scale='OrRd',\n",
        "    title='Matriz de Correlación',\n",
        "    aspect='auto'\n",
        ")\n",
        "\n",
        "fig.show()"
      ]
    },
    {
      "cell_type": "code",
      "execution_count": null,
      "metadata": {
        "id": "K_wSEBSV-rra"
      },
      "outputs": [],
      "source": [
        "# Crear figura base\n",
        "fig = go.Figure()\n",
        "\n",
        "# Añadir todos los puntos (sin distinción por batería/línea)\n",
        "fig.add_trace(go.Scattermapbox(\n",
        "    lat=trafico_df['latitud'],\n",
        "    lon=trafico_df['longitud'],\n",
        "    mode='markers',\n",
        "    marker=dict(\n",
        "        size=3,\n",
        "        color = 'black',\n",
        "        symbol='circle'\n",
        "    ),\n",
        "    name=''\n",
        "))\n",
        "\n",
        "# Configuración del mapa\n",
        "fig.update_layout(\n",
        "    mapbox=dict(\n",
        "        style=\"carto-positron\",\n",
        "        center=dict(\n",
        "            lat=trafico_df['latitud'].mean(),\n",
        "            lon=trafico_df['longitud'].mean()\n",
        "        ),\n",
        "        zoom=11\n",
        "    ),\n",
        "    title='Mapa de puntos de medida de tráfico de Madrid',\n",
        "    height=700,\n",
        "    showlegend=False\n",
        ")\n",
        "\n",
        "fig.show()\n"
      ],
      "id": "K_wSEBSV-rra"
    },
    {
      "cell_type": "code",
      "source": [
        "fig = px.box(\n",
        "    trafico_df,\n",
        "    x='int_tiempo',\n",
        "    y='media_intensidad',\n",
        "    color='fin_de_semana',\n",
        "    title='Distribución de intensidad media por tramo horario y tipo de día',\n",
        "    labels={'tramo_tiempo': 'Tramo horario', 'ocupacion_media': 'Ocupación media'}\n",
        ")\n",
        "fig.show()"
      ],
      "metadata": {
        "id": "LB2AIHcL_gET"
      },
      "id": "LB2AIHcL_gET",
      "execution_count": null,
      "outputs": []
    },
    {
      "cell_type": "code",
      "source": [
        "fig = px.box(\n",
        "    trafico_df,\n",
        "    x='int_tiempo',\n",
        "    y='media_ocupacion',\n",
        "    color='fin_de_semana',\n",
        "    title='Distribución de intensidad media por tramo horario y tipo de día',\n",
        "    labels={'tramo_tiempo': 'Tramo horario', 'ocupacion_media': 'Ocupación media'}\n",
        ")\n",
        "fig.show()"
      ],
      "metadata": {
        "id": "k2g8pyJQ_tPU"
      },
      "id": "k2g8pyJQ_tPU",
      "execution_count": null,
      "outputs": []
    },
    {
      "cell_type": "markdown",
      "id": "v4150v8HOOfP",
      "metadata": {
        "id": "v4150v8HOOfP"
      },
      "source": [
        "Vemos que sobretodo la variable media_carga guarda una correlación considerable con las dos restantes por lo que se podría considerar descartarla."
      ]
    },
    {
      "cell_type": "markdown",
      "source": [
        "DF_PARKING_INFO"
      ],
      "metadata": {
        "id": "MajjJWMIARYX"
      },
      "id": "MajjJWMIARYX"
    },
    {
      "cell_type": "code",
      "execution_count": null,
      "id": "2s_fuRhm3bds",
      "metadata": {
        "id": "2s_fuRhm3bds"
      },
      "outputs": [],
      "source": [
        "df_parking_info.head()"
      ]
    },
    {
      "cell_type": "code",
      "execution_count": null,
      "id": "PM88goC7Z_cQ",
      "metadata": {
        "id": "PM88goC7Z_cQ"
      },
      "outputs": [],
      "source": [
        "df_parking_info.info()"
      ]
    },
    {
      "cell_type": "markdown",
      "id": "_4j-dezKb8iO",
      "metadata": {
        "id": "_4j-dezKb8iO"
      },
      "source": [
        "Sobretodo interpretar las variables num_registros y media_minutos."
      ]
    },
    {
      "cell_type": "code",
      "execution_count": null,
      "id": "HeRY81JNdR3l",
      "metadata": {
        "id": "HeRY81JNdR3l"
      },
      "outputs": [],
      "source": [
        "import plotly.graph_objects as go\n",
        "from plotly.subplots import make_subplots\n",
        "\n",
        "columnas_numericas = ['media_minutos', 'num_registros', 'numero_plazas',\n",
        "                      'media_intensidad', 'media_carga', 'media_ocupacion']\n",
        "\n",
        "# Crear subplots: 2 filas x 3 columnas (ajusta según cuántas columnas tengas)\n",
        "fig = make_subplots(rows=2, cols=3, subplot_titles=columnas_numericas)\n",
        "\n",
        "# Añadir cada histograma\n",
        "for i, columna in enumerate(columnas_numericas):\n",
        "    row = i // 3 + 1\n",
        "    col = i % 3 + 1\n",
        "    fig.add_trace(\n",
        "        go.Histogram(x=df_parking_info[columna], nbinsx=30, name=columna),\n",
        "        row=row, col=col\n",
        "    )\n",
        "\n",
        "fig.update_layout(height=600, width=1000, title_text=\"Histogramas de variables numéricas\")\n",
        "fig.show()\n"
      ]
    },
    {
      "cell_type": "code",
      "execution_count": null,
      "id": "Arsp_T_kjnvL",
      "metadata": {
        "id": "Arsp_T_kjnvL"
      },
      "outputs": [],
      "source": [
        "import plotly.graph_objects as go\n",
        "from plotly.subplots import make_subplots\n",
        "\n",
        "# Crear subplots: 2 filas x 3 columnas\n",
        "fig = make_subplots(rows=2, cols=3, subplot_titles=columnas_numericas)\n",
        "\n",
        "# Añadir cada boxplot\n",
        "for i, columna in enumerate(columnas_numericas):\n",
        "    row = i // 3 + 1\n",
        "    col = i % 3 + 1\n",
        "    fig.add_trace(\n",
        "        go.Box(y=df_parking_info[columna], name=columna),\n",
        "        row=row, col=col\n",
        "    )\n",
        "\n",
        "fig.update_layout(height=600, width=1000, title_text=\"Boxplots de variables numéricas\")\n",
        "fig.show()\n"
      ]
    },
    {
      "cell_type": "markdown",
      "id": "7n76SEnf-pK_",
      "metadata": {
        "id": "7n76SEnf-pK_"
      },
      "source": [
        "Podemos ver que las distribuciones en general son muy asimétricas a la izquierda con largas colas, lo que nos informa de la abundante presencia de outliers. Que a continuación trataremos."
      ]
    },
    {
      "cell_type": "code",
      "execution_count": null,
      "id": "Hv3qP5LTnqk6",
      "metadata": {
        "id": "Hv3qP5LTnqk6"
      },
      "outputs": [],
      "source": [
        "df_parking_info['color'].value_counts()"
      ]
    },
    {
      "cell_type": "code",
      "execution_count": null,
      "id": "FsCkT-VGfnUm",
      "metadata": {
        "id": "FsCkT-VGfnUm"
      },
      "outputs": [],
      "source": [
        "df_parking_no_info.head()"
      ]
    },
    {
      "cell_type": "code",
      "execution_count": null,
      "id": "xpgTmRVNfP6Y",
      "metadata": {
        "id": "xpgTmRVNfP6Y"
      },
      "outputs": [],
      "source": [
        "df_parking_no_info.describe().T"
      ]
    },
    {
      "cell_type": "code",
      "execution_count": null,
      "id": "Z3xDgPcq_NN8",
      "metadata": {
        "id": "Z3xDgPcq_NN8"
      },
      "outputs": [],
      "source": [
        "import plotly.graph_objects as go\n",
        "from plotly.subplots import make_subplots\n",
        "\n",
        "columnas_numericas = ['numero_plazas', 'media_intensidad', 'media_carga', 'media_ocupacion']\n",
        "\n",
        "fig = make_subplots(rows=1, cols=4, subplot_titles=columnas_numericas)\n",
        "\n",
        "# Añadir cada histograma\n",
        "for i, columna in enumerate(columnas_numericas):\n",
        "    row = 1\n",
        "    col = i + 1\n",
        "    fig.add_trace(\n",
        "        go.Histogram(x=df_parking_info[columna], nbinsx=30, name=columna),\n",
        "        row=row, col=col\n",
        "    )\n",
        "\n",
        "fig.update_layout(height=600, width=1000, title_text=\"Histogramas de variables numéricas\")\n",
        "fig.show()\n"
      ]
    },
    {
      "cell_type": "code",
      "execution_count": null,
      "id": "85ohNiqcAMcC",
      "metadata": {
        "id": "85ohNiqcAMcC"
      },
      "outputs": [],
      "source": [
        "import plotly.graph_objects as go\n",
        "from plotly.subplots import make_subplots\n",
        "\n",
        "fig = make_subplots(rows=1, cols=4, subplot_titles=columnas_numericas)\n",
        "\n",
        "for i, columna in enumerate(columnas_numericas):\n",
        "    row = 1\n",
        "    col = i + 1\n",
        "    fig.add_trace(\n",
        "        go.Box(y=df_parking_info[columna], name=columna),\n",
        "        row=row, col=col\n",
        "    )\n",
        "\n",
        "fig.update_layout(height=600, width=1000, title_text=\"Boxplots de variables numéricas\")\n",
        "fig.show()"
      ]
    },
    {
      "cell_type": "code",
      "source": [
        "geo_parkings_no_info = geo_parkings_no_info.to_crs(epsg=4326)\n",
        "geo_parkings_no_info['lon'] = geo_parkings_no_info.geometry.x\n",
        "geo_parkings_no_info['lat'] = geo_parkings_no_info.geometry.y\n",
        "\n",
        "geo_parkings_info = geo_parkings_info.to_crs(epsg=4326)\n",
        "geo_parkings_info['lon'] = geo_parkings_info.geometry.x\n",
        "geo_parkings_info['lat'] = geo_parkings_info.geometry.y\n"
      ],
      "metadata": {
        "id": "dlh5kRQICM8u"
      },
      "id": "dlh5kRQICM8u",
      "execution_count": null,
      "outputs": []
    },
    {
      "cell_type": "code",
      "source": [
        "import plotly.graph_objects as go\n",
        "\n",
        "fig = go.Figure()\n",
        "\n",
        "# df1 en azul\n",
        "fig.add_trace(go.Scattermapbox(\n",
        "    lat=geo_parkings_no_info['lat'],\n",
        "    lon=geo_parkings_no_info['lon'],\n",
        "    mode='markers',\n",
        "    marker=dict(size=3, color='blue'),\n",
        "    name='Zonas SER sin info'\n",
        "))\n",
        "\n",
        "# df2 en rojo\n",
        "fig.add_trace(go.Scattermapbox(\n",
        "    lat=geo_parkings_info['lat'],\n",
        "    lon=geo_parkings_info['lon'],\n",
        "    mode='markers',\n",
        "    marker=dict(size=3, color='red'),\n",
        "    name='Zonas SER info'\n",
        "))\n",
        "\n",
        "fig.update_layout(\n",
        "    mapbox_style=\"carto-positron\",\n",
        "    mapbox_zoom=12,\n",
        "    mapbox_center={\"lat\": geo_parkings_no_info['lat'].mean(), \"lon\": geo_parkings_no_info['lon'].mean()},\n",
        "    height=600,\n",
        "    title=\"Coordenadas de df1 y df2\"\n",
        ")\n",
        "\n",
        "fig.update_layout(margin={\"r\":0,\"t\":40,\"l\":0,\"b\":0})\n",
        "fig.show()\n"
      ],
      "metadata": {
        "id": "MEVlsZy2FfNc"
      },
      "id": "MEVlsZy2FfNc",
      "execution_count": null,
      "outputs": []
    },
    {
      "cell_type": "markdown",
      "id": "y7HyzM5lA0K2",
      "metadata": {
        "id": "y7HyzM5lA0K2"
      },
      "source": [
        "Es interesante ver también la distribución de las variables numéricas por los tramos de tiempo que estamos considerando y si se trata de un día entre semana o un fin de semana."
      ]
    },
    {
      "cell_type": "code",
      "source": [
        "from pandas.plotting import scatter_matrix\n",
        "import matplotlib.pyplot as plt\n",
        "\n",
        "columnas_numericas = ['media_minutos', 'media_intensidad', 'media_carga', 'media_ocupacion','num_registros','numero_plazas']\n",
        "\n",
        "# Selección correcta de columnas\n",
        "grr = scatter_matrix(df_parking_info[columnas_numericas], figsize=(15, 15), diagonal='kde')\n",
        "plt.suptitle(\"Scatter Matrix\")\n",
        "plt.show()"
      ],
      "metadata": {
        "id": "6G9Cxz2zYMld"
      },
      "id": "6G9Cxz2zYMld",
      "execution_count": null,
      "outputs": []
    },
    {
      "cell_type": "code",
      "execution_count": null,
      "id": "HOzwRFAR33x4",
      "metadata": {
        "id": "HOzwRFAR33x4"
      },
      "outputs": [],
      "source": []
    },
    {
      "cell_type": "markdown",
      "source": [
        "Vemos que las relaciones no son lineales por lo que usamos métodos de regresión no lineales en nuestro problema."
      ],
      "metadata": {
        "id": "lzcBb0P8ZayI"
      },
      "id": "lzcBb0P8ZayI"
    },
    {
      "cell_type": "markdown",
      "id": "QgJ5FoBrLLA2",
      "metadata": {
        "id": "QgJ5FoBrLLA2"
      },
      "source": [
        "Tratamiento de outliers para los datos con los que vamos a entrenar el modelo de regresión"
      ]
    },
    {
      "cell_type": "markdown",
      "id": "l0IX6uW-artf",
      "metadata": {
        "id": "l0IX6uW-artf"
      },
      "source": [
        "## Feature Selection y Feature Engineering\n"
      ]
    },
    {
      "cell_type": "markdown",
      "source": [
        "### Codificación de las variables categóricas\n",
        "Las variables categóricas bateria_linea, color e int_tiempo se transforman a valores numéricos para que los modelos las puedan procesar correctamente"
      ],
      "metadata": {
        "id": "4F6NXTmES1Va"
      },
      "id": "4F6NXTmES1Va"
    },
    {
      "cell_type": "code",
      "execution_count": 116,
      "id": "evrP_sOBT1UK",
      "metadata": {
        "id": "evrP_sOBT1UK"
      },
      "outputs": [],
      "source": [
        "# Codificación manual de las variables\n",
        "mapping_bateria_linea = {'Batería': 0, 'Línea': 1}\n",
        "df_parking_info['bateria_linea'] = df_parking_info['bateria_linea'].map(mapping_bateria_linea)\n",
        "df_parking_no_info['bateria_linea'] = df_parking_no_info['bateria_linea'].map(mapping_bateria_linea)\n",
        "\n",
        "mapping_color = {'Verde': 0, 'Azul': 1, 'Naranja': 2, 'Rojo': 3, 'Alta Rotación': 1}\n",
        "df_parking_info['color'] = df_parking_info['color'].map(mapping_color)\n",
        "df_parking_no_info['color'] = df_parking_no_info['color'].map(mapping_color)\n",
        "\n",
        "mapping_int_tiempo = {'Mañana': 0, 'Mediodia': 1, 'Tarde': 2, 'Noche': 3}\n",
        "df_parking_info['int_tiempo'] = df_parking_info['int_tiempo'].map(mapping_int_tiempo)\n",
        "df_parking_no_info['int_tiempo'] = df_parking_no_info['int_tiempo'].map(mapping_int_tiempo)\n"
      ]
    },
    {
      "cell_type": "markdown",
      "source": [
        "### Creación de nuevas variables\n",
        "En particular creamos nuevas variables basadas en ratios. Éstas reflejan la relación entre métricas de tráfico y el número de plazas para cada zona de aparcamiento, la idea es que mediante estas nuevas medidas se pueda estimar si el aparcamiento está muy cargado o no. Por ejemplo, si la intensidad es 100 y el número de plazas es 5 ese aparcamiento estará más cargado que si el número de plazas es 20."
      ],
      "metadata": {
        "id": "nkhfF5JTTFFA"
      },
      "id": "nkhfF5JTTFFA"
    },
    {
      "cell_type": "code",
      "source": [
        "# Ratios para normalizar por número de plazas\n",
        "df_parking_info['ratio_ocupacion_por_nplazas'] = df_parking_info['media_ocupacion'] / df_parking_info['numero_plazas']\n",
        "df_parking_no_info['ratio_ocupacion_por_nplazas'] = df_parking_no_info['media_ocupacion'] / df_parking_no_info['numero_plazas']\n",
        "\n",
        "df_parking_info['ratio_intensidad_por_nplazas'] = df_parking_info['media_intensidad'] / df_parking_info['numero_plazas']\n",
        "df_parking_no_info['ratio_intensidad_por_nplazas'] = df_parking_no_info['media_intensidad'] / df_parking_no_info['numero_plazas']\n",
        "\n",
        "df_parking_info['ratio_carga_por_nplazas'] = df_parking_info['media_carga'] / df_parking_info['numero_plazas']\n",
        "df_parking_no_info['ratio_carga_por_nplazas'] = df_parking_no_info['media_carga'] / df_parking_no_info['numero_plazas']"
      ],
      "metadata": {
        "id": "5Mlf1iLKSvSU"
      },
      "id": "5Mlf1iLKSvSU",
      "execution_count": 25,
      "outputs": []
    },
    {
      "cell_type": "markdown",
      "source": [
        "### Transformaciones logarítmicas para aproximar distribuciones gaussianas\n",
        "Las variables originales presentan distribuciones sesgadas, por lo que aplicamos el logaritmo para suavizar asimetrías."
      ],
      "metadata": {
        "id": "URYt7ZinU9gx"
      },
      "id": "URYt7ZinU9gx"
    },
    {
      "cell_type": "code",
      "source": [
        "import numpy as np\n",
        "\n",
        "# Transformamos las variables con sesgo positivo\n",
        "df_parking_info['num_registros_log'] = np.log(df_parking_info['num_registros'] + 1)\n",
        "df_parking_info['media_minutos_log'] = np.log(df_parking_info['media_minutos'] + 1)"
      ],
      "metadata": {
        "id": "Pf_wlQMl1f47"
      },
      "id": "Pf_wlQMl1f47",
      "execution_count": 26,
      "outputs": []
    },
    {
      "cell_type": "code",
      "source": [
        "df_parking_info['log_ratio_ocupacion_por_nplazas'] = np.log(df_parking_info['ratio_ocupacion_por_nplazas'] + 1)\n",
        "df_parking_info['log_ratio_intensidad_por_nplazas'] = np.log(df_parking_info['ratio_intensidad_por_nplazas'] + 1)\n",
        "df_parking_info['log_ratio_carga_por_nplazas'] = np.log(df_parking_info['ratio_carga_por_nplazas'] + 1)\n",
        "\n",
        "df_parking_no_info['log_ratio_ocupacion_por_nplazas'] = np.log(df_parking_no_info['ratio_ocupacion_por_nplazas'] + 1)\n",
        "df_parking_no_info['log_ratio_intensidad_por_nplazas'] = np.log(df_parking_no_info['ratio_intensidad_por_nplazas'] + 1)\n",
        "df_parking_no_info['log_ratio_carga_por_nplazas'] = np.log(df_parking_no_info['ratio_carga_por_nplazas'] + 1)"
      ],
      "metadata": {
        "id": "NqmUnGftVn16"
      },
      "id": "NqmUnGftVn16",
      "execution_count": 28,
      "outputs": []
    },
    {
      "cell_type": "markdown",
      "source": [
        "Visualizamos la transformación logarítmica:"
      ],
      "metadata": {
        "id": "M9DSdNG3zWuj"
      },
      "id": "M9DSdNG3zWuj"
    },
    {
      "cell_type": "code",
      "source": [
        "import matplotlib.pyplot as plt\n",
        "\n",
        "plt.figure(figsize=(12, 5))\n",
        "\n",
        "plt.subplot(1, 2, 1)\n",
        "plt.hist(df_parking_info['num_registros_log'], bins=30, color='skyblue', edgecolor='black')\n",
        "plt.title('Histograma de num_registros_log')\n",
        "plt.xlabel('num_registros_log')\n",
        "plt.ylabel('Frecuencia')\n",
        "\n",
        "plt.subplot(1, 2, 2)\n",
        "plt.hist(df_parking_info['media_minutos_log'], bins=30, color='salmon', edgecolor='black')\n",
        "plt.title('Histograma de media_minutos_log')\n",
        "plt.xlabel('media_minutos_log')\n",
        "plt.ylabel('Frecuencia')\n",
        "\n",
        "plt.tight_layout()\n",
        "plt.show()\n"
      ],
      "metadata": {
        "id": "GMiakgECVFRb",
        "colab": {
          "base_uri": "https://localhost:8080/",
          "height": 296
        },
        "outputId": "f06127da-087a-45aa-f486-9b3d764e43b5"
      },
      "id": "GMiakgECVFRb",
      "execution_count": 27,
      "outputs": [
        {
          "output_type": "display_data",
          "data": {
            "text/plain": [
              "<Figure size 1200x500 with 2 Axes>"
            ],
            "image/png": "[encoded data removed]"
          },
          "metadata": {}
        }
      ]
    },
    {
      "cell_type": "code",
      "source": [
        "plt.figure(figsize=(12, 5))\n",
        "\n",
        "plt.subplot(1, 2, 1)\n",
        "plt.hist(df_parking_info['log_ratio_ocupacion_por_nplazas'], bins=30, color='skyblue', edgecolor='black')\n",
        "plt.title('Histograma de log_ratio_ocupacion_por_nplazas')\n",
        "plt.xlabel('log_ratio_ocupacion_por_nplazas')\n",
        "plt.ylabel('Frecuencia')\n",
        "\n",
        "plt.subplot(1, 2, 2)\n",
        "plt.hist(df_parking_info['log_ratio_intensidad_por_nplazas'], bins=30, color='salmon', edgecolor='black')\n",
        "plt.title('Histograma de log_ratio_intensidad_por_nplazas')\n",
        "plt.xlabel('log_ratio_intensidad_por_nplazas')\n",
        "plt.ylabel('Frecuencia')\n",
        "\n",
        "plt.tight_layout()\n",
        "plt.show()\n"
      ],
      "metadata": {
        "id": "Vcrf59IEV2EN",
        "colab": {
          "base_uri": "https://localhost:8080/",
          "height": 296
        },
        "outputId": "c6f344a1-c76f-47f3-ef45-854c99aa5f35"
      },
      "id": "Vcrf59IEV2EN",
      "execution_count": 29,
      "outputs": [
        {
          "output_type": "display_data",
          "data": {
            "text/plain": [
              "<Figure size 1200x500 with 2 Axes>"
            ],
            "image/png": "[encoded data removed]"
          },
          "metadata": {}
        }
      ]
    },
    {
      "cell_type": "markdown",
      "source": [
        "### Variables temporales cíclicas\n",
        "La variable int_tiempo representa un momento del día con 4 categorías (Mañana, Mediodía, Tarde, Noche). Para que el modelo capture la naturaleza cíclica del tiempo (por ejemplo, Noche y Mañana son momentos cercanos), convertimos esta variable en dos variables continuas usando funciones seno y coseno. Esto evita que el modelo interprete int_tiempo como una variable ordinal lineal y captura correctamente la relación circular de los momentos del día."
      ],
      "metadata": {
        "id": "N8Zr8L1kWJLG"
      },
      "id": "N8Zr8L1kWJLG"
    },
    {
      "cell_type": "code",
      "source": [
        "df_parking_info['tiempo_sin'] = np.sin(2 * np.pi * df_parking_info['int_tiempo'] / 4)\n",
        "df_parking_info['tiempo_cos'] = np.cos(2 * np.pi * df_parking_info['int_tiempo'] / 4)\n",
        "\n",
        "df_parking_no_info['tiempo_sin'] = np.sin(2 * np.pi * df_parking_no_info['int_tiempo'] / 4)\n",
        "df_parking_no_info['tiempo_cos'] = np.cos(2 * np.pi * df_parking_no_info['int_tiempo'] / 4)"
      ],
      "metadata": {
        "id": "3_n1bbtsz6ww"
      },
      "id": "3_n1bbtsz6ww",
      "execution_count": 115,
      "outputs": []
    },
    {
      "cell_type": "markdown",
      "id": "jvhojE_Ia4Qk",
      "metadata": {
        "id": "jvhojE_Ia4Qk"
      },
      "source": [
        "## Modelo de regresión"
      ]
    },
    {
      "cell_type": "markdown",
      "id": "W5F-nVt2hf5j",
      "metadata": {
        "id": "W5F-nVt2hf5j"
      },
      "source": [
        "Voy a probar los modelos de Random Forest y XGBoost para el problema de regresión. Éste consiste en estimar el número de veces que se aparca en una determinada plaza de aparcamiento y la duración de la estancia a partir de la información que sí tenemos de los parquímetros."
      ]
    },
    {
      "cell_type": "markdown",
      "id": "RnqTtzboV7Xd",
      "metadata": {
        "id": "RnqTtzboV7Xd"
      },
      "source": [
        "[Data Preparation for XGBoost](https://https://xgboosting.com/data-preparation-for-xgboost/) , de aquí se saca la preparación de los datos para XGBoost"
      ]
    },
    {
      "cell_type": "markdown",
      "source": [
        "### XGBoost\n"
      ],
      "metadata": {
        "id": "tcngjgZa5hDL"
      },
      "id": "tcngjgZa5hDL"
    },
    {
      "cell_type": "code",
      "source": [
        "# Variables objetivo: usaremos las transformadas con log(1+x) para estabilizar la varianza\n",
        "y = df_parking_info[['media_minutos_log','num_registros_log']]\n",
        "\n",
        "# Variables explicativas: quitamos las columnas irrelevantes o derivadas de las variables objetivo\n",
        "X = df_parking_info.drop([\n",
        "    'geometria',\n",
        "    'media_minutos', 'num_registros',\n",
        "    'media_minutos_log', 'num_registros_log',\n",
        "    'ratio_ocupacion_por_nplazas', 'ratio_intensidad_por_nplazas',\n",
        "    'ratio_carga_por_nplazas', 'log_ratio_carga_por_nplazas'\n",
        "], axis=1)\n"
      ],
      "metadata": {
        "id": "8YZKs97Q44NC"
      },
      "id": "8YZKs97Q44NC",
      "execution_count": 129,
      "outputs": []
    },
    {
      "cell_type": "code",
      "execution_count": 130,
      "id": "vzkDYHKiXSX1",
      "metadata": {
        "id": "vzkDYHKiXSX1"
      },
      "outputs": [],
      "source": [
        "# Dividimos los datos en datos de entrenamiento y test\n",
        "X_train, X_test, y_train, y_test = train_test_split(\n",
        "    X, y, test_size=0.2, random_state=7\n",
        ")"
      ]
    },
    {
      "cell_type": "code",
      "execution_count": 131,
      "id": "0pp0RA7sX6Db",
      "metadata": {
        "id": "0pp0RA7sX6Db"
      },
      "outputs": [],
      "source": [
        "# Usamos TimeSeriesSplit para respetar el orden temporal\n",
        "xgb_model = xgb.XGBRegressor(\n",
        "    random_state=7,\n",
        "    eval_metric='rmse',\n",
        "    objective='reg:squarederror'\n",
        ")\n",
        "\n",
        "cv = TimeSeriesSplit(n_splits=3)\n"
      ]
    },
    {
      "cell_type": "code",
      "source": [
        "# Hacemos fine-tuning mediante búsqueda aleatoria de hiperparámetros para optimizae el modelo\n",
        "param_dist = {\n",
        "    'max_depth': [3, 4, 5, 6],\n",
        "    'learning_rate': [0.005, 0.01, 0.02, 0.05],\n",
        "    'n_estimators': [200, 300, 500],\n",
        "    'min_child_weight': [1, 3, 5, 7],\n",
        "    'subsample': [0.6, 0.8, 1.0],\n",
        "    'colsample_bytree': [0.6, 0.8, 1.0],\n",
        "    'gamma': [0, 0.1, 0.3, 0.5]\n",
        "}\n",
        "\n",
        "random_search = RandomizedSearchCV(\n",
        "    estimator=xgb_model,\n",
        "    param_distributions=param_dist,\n",
        "    n_iter=50,\n",
        "    scoring='neg_mean_squared_error',\n",
        "    cv=cv,\n",
        "    n_jobs=-1,\n",
        "    random_state=7\n",
        ")\n",
        "\n",
        "random_search.fit(X_train, y_train)\n",
        "\n",
        "best_model = random_search.best_estimator_\n",
        "\n",
        "print('Mejores hiperparámetros:', random_search.best_params_)"
      ],
      "metadata": {
        "colab": {
          "base_uri": "https://localhost:8080/"
        },
        "id": "tQnBCSqhnkJ9",
        "outputId": "31d7b2d6-ec3d-4ad1-bb81-a6d60e37eda0"
      },
      "id": "tQnBCSqhnkJ9",
      "execution_count": 132,
      "outputs": [
        {
          "output_type": "stream",
          "name": "stdout",
          "text": [
            "Mejores hiperparámetros: {'subsample': 0.6, 'n_estimators': 500, 'min_child_weight': 5, 'max_depth': 6, 'learning_rate': 0.05, 'gamma': 0.5, 'colsample_bytree': 0.6}\n"
          ]
        }
      ]
    },
    {
      "cell_type": "code",
      "execution_count": 133,
      "id": "hRcmdn6AYxne",
      "metadata": {
        "id": "hRcmdn6AYxne",
        "colab": {
          "base_uri": "https://localhost:8080/"
        },
        "outputId": "77054f31-8350-406d-9cb5-e94ca56d3eab"
      },
      "outputs": [
        {
          "output_type": "stream",
          "name": "stdout",
          "text": [
            "Train MAE: 0.3918, RMSE: 0.5582, R2: 0.6804\n",
            "Test MAE: 0.4285, RMSE: 0.6124, R2: 0.6247\n"
          ]
        }
      ],
      "source": [
        "y_train_pred = best_model.predict(X_train)\n",
        "y_test_pred = best_model.predict(X_test)\n",
        "\n",
        "mae_train = mean_absolute_error(y_train, y_train_pred)\n",
        "rmse_train = np.sqrt(mean_squared_error(y_train, y_train_pred))\n",
        "r2_train = r2_score(y_train, y_train_pred)\n",
        "\n",
        "mae_test = mean_absolute_error(y_test, y_test_pred)\n",
        "rmse_test = np.sqrt(mean_squared_error(y_test, y_test_pred))\n",
        "r2_test = r2_score(y_test, y_test_pred)\n",
        "\n",
        "print(f\"Train MAE: {mae_train:.4f}, RMSE: {rmse_train:.4f}, R2: {r2_train:.4f}\")\n",
        "print(f\"Test MAE: {mae_test:.4f}, RMSE: {rmse_test:.4f}, R2: {r2_test:.4f}\")"
      ]
    },
    {
      "cell_type": "code",
      "source": [
        "# Hacemos predicciones sobre el conjunto de datos no informado\n",
        "df_parking_no_info_xgb = df_parking_no_info.copy()\n",
        "\n",
        "predictions = best_model.predict(df_parking_no_info_xgb.drop([\n",
        "                                                              'geometria',\n",
        "                                                              'ratio_ocupacion_por_nplazas',\n",
        "                                                              'ratio_intensidad_por_nplazas',\n",
        "                                                              'ratio_carga_por_nplazas',\n",
        "                                                              'log_ratio_carga_por_nplazas'\n",
        "                                                              ], axis = 1))\n",
        "\n",
        "num_registros = np.expm1(predictions[:, 1])\n",
        "media_minutos = np.expm1(predictions[:, 0])\n",
        "\n",
        "df_parking_no_info_xgb['num_registros'] = num_registros\n",
        "df_parking_no_info_xgb['media_minutos'] = media_minutos\n",
        "\n",
        "df_parking_no_info_xgb[['num_registros', 'media_minutos']]"
      ],
      "metadata": {
        "id": "opc1T3Xhy-fb",
        "colab": {
          "base_uri": "https://localhost:8080/",
          "height": 423
        },
        "outputId": "8e63aebe-b4a7-4f62-b857-6681eb18f458"
      },
      "id": "opc1T3Xhy-fb",
      "execution_count": 134,
      "outputs": [
        {
          "output_type": "execute_result",
          "data": {
            "text/plain": [
              "        num_registros  media_minutos\n",
              "0          159.099609     112.603271\n",
              "1          193.287888     113.288574\n",
              "2          224.810425     117.269951\n",
              "3          224.810425     117.269951\n",
              "4          214.720551     110.133476\n",
              "...               ...            ...\n",
              "228035       2.750679      93.119225\n",
              "228036       2.434104      96.118378\n",
              "228037       2.576073      95.594688\n",
              "228038       2.576073      95.594688\n",
              "228039       1.698467     134.559662\n",
              "\n",
              "[228040 rows x 2 columns]"
            ],
            "text/html": [
              "\n",
              "  <div id=\"df-edd91bfe-c285-4a79-a246-d52673abf378\" class=\"colab-df-container\">\n",
              "    <div>\n",
              "<style scoped>\n",
              "    .dataframe tbody tr th:only-of-type {\n",
              "        vertical-align: middle;\n",
              "    }\n",
              "\n",
              "    .dataframe tbody tr th {\n",
              "        vertical-align: top;\n",
              "    }\n",
              "\n",
              "    .dataframe thead th {\n",
              "        text-align: right;\n",
              "    }\n",
              "</style>\n",
              "<table border=\"1\" class=\"dataframe\">\n",
              "  <thead>\n",
              "    <tr style=\"text-align: right;\">\n",
              "      <th></th>\n",
              "      <th>num_registros</th>\n",
              "      <th>media_minutos</th>\n",
              "    </tr>\n",
              "  </thead>\n",
              "  <tbody>\n",
              "    <tr>\n",
              "      <th>0</th>\n",
              "      <td>159.099609</td>\n",
              "      <td>112.603271</td>\n",
              "    </tr>\n",
              "    <tr>\n",
              "      <th>1</th>\n",
              "      <td>193.287888</td>\n",
              "      <td>113.288574</td>\n",
              "    </tr>\n",
              "    <tr>\n",
              "      <th>2</th>\n",
              "      <td>224.810425</td>\n",
              "      <td>117.269951</td>\n",
              "    </tr>\n",
              "    <tr>\n",
              "      <th>3</th>\n",
              "      <td>224.810425</td>\n",
              "      <td>117.269951</td>\n",
              "    </tr>\n",
              "    <tr>\n",
              "      <th>4</th>\n",
              "      <td>214.720551</td>\n",
              "      <td>110.133476</td>\n",
              "    </tr>\n",
              "    <tr>\n",
              "      <th>...</th>\n",
              "      <td>...</td>\n",
              "      <td>...</td>\n",
              "    </tr>\n",
              "    <tr>\n",
              "      <th>228035</th>\n",
              "      <td>2.750679</td>\n",
              "      <td>93.119225</td>\n",
              "    </tr>\n",
              "    <tr>\n",
              "      <th>228036</th>\n",
              "      <td>2.434104</td>\n",
              "      <td>96.118378</td>\n",
              "    </tr>\n",
              "    <tr>\n",
              "      <th>228037</th>\n",
              "      <td>2.576073</td>\n",
              "      <td>95.594688</td>\n",
              "    </tr>\n",
              "    <tr>\n",
              "      <th>228038</th>\n",
              "      <td>2.576073</td>\n",
              "      <td>95.594688</td>\n",
              "    </tr>\n",
              "    <tr>\n",
              "      <th>228039</th>\n",
              "      <td>1.698467</td>\n",
              "      <td>134.559662</td>\n",
              "    </tr>\n",
              "  </tbody>\n",
              "</table>\n",
              "<p>228040 rows × 2 columns</p>\n",
              "</div>\n",
              "    <div class=\"colab-df-buttons\">\n",
              "\n",
              "  <div class=\"colab-df-container\">\n",
              "    <button class=\"colab-df-convert\" onclick=\"convertToInteractive('df-edd91bfe-c285-4a79-a246-d52673abf378')\"\n",
              "            title=\"Convert this dataframe to an interactive table.\"\n",
              "            style=\"display:none;\">\n",
              "\n",
              "  <svg xmlns=\"http://www.w3.org/2000/svg\" height=\"24px\" viewBox=\"0 -960 960 960\">\n",
              "    <path d=\"M120-120v-720h720v720H120Zm60-500h600v-160H180v160Zm220 220h160v-160H400v160Zm0 220h160v-160H400v160ZM180-400h160v-160H180v160Zm440 0h160v-160H620v160ZM180-180h160v-160H180v160Zm440 0h160v-160H620v160Z\"/>\n",
              "  </svg>\n",
              "    </button>\n",
              "\n",
              "  <style>\n",
              "    .colab-df-container {\n",
              "      display:flex;\n",
              "      gap: 12px;\n",
              "    }\n",
              "\n",
              "    .colab-df-convert {\n",
              "      background-color: #E8F0FE;\n",
              "      border: none;\n",
              "      border-radius: 50%;\n",
              "      cursor: pointer;\n",
              "      display: none;\n",
              "      fill: #1967D2;\n",
              "      height: 32px;\n",
              "      padding: 0 0 0 0;\n",
              "      width: 32px;\n",
              "    }\n",
              "\n",
              "    .colab-df-convert:hover {\n",
              "      background-color: #E2EBFA;\n",
              "      box-shadow: 0px 1px 2px rgba(60, 64, 67, 0.3), 0px 1px 3px 1px rgba(60, 64, 67, 0.15);\n",
              "      fill: #174EA6;\n",
              "    }\n",
              "\n",
              "    .colab-df-buttons div {\n",
              "      margin-bottom: 4px;\n",
              "    }\n",
              "\n",
              "    [theme=dark] .colab-df-convert {\n",
              "      background-color: #3B4455;\n",
              "      fill: #D2E3FC;\n",
              "    }\n",
              "\n",
              "    [theme=dark] .colab-df-convert:hover {\n",
              "      background-color: #434B5C;\n",
              "      box-shadow: 0px 1px 3px 1px rgba(0, 0, 0, 0.15);\n",
              "      filter: drop-shadow(0px 1px 2px rgba(0, 0, 0, 0.3));\n",
              "      fill: #FFFFFF;\n",
              "    }\n",
              "  </style>\n",
              "\n",
              "    <script>\n",
              "      const buttonEl =\n",
              "        document.querySelector('#df-edd91bfe-c285-4a79-a246-d52673abf378 button.colab-df-convert');\n",
              "      buttonEl.style.display =\n",
              "        google.colab.kernel.accessAllowed ? 'block' : 'none';\n",
              "\n",
              "      async function convertToInteractive(key) {\n",
              "        const element = document.querySelector('#df-edd91bfe-c285-4a79-a246-d52673abf378');\n",
              "        const dataTable =\n",
              "          await google.colab.kernel.invokeFunction('convertToInteractive',\n",
              "                                                    [key], {});\n",
              "        if (!dataTable) return;\n",
              "\n",
              "        const docLinkHtml = 'Like what you see? Visit the ' +\n",
              "          '<a target=\"_blank\" href=https://colab.research.google.com/notebooks/data_table.ipynb>data table notebook</a>'\n",
              "          + ' to learn more about interactive tables.';\n",
              "        element.innerHTML = '';\n",
              "        dataTable['output_type'] = 'display_data';\n",
              "        await google.colab.output.renderOutput(dataTable, element);\n",
              "        const docLink = document.createElement('div');\n",
              "        docLink.innerHTML = docLinkHtml;\n",
              "        element.appendChild(docLink);\n",
              "      }\n",
              "    </script>\n",
              "  </div>\n",
              "\n",
              "\n",
              "    <div id=\"df-2833a5da-e6e3-4d99-9e9a-687d919ff6ec\">\n",
              "      <button class=\"colab-df-quickchart\" onclick=\"quickchart('df-2833a5da-e6e3-4d99-9e9a-687d919ff6ec')\"\n",
              "                title=\"Suggest charts\"\n",
              "                style=\"display:none;\">\n",
              "\n",
              "<svg xmlns=\"http://www.w3.org/2000/svg\" height=\"24px\"viewBox=\"0 0 24 24\"\n",
              "     width=\"24px\">\n",
              "    <g>\n",
              "        <path d=\"M19 3H5c-1.1 0-2 .9-2 2v14c0 1.1.9 2 2 2h14c1.1 0 2-.9 2-2V5c0-1.1-.9-2-2-2zM9 17H7v-7h2v7zm4 0h-2V7h2v10zm4 0h-2v-4h2v4z\"/>\n",
              "    </g>\n",
              "</svg>\n",
              "      </button>\n",
              "\n",
              "<style>\n",
              "  .colab-df-quickchart {\n",
              "      --bg-color: #E8F0FE;\n",
              "      --fill-color: #1967D2;\n",
              "      --hover-bg-color: #E2EBFA;\n",
              "      --hover-fill-color: #174EA6;\n",
              "      --disabled-fill-color: #AAA;\n",
              "      --disabled-bg-color: #DDD;\n",
              "  }\n",
              "\n",
              "  [theme=dark] .colab-df-quickchart {\n",
              "      --bg-color: #3B4455;\n",
              "      --fill-color: #D2E3FC;\n",
              "      --hover-bg-color: #434B5C;\n",
              "      --hover-fill-color: #FFFFFF;\n",
              "      --disabled-bg-color: #3B4455;\n",
              "      --disabled-fill-color: #666;\n",
              "  }\n",
              "\n",
              "  .colab-df-quickchart {\n",
              "    background-color: var(--bg-color);\n",
              "    border: none;\n",
              "    border-radius: 50%;\n",
              "    cursor: pointer;\n",
              "    display: none;\n",
              "    fill: var(--fill-color);\n",
              "    height: 32px;\n",
              "    padding: 0;\n",
              "    width: 32px;\n",
              "  }\n",
              "\n",
              "  .colab-df-quickchart:hover {\n",
              "    background-color: var(--hover-bg-color);\n",
              "    box-shadow: 0 1px 2px rgba(60, 64, 67, 0.3), 0 1px 3px 1px rgba(60, 64, 67, 0.15);\n",
              "    fill: var(--button-hover-fill-color);\n",
              "  }\n",
              "\n",
              "  .colab-df-quickchart-complete:disabled,\n",
              "  .colab-df-quickchart-complete:disabled:hover {\n",
              "    background-color: var(--disabled-bg-color);\n",
              "    fill: var(--disabled-fill-color);\n",
              "    box-shadow: none;\n",
              "  }\n",
              "\n",
              "  .colab-df-spinner {\n",
              "    border: 2px solid var(--fill-color);\n",
              "    border-color: transparent;\n",
              "    border-bottom-color: var(--fill-color);\n",
              "    animation:\n",
              "      spin 1s steps(1) infinite;\n",
              "  }\n",
              "\n",
              "  @keyframes spin {\n",
              "    0% {\n",
              "      border-color: transparent;\n",
              "      border-bottom-color: var(--fill-color);\n",
              "      border-left-color: var(--fill-color);\n",
              "    }\n",
              "    20% {\n",
              "      border-color: transparent;\n",
              "      border-left-color: var(--fill-color);\n",
              "      border-top-color: var(--fill-color);\n",
              "    }\n",
              "    30% {\n",
              "      border-color: transparent;\n",
              "      border-left-color: var(--fill-color);\n",
              "      border-top-color: var(--fill-color);\n",
              "      border-right-color: var(--fill-color);\n",
              "    }\n",
              "    40% {\n",
              "      border-color: transparent;\n",
              "      border-right-color: var(--fill-color);\n",
              "      border-top-color: var(--fill-color);\n",
              "    }\n",
              "    60% {\n",
              "      border-color: transparent;\n",
              "      border-right-color: var(--fill-color);\n",
              "    }\n",
              "    80% {\n",
              "      border-color: transparent;\n",
              "      border-right-color: var(--fill-color);\n",
              "      border-bottom-color: var(--fill-color);\n",
              "    }\n",
              "    90% {\n",
              "      border-color: transparent;\n",
              "      border-bottom-color: var(--fill-color);\n",
              "    }\n",
              "  }\n",
              "</style>\n",
              "\n",
              "      <script>\n",
              "        async function quickchart(key) {\n",
              "          const quickchartButtonEl =\n",
              "            document.querySelector('#' + key + ' button');\n",
              "          quickchartButtonEl.disabled = true;  // To prevent multiple clicks.\n",
              "          quickchartButtonEl.classList.add('colab-df-spinner');\n",
              "          try {\n",
              "            const charts = await google.colab.kernel.invokeFunction(\n",
              "                'suggestCharts', [key], {});\n",
              "          } catch (error) {\n",
              "            console.error('Error during call to suggestCharts:', error);\n",
              "          }\n",
              "          quickchartButtonEl.classList.remove('colab-df-spinner');\n",
              "          quickchartButtonEl.classList.add('colab-df-quickchart-complete');\n",
              "        }\n",
              "        (() => {\n",
              "          let quickchartButtonEl =\n",
              "            document.querySelector('#df-2833a5da-e6e3-4d99-9e9a-687d919ff6ec button');\n",
              "          quickchartButtonEl.style.display =\n",
              "            google.colab.kernel.accessAllowed ? 'block' : 'none';\n",
              "        })();\n",
              "      </script>\n",
              "    </div>\n",
              "\n",
              "    </div>\n",
              "  </div>\n"
            ],
            "application/vnd.google.colaboratory.intrinsic+json": {
              "type": "dataframe"
            }
          },
          "metadata": {},
          "execution_count": 134
        }
      ]
    },
    {
      "cell_type": "markdown",
      "id": "KYO_JTESsEWS",
      "metadata": {
        "id": "KYO_JTESsEWS"
      },
      "source": [
        "### Random Forest\n",
        "Decir por qué he elegido estos dos modelos"
      ]
    },
    {
      "cell_type": "code",
      "source": [
        "X = df_parking_info.drop([\n",
        "    'geometria',\n",
        "    'media_minutos',\n",
        "    'num_registros',\n",
        "    'media_minutos_log',\n",
        "    'num_registros_log',\n",
        "    'ratio_ocupacion_por_nplazas',\n",
        "    'ratio_intensidad_por_nplazas',\n",
        "    'ratio_carga_por_nplazas',\n",
        "    'log_ratio_carga_por_nplazas',\n",
        "], axis=1)\n",
        "\n",
        "y = df_parking_info[['media_minutos_log', 'num_registros_log']]\n"
      ],
      "metadata": {
        "id": "u2Y5ggnJQAMD"
      },
      "id": "u2Y5ggnJQAMD",
      "execution_count": 137,
      "outputs": []
    },
    {
      "cell_type": "code",
      "source": [
        "X_train, X_test, y_train, y_test = train_test_split(\n",
        "    X, y, test_size=0.2, random_state=7\n",
        ")"
      ],
      "metadata": {
        "id": "oKpwBbW58vSZ"
      },
      "id": "oKpwBbW58vSZ",
      "execution_count": 138,
      "outputs": []
    },
    {
      "cell_type": "code",
      "source": [
        "# Definimos rangos amplios para que RandomizedSearch explore\n",
        "param_dist = {\n",
        "    'n_estimators': randint(100, 500),       # árboles entre 100 y 500\n",
        "    'max_depth': randint(5, 30),              # profundidad entre 5 y 30\n",
        "    'min_samples_split': randint(2, 20),      # mínimo muestras para split entre 2 y 20\n",
        "    'min_samples_leaf': randint(1, 10),       # mínimo muestras en hoja entre 1 y 10\n",
        "    'max_features': ['auto', 'sqrt', 'log2']  # diferentes opciones para features\n",
        "}\n",
        "\n",
        "# Creamos modelo base\n",
        "rf = RandomForestRegressor(random_state=7, n_jobs=-1)"
      ],
      "metadata": {
        "id": "plBDibxWOLUQ"
      },
      "id": "plBDibxWOLUQ",
      "execution_count": 139,
      "outputs": []
    },
    {
      "cell_type": "code",
      "source": [
        "# Configuramos RandomizedSearch con 50 iteraciones\n",
        "random_search = RandomizedSearchCV(\n",
        "    estimator=rf,\n",
        "    param_distributions=param_dist,\n",
        "    n_iter=50,                     # número de combinaciones que probará\n",
        "    cv=5,\n",
        "    scoring='neg_mean_squared_error',\n",
        "    n_jobs=-1,\n",
        "    random_state=7,\n",
        "    verbose=1\n",
        ")"
      ],
      "metadata": {
        "id": "SQojGOR6OO9O"
      },
      "id": "SQojGOR6OO9O",
      "execution_count": 140,
      "outputs": []
    },
    {
      "cell_type": "code",
      "source": [
        "random_search.fit(X_train, y_train)\n",
        "\n",
        "best_rf = random_search.best_estimator_\n",
        "\n",
        "print(\"Mejores parámetros encontrados:\", random_search.best_params_)\n",
        "print(\"Mejor puntuación CV (MSE negativo):\", random_search.best_score_)"
      ],
      "metadata": {
        "id": "fvcqCLaBOWp4",
        "colab": {
          "base_uri": "https://localhost:8080/",
          "height": 445
        },
        "outputId": "6e33148d-deec-430c-ac63-146d59326c8d"
      },
      "id": "fvcqCLaBOWp4",
      "execution_count": 141,
      "outputs": [
        {
          "output_type": "stream",
          "name": "stdout",
          "text": [
            "Fitting 5 folds for each of 50 candidates, totalling 250 fits\n"
          ]
        },
        {
          "output_type": "stream",
          "name": "stderr",
          "text": [
            "/usr/local/lib/python3.11/dist-packages/joblib/externals/loky/process_executor.py:782: UserWarning: A worker stopped while some jobs were given to the executor. This can be caused by a too short worker timeout or by a memory leak.\n",
            "  warnings.warn(\n"
          ]
        },
        {
          "output_type": "error",
          "ename": "KeyboardInterrupt",
          "evalue": "",
          "traceback": [
            "\u001b[0;31m---------------------------------------------------------------------------\u001b[0m",
            "\u001b[0;31mKeyboardInterrupt\u001b[0m                         Traceback (most recent call last)",
            "\u001b[0;32m/tmp/ipython-input-752852100.py\u001b[0m in \u001b[0;36m<cell line: 0>\u001b[0;34m()\u001b[0m\n\u001b[0;32m----> 1\u001b[0;31m \u001b[0mrandom_search\u001b[0m\u001b[0;34m.\u001b[0m\u001b[0mfit\u001b[0m\u001b[0;34m(\u001b[0m\u001b[0mX_train\u001b[0m\u001b[0;34m,\u001b[0m \u001b[0my_train\u001b[0m\u001b[0;34m)\u001b[0m\u001b[0;34m\u001b[0m\u001b[0;34m\u001b[0m\u001b[0m\n\u001b[0m\u001b[1;32m      2\u001b[0m \u001b[0;34m\u001b[0m\u001b[0m\n\u001b[1;32m      3\u001b[0m \u001b[0mbest_rf\u001b[0m \u001b[0;34m=\u001b[0m \u001b[0mrandom_search\u001b[0m\u001b[0;34m.\u001b[0m\u001b[0mbest_estimator_\u001b[0m\u001b[0;34m\u001b[0m\u001b[0;34m\u001b[0m\u001b[0m\n\u001b[1;32m      4\u001b[0m \u001b[0;34m\u001b[0m\u001b[0m\n\u001b[1;32m      5\u001b[0m \u001b[0mprint\u001b[0m\u001b[0;34m(\u001b[0m\u001b[0;34m\"Mejores parámetros encontrados:\"\u001b[0m\u001b[0;34m,\u001b[0m \u001b[0mrandom_search\u001b[0m\u001b[0;34m.\u001b[0m\u001b[0mbest_params_\u001b[0m\u001b[0;34m)\u001b[0m\u001b[0;34m\u001b[0m\u001b[0;34m\u001b[0m\u001b[0m\n",
            "\u001b[0;32m/usr/local/lib/python3.11/dist-packages/sklearn/base.py\u001b[0m in \u001b[0;36mwrapper\u001b[0;34m(estimator, *args, **kwargs)\u001b[0m\n\u001b[1;32m   1387\u001b[0m                 )\n\u001b[1;32m   1388\u001b[0m             ):\n\u001b[0;32m-> 1389\u001b[0;31m                 \u001b[0;32mreturn\u001b[0m \u001b[0mfit_method\u001b[0m\u001b[0;34m(\u001b[0m\u001b[0mestimator\u001b[0m\u001b[0;34m,\u001b[0m \u001b[0;34m*\u001b[0m\u001b[0margs\u001b[0m\u001b[0;34m,\u001b[0m \u001b[0;34m**\u001b[0m\u001b[0mkwargs\u001b[0m\u001b[0;34m)\u001b[0m\u001b[0;34m\u001b[0m\u001b[0;34m\u001b[0m\u001b[0m\n\u001b[0m\u001b[1;32m   1390\u001b[0m \u001b[0;34m\u001b[0m\u001b[0m\n\u001b[1;32m   1391\u001b[0m         \u001b[0;32mreturn\u001b[0m \u001b[0mwrapper\u001b[0m\u001b[0;34m\u001b[0m\u001b[0;34m\u001b[0m\u001b[0m\n",
            "\u001b[0;32m/usr/local/lib/python3.11/dist-packages/sklearn/model_selection/_search.py\u001b[0m in \u001b[0;36mfit\u001b[0;34m(self, X, y, **params)\u001b[0m\n\u001b[1;32m   1022\u001b[0m                 \u001b[0;32mreturn\u001b[0m \u001b[0mresults\u001b[0m\u001b[0;34m\u001b[0m\u001b[0;34m\u001b[0m\u001b[0m\n\u001b[1;32m   1023\u001b[0m \u001b[0;34m\u001b[0m\u001b[0m\n\u001b[0;32m-> 1024\u001b[0;31m             \u001b[0mself\u001b[0m\u001b[0;34m.\u001b[0m\u001b[0m_run_search\u001b[0m\u001b[0;34m(\u001b[0m\u001b[0mevaluate_candidates\u001b[0m\u001b[0;34m)\u001b[0m\u001b[0;34m\u001b[0m\u001b[0;34m\u001b[0m\u001b[0m\n\u001b[0m\u001b[1;32m   1025\u001b[0m \u001b[0;34m\u001b[0m\u001b[0m\n\u001b[1;32m   1026\u001b[0m             \u001b[0;31m# multimetric is determined here because in the case of a callable\u001b[0m\u001b[0;34m\u001b[0m\u001b[0;34m\u001b[0m\u001b[0m\n",
            "\u001b[0;32m/usr/local/lib/python3.11/dist-packages/sklearn/model_selection/_search.py\u001b[0m in \u001b[0;36m_run_search\u001b[0;34m(self, evaluate_candidates)\u001b[0m\n\u001b[1;32m   1949\u001b[0m     \u001b[0;32mdef\u001b[0m \u001b[0m_run_search\u001b[0m\u001b[0;34m(\u001b[0m\u001b[0mself\u001b[0m\u001b[0;34m,\u001b[0m \u001b[0mevaluate_candidates\u001b[0m\u001b[0;34m)\u001b[0m\u001b[0;34m:\u001b[0m\u001b[0;34m\u001b[0m\u001b[0;34m\u001b[0m\u001b[0m\n\u001b[1;32m   1950\u001b[0m         \u001b[0;34m\"\"\"Search n_iter candidates from param_distributions\"\"\"\u001b[0m\u001b[0;34m\u001b[0m\u001b[0;34m\u001b[0m\u001b[0m\n\u001b[0;32m-> 1951\u001b[0;31m         evaluate_candidates(\n\u001b[0m\u001b[1;32m   1952\u001b[0m             ParameterSampler(\n\u001b[1;32m   1953\u001b[0m                 \u001b[0mself\u001b[0m\u001b[0;34m.\u001b[0m\u001b[0mparam_distributions\u001b[0m\u001b[0;34m,\u001b[0m \u001b[0mself\u001b[0m\u001b[0;34m.\u001b[0m\u001b[0mn_iter\u001b[0m\u001b[0;34m,\u001b[0m \u001b[0mrandom_state\u001b[0m\u001b[0;34m=\u001b[0m\u001b[0mself\u001b[0m\u001b[0;34m.\u001b[0m\u001b[0mrandom_state\u001b[0m\u001b[0;34m\u001b[0m\u001b[0;34m\u001b[0m\u001b[0m\n",
            "\u001b[0;32m/usr/local/lib/python3.11/dist-packages/sklearn/model_selection/_search.py\u001b[0m in \u001b[0;36mevaluate_candidates\u001b[0;34m(candidate_params, cv, more_results)\u001b[0m\n\u001b[1;32m    968\u001b[0m                     )\n\u001b[1;32m    969\u001b[0m \u001b[0;34m\u001b[0m\u001b[0m\n\u001b[0;32m--> 970\u001b[0;31m                 out = parallel(\n\u001b[0m\u001b[1;32m    971\u001b[0m                     delayed(_fit_and_score)(\n\u001b[1;32m    972\u001b[0m                         \u001b[0mclone\u001b[0m\u001b[0;34m(\u001b[0m\u001b[0mbase_estimator\u001b[0m\u001b[0;34m)\u001b[0m\u001b[0;34m,\u001b[0m\u001b[0;34m\u001b[0m\u001b[0;34m\u001b[0m\u001b[0m\n",
            "\u001b[0;32m/usr/local/lib/python3.11/dist-packages/sklearn/utils/parallel.py\u001b[0m in \u001b[0;36m__call__\u001b[0;34m(self, iterable)\u001b[0m\n\u001b[1;32m     75\u001b[0m             \u001b[0;32mfor\u001b[0m \u001b[0mdelayed_func\u001b[0m\u001b[0;34m,\u001b[0m \u001b[0margs\u001b[0m\u001b[0;34m,\u001b[0m \u001b[0mkwargs\u001b[0m \u001b[0;32min\u001b[0m \u001b[0miterable\u001b[0m\u001b[0;34m\u001b[0m\u001b[0;34m\u001b[0m\u001b[0m\n\u001b[1;32m     76\u001b[0m         )\n\u001b[0;32m---> 77\u001b[0;31m         \u001b[0;32mreturn\u001b[0m \u001b[0msuper\u001b[0m\u001b[0;34m(\u001b[0m\u001b[0;34m)\u001b[0m\u001b[0;34m.\u001b[0m\u001b[0m__call__\u001b[0m\u001b[0;34m(\u001b[0m\u001b[0miterable_with_config\u001b[0m\u001b[0;34m)\u001b[0m\u001b[0;34m\u001b[0m\u001b[0;34m\u001b[0m\u001b[0m\n\u001b[0m\u001b[1;32m     78\u001b[0m \u001b[0;34m\u001b[0m\u001b[0m\n\u001b[1;32m     79\u001b[0m \u001b[0;34m\u001b[0m\u001b[0m\n",
            "\u001b[0;32m/usr/local/lib/python3.11/dist-packages/joblib/parallel.py\u001b[0m in \u001b[0;36m__call__\u001b[0;34m(self, iterable)\u001b[0m\n\u001b[1;32m   2070\u001b[0m         \u001b[0mnext\u001b[0m\u001b[0;34m(\u001b[0m\u001b[0moutput\u001b[0m\u001b[0;34m)\u001b[0m\u001b[0;34m\u001b[0m\u001b[0;34m\u001b[0m\u001b[0m\n\u001b[1;32m   2071\u001b[0m \u001b[0;34m\u001b[0m\u001b[0m\n\u001b[0;32m-> 2072\u001b[0;31m         \u001b[0;32mreturn\u001b[0m \u001b[0moutput\u001b[0m \u001b[0;32mif\u001b[0m \u001b[0mself\u001b[0m\u001b[0;34m.\u001b[0m\u001b[0mreturn_generator\u001b[0m \u001b[0;32melse\u001b[0m \u001b[0mlist\u001b[0m\u001b[0;34m(\u001b[0m\u001b[0moutput\u001b[0m\u001b[0;34m)\u001b[0m\u001b[0;34m\u001b[0m\u001b[0;34m\u001b[0m\u001b[0m\n\u001b[0m\u001b[1;32m   2073\u001b[0m \u001b[0;34m\u001b[0m\u001b[0m\n\u001b[1;32m   2074\u001b[0m     \u001b[0;32mdef\u001b[0m \u001b[0m__repr__\u001b[0m\u001b[0;34m(\u001b[0m\u001b[0mself\u001b[0m\u001b[0;34m)\u001b[0m\u001b[0;34m:\u001b[0m\u001b[0;34m\u001b[0m\u001b[0;34m\u001b[0m\u001b[0m\n",
            "\u001b[0;32m/usr/local/lib/python3.11/dist-packages/joblib/parallel.py\u001b[0m in \u001b[0;36m_get_outputs\u001b[0;34m(self, iterator, pre_dispatch)\u001b[0m\n\u001b[1;32m   1680\u001b[0m \u001b[0;34m\u001b[0m\u001b[0m\n\u001b[1;32m   1681\u001b[0m             \u001b[0;32mwith\u001b[0m \u001b[0mself\u001b[0m\u001b[0;34m.\u001b[0m\u001b[0m_backend\u001b[0m\u001b[0;34m.\u001b[0m\u001b[0mretrieval_context\u001b[0m\u001b[0;34m(\u001b[0m\u001b[0;34m)\u001b[0m\u001b[0;34m:\u001b[0m\u001b[0;34m\u001b[0m\u001b[0;34m\u001b[0m\u001b[0m\n\u001b[0;32m-> 1682\u001b[0;31m                 \u001b[0;32myield\u001b[0m \u001b[0;32mfrom\u001b[0m \u001b[0mself\u001b[0m\u001b[0;34m.\u001b[0m\u001b[0m_retrieve\u001b[0m\u001b[0;34m(\u001b[0m\u001b[0;34m)\u001b[0m\u001b[0;34m\u001b[0m\u001b[0;34m\u001b[0m\u001b[0m\n\u001b[0m\u001b[1;32m   1683\u001b[0m \u001b[0;34m\u001b[0m\u001b[0m\n\u001b[1;32m   1684\u001b[0m         \u001b[0;32mexcept\u001b[0m \u001b[0mGeneratorExit\u001b[0m\u001b[0;34m:\u001b[0m\u001b[0;34m\u001b[0m\u001b[0;34m\u001b[0m\u001b[0m\n",
            "\u001b[0;32m/usr/local/lib/python3.11/dist-packages/joblib/parallel.py\u001b[0m in \u001b[0;36m_retrieve\u001b[0;34m(self)\u001b[0m\n\u001b[1;32m   1798\u001b[0m                     \u001b[0mself\u001b[0m\u001b[0;34m.\u001b[0m\u001b[0m_jobs\u001b[0m\u001b[0;34m[\u001b[0m\u001b[0;36m0\u001b[0m\u001b[0;34m]\u001b[0m\u001b[0;34m.\u001b[0m\u001b[0mget_status\u001b[0m\u001b[0;34m(\u001b[0m\u001b[0mtimeout\u001b[0m\u001b[0;34m=\u001b[0m\u001b[0mself\u001b[0m\u001b[0;34m.\u001b[0m\u001b[0mtimeout\u001b[0m\u001b[0;34m)\u001b[0m \u001b[0;34m==\u001b[0m \u001b[0mTASK_PENDING\u001b[0m\u001b[0;34m\u001b[0m\u001b[0;34m\u001b[0m\u001b[0m\n\u001b[1;32m   1799\u001b[0m                 ):\n\u001b[0;32m-> 1800\u001b[0;31m                     \u001b[0mtime\u001b[0m\u001b[0;34m.\u001b[0m\u001b[0msleep\u001b[0m\u001b[0;34m(\u001b[0m\u001b[0;36m0.01\u001b[0m\u001b[0;34m)\u001b[0m\u001b[0;34m\u001b[0m\u001b[0;34m\u001b[0m\u001b[0m\n\u001b[0m\u001b[1;32m   1801\u001b[0m                     \u001b[0;32mcontinue\u001b[0m\u001b[0;34m\u001b[0m\u001b[0;34m\u001b[0m\u001b[0m\n\u001b[1;32m   1802\u001b[0m \u001b[0;34m\u001b[0m\u001b[0m\n",
            "\u001b[0;31mKeyboardInterrupt\u001b[0m: "
          ]
        }
      ]
    },
    {
      "cell_type": "code",
      "source": [
        "# --- 5. Predicciones ---\n",
        "train_predictions = best_rf.predict(X_train)\n",
        "test_predictions = best_rf.predict(X_test)\n",
        "\n",
        "# --- 6. Evaluación ---\n",
        "mse_train = mean_squared_error(y_train, train_predictions)\n",
        "rmse_train = np.sqrt(mse_train)\n",
        "mae_train = mean_absolute_error(y_train, train_predictions)\n",
        "r2_train = r2_score(y_train, train_predictions)\n",
        "\n",
        "mse_test = mean_squared_error(y_test, test_predictions)\n",
        "rmse_test = np.sqrt(mse_test)\n",
        "mae_test = mean_absolute_error(y_test, test_predictions)\n",
        "r2_test = r2_score(y_test, test_predictions)\n",
        "\n",
        "print(\"\\nRendimiento en TRAIN:\")\n",
        "print(f\"RMSE: {rmse_train:.4f}\")\n",
        "print(f\"MAE: {mae_train:.4f}\")\n",
        "print(f\"R²: {r2_train:.4f}\")\n",
        "\n",
        "print(\"\\nRendimiento en TEST:\")\n",
        "print(f\"RMSE: {rmse_test:.4f}\")\n",
        "print(f\"MAE: {mae_test:.4f}\")\n",
        "print(f\"R²: {r2_test:.4f}\")"
      ],
      "metadata": {
        "id": "u6Xct3dJ9Bjw"
      },
      "id": "u6Xct3dJ9Bjw",
      "execution_count": null,
      "outputs": []
    },
    {
      "cell_type": "code",
      "source": [
        "# Make predictions\n",
        "df_parking_no_info_rf = df_parking_no_info.copy()\n",
        "\n",
        "predictions = best_rf.predict(df_parking_no_info_rf.drop(['geometria','ratio_ocupacion_por_nplazas', 'ratio_intensidad_por_nplazas','ratio_carga_por_nplazas','log_ratio_carga_por_nplazas'], axis = 1))\n",
        "\n",
        "# Transform predictions back to original scale\n",
        "num_registros = np.expm1(predictions[:, 1])\n",
        "media_minutos = np.expm1(predictions[:, 0])\n",
        "\n",
        "# Add to original dataframe\n",
        "df_parking_no_info_rf['num_registros'] = num_registros\n",
        "df_parking_no_info_rf['media_minutos'] = media_minutos\n",
        "\n",
        "# Display results\n",
        "df_parking_no_info_rf[['num_registros', 'media_minutos']]"
      ],
      "metadata": {
        "id": "CSRQBBCPOdOF"
      },
      "id": "CSRQBBCPOdOF",
      "execution_count": null,
      "outputs": []
    },
    {
      "cell_type": "code",
      "execution_count": null,
      "id": "xC4ju-m6lyOr",
      "metadata": {
        "id": "xC4ju-m6lyOr"
      },
      "outputs": [],
      "source": [
        "# Create comparison DataFrame\n",
        "comparison_df = pd.DataFrame({\n",
        "    'XGBoost': [xgb_result.loc['MAE'].values[0],\n",
        "                xgb_result.loc['MSE'].values[0],\n",
        "                xgb_result.loc['RMSE'].values[0],\n",
        "                xgb_result.loc['R2 Score'].values[0]],\n",
        "    'Random Forest': [rf_result.loc['MAE'].values[0],\n",
        "                      rf_result.loc['MSE'].values[0],\n",
        "                      rf_result.loc['RMSE'].values[0],\n",
        "                      rf_result.loc['R2 Score'].values[0]]\n",
        "}, index=['MAE', 'MSE', 'RMSE', 'R2 Score'])\n",
        "\n",
        "print(\"\\nModel Comparison (Test Set):\")\n",
        "print(comparison_df)"
      ]
    },
    {
      "cell_type": "markdown",
      "id": "7PBZwTZna62Y",
      "metadata": {
        "id": "7PBZwTZna62Y"
      },
      "source": [
        "## Modelo de clustering"
      ]
    },
    {
      "cell_type": "code",
      "source": [
        "df_parking_info"
      ],
      "metadata": {
        "id": "oOyw1tt8z5f9"
      },
      "id": "oOyw1tt8z5f9",
      "execution_count": null,
      "outputs": []
    },
    {
      "cell_type": "code",
      "execution_count": null,
      "id": "w_1nOGD_a2NK",
      "metadata": {
        "id": "w_1nOGD_a2NK"
      },
      "outputs": [],
      "source": [
        "df_parking_info.drop(columns=['num_registros_log', 'media_minutos_log'], inplace=True)\n",
        "\n",
        "df_parking = pd.concat([df_parking_info, df_parking_no_info])"
      ]
    },
    {
      "cell_type": "code",
      "source": [
        "df_parking.head()"
      ],
      "metadata": {
        "id": "2a5HZBKtncLA"
      },
      "id": "2a5HZBKtncLA",
      "execution_count": null,
      "outputs": []
    },
    {
      "cell_type": "code",
      "source": [
        "df_parking.info()"
      ],
      "metadata": {
        "id": "TIA5utDtWUN6"
      },
      "id": "TIA5utDtWUN6",
      "execution_count": null,
      "outputs": []
    },
    {
      "cell_type": "code",
      "execution_count": null,
      "id": "TV2Lv9dzObgu",
      "metadata": {
        "id": "TV2Lv9dzObgu"
      },
      "outputs": [],
      "source": [
        "from sklearn.ensemble import IsolationForest\n",
        "\n",
        "# Initializing the IsolationForest model with a contamination parameter of 0.05\n",
        "model = IsolationForest(contamination=0.05, random_state=0)\n",
        "\n",
        "# Fitting the model on our dataset (converting DataFrame to NumPy to avoid warning)\n",
        "df_parking['Outlier_Scores'] = model.fit_predict(df_parking.iloc[:, 1:].to_numpy())\n",
        "\n",
        "# Creating a new column to identify outliers (1 for inliers and -1 for outliers)\n",
        "df_parking['Is_Outlier'] = [1 if x == -1 else 0 for x in df_parking['Outlier_Scores']]\n",
        "\n",
        "# Display the first few rows of the customer_data dataframe\n",
        "df_parking.head()"
      ]
    },
    {
      "cell_type": "code",
      "source": [
        "# Calculate the percentage of inliers and outliers\n",
        "outlier_percentage = df_parking['Is_Outlier'].value_counts(normalize=True) * 100\n",
        "\n",
        "# Plotting the percentage of inliers and outliers\n",
        "plt.figure(figsize=(12, 4))\n",
        "outlier_percentage.plot(kind='barh', color='#ff6200')\n",
        "\n",
        "# Adding the percentage labels on the bars\n",
        "for index, value in enumerate(outlier_percentage):\n",
        "    plt.text(value, index, f'{value:.2f}%', fontsize=15)\n",
        "\n",
        "plt.title('Percentage of Inliers and Outliers')\n",
        "plt.xticks(ticks=np.arange(0, 115, 5))\n",
        "plt.xlabel('Percentage (%)')\n",
        "plt.ylabel('Is Outlier')\n",
        "plt.gca().invert_yaxis()\n",
        "plt.show()"
      ],
      "metadata": {
        "id": "X0J8_TPZ5tIt"
      },
      "id": "X0J8_TPZ5tIt",
      "execution_count": null,
      "outputs": []
    },
    {
      "cell_type": "code",
      "source": [
        "# Separate the outliers for analysis\n",
        "outliers_data = df_parking[df_parking['Is_Outlier'] == 1]\n",
        "\n",
        "# Remove the outliers from the main dataset\n",
        "df_parking_cleaned = df_parking[df_parking['Is_Outlier'] == 0]\n",
        "\n",
        "# Drop the 'Outlier_Scores' and 'Is_Outlier' columns\n",
        "df_parking_cleaned = df_parking_cleaned.drop(columns=['Outlier_Scores', 'Is_Outlier'])\n",
        "\n",
        "# Reset the index of the cleaned data\n",
        "df_parking_cleaned.reset_index(drop=True, inplace=True)"
      ],
      "metadata": {
        "id": "NU_fzda16f1j"
      },
      "id": "NU_fzda16f1j",
      "execution_count": null,
      "outputs": []
    },
    {
      "cell_type": "code",
      "source": [
        "from sklearn.preprocessing import RobustScaler\n",
        "\n",
        "scaler = RobustScaler()\n",
        "\n",
        "df_parking = df_parking.drop(columns=['Outlier_Scores', 'Is_Outlier'])\n",
        "\n",
        "# List of columns that don't need to be scaled\n",
        "columns_to_exclude = ['int_tiempo', 'fin_de_semana', 'color','bateria_linea','geometria']\n",
        "\n",
        "# List of columns that need to be scaled\n",
        "columns_to_scale = df_parking.columns.difference(columns_to_exclude)\n",
        "\n",
        "# Copy the cleaned dataset\n",
        "df_parking_scaled = df_parking.copy()\n",
        "\n",
        "# Applying the scaler to the necessary columns in the dataset\n",
        "df_parking_scaled[columns_to_scale] = scaler.fit_transform(df_parking_scaled[columns_to_scale])\n",
        "\n",
        "# Display the first few rows of the scaled data\n",
        "df_parking_scaled.head()"
      ],
      "metadata": {
        "id": "LPXsKoa961ef"
      },
      "id": "LPXsKoa961ef",
      "execution_count": null,
      "outputs": []
    },
    {
      "cell_type": "code",
      "source": [
        "df_parking_scaled.info()"
      ],
      "metadata": {
        "id": "Kx6ky5YTn_Jv"
      },
      "id": "Kx6ky5YTn_Jv",
      "execution_count": null,
      "outputs": []
    },
    {
      "cell_type": "code",
      "source": [],
      "metadata": {
        "id": "dsrOedkt3cwP"
      },
      "id": "dsrOedkt3cwP",
      "execution_count": null,
      "outputs": []
    },
    {
      "cell_type": "code",
      "source": [
        "df_parking_1_ok.info()"
      ],
      "metadata": {
        "id": "HkTWzCxJVlGk"
      },
      "id": "HkTWzCxJVlGk",
      "execution_count": null,
      "outputs": []
    },
    {
      "cell_type": "code",
      "source": [
        "print(\"int_tiempo únicos:\", df_parking_scaled['int_tiempo'].unique())\n",
        "print(\"fin_de_semana únicos:\", df_parking_scaled['fin_de_semana'].unique())\n"
      ],
      "metadata": {
        "id": "gLwjG46NjBdp"
      },
      "id": "gLwjG46NjBdp",
      "execution_count": null,
      "outputs": []
    },
    {
      "cell_type": "code",
      "source": [
        "import matplotlib.pyplot as plt\n",
        "import seaborn as sns\n",
        "from sklearn.decomposition import PCA\n",
        "import numpy as np\n",
        "\n",
        "# Configuración de estilos\n",
        "sns.set(style=\"whitegrid\")\n",
        "plt.rcParams.update({'font.size': 10})\n",
        "\n",
        "# Mapeo de tiempo a etiquetas legibles\n",
        "tiempo_labels = {0: \"Mañana\", 1: \"Mediodía\", 2: \"Tarde\", 3: \"Noche\"}\n",
        "int_tiempos = list(tiempo_labels.keys())\n",
        "fin_de_semana_vals = [0, 1]\n",
        "\n",
        "# Crear figura con subgráficos\n",
        "fig, axes = plt.subplots(len(int_tiempos), len(fin_de_semana_vals), figsize=(12, 16), sharey=True)\n",
        "\n",
        "for i, tiempo in enumerate(int_tiempos):\n",
        "    for j, fin_sem in enumerate(fin_de_semana_vals):\n",
        "        ax = axes[i, j]\n",
        "        df_subset = df_parking_scaled[\n",
        "            (df_parking_scaled['int_tiempo'] == tiempo) &\n",
        "            (df_parking_scaled['fin_de_semana'] == fin_sem)\n",
        "        ]\n",
        "\n",
        "        if not df_subset.empty:\n",
        "            pca = PCA()\n",
        "            numeric_data = df_subset.select_dtypes(include=[np.number])\n",
        "            pca.fit(numeric_data)\n",
        "            evr = pca.explained_variance_ratio_\n",
        "\n",
        "            sns.barplot(x=list(range(1, len(evr) + 1)), y=evr, color='#fcb768', ax=ax)\n",
        "            ax.set_title(f\"{tiempo_labels[tiempo]} - Fin de semana: {'Sí' if fin_sem else 'No'}\")\n",
        "            ax.set_xlabel(\"Componente principal\")\n",
        "            ax.set_ylabel(\"Varianza explicada\")\n",
        "\n",
        "            for k, val in enumerate(evr):\n",
        "                ax.text(k, val + 0.01, f\"{val:.2f}\", ha='center', va='bottom', fontsize=8)\n",
        "        else:\n",
        "            ax.set_title(f\"{tiempo_labels[tiempo]} - Fin de semana: {'Sí' if fin_sem else 'No'}\")\n",
        "            ax.text(0.5, 0.5, 'Sin datos', transform=ax.transAxes, ha='center', va='center', fontsize=10)\n",
        "            ax.set_xticks([])\n",
        "            ax.set_yticks([])\n",
        "\n",
        "# Ajustes finales\n",
        "plt.suptitle(\"Varianza explicada por PCA en cada franja horaria y tipo de día\", fontsize=16, y=1.02)\n",
        "plt.tight_layout()\n",
        "plt.show()\n"
      ],
      "metadata": {
        "id": "i_I8TzHz7Lzk"
      },
      "id": "i_I8TzHz7Lzk",
      "execution_count": null,
      "outputs": []
    },
    {
      "cell_type": "markdown",
      "source": [
        "Para subconjunto de datos que tomemos podemos elegir 4 componentes principales. Buscamos automatizar el proceso."
      ],
      "metadata": {
        "id": "Ypq0nhuLjlD2"
      },
      "id": "Ypq0nhuLjlD2"
    },
    {
      "cell_type": "markdown",
      "source": [
        "Puedo hacer para cada subconjunto estudiar el clustering individualmente y luego juntarlo todo en un único df."
      ],
      "metadata": {
        "id": "7qKFcLOWv60J"
      },
      "id": "7qKFcLOWv60J"
    },
    {
      "cell_type": "markdown",
      "source": [
        "### Clustering para un día entre semana por la mañana\n",
        "Estudiamos el subconjunto formado por los registros que corresponden los datos de los días entre semana por la mañana. El estudio para este subconjunto se realiza de manera muy detallada mediante que los demás subconjuntos se estudian de manera más general, aunque con el detalle suficiente para llevar a cabo el modelo de manera efectiva. Subconjunto_aux es el df que se utilizará para entrenar el modelo."
      ],
      "metadata": {
        "id": "J_Li_UK3kqfv"
      },
      "id": "J_Li_UK3kqfv"
    },
    {
      "cell_type": "code",
      "source": [
        "subconjunto = df_parking_scaled[(df_parking_scaled['int_tiempo'] == 0) & (df_parking_scaled['fin_de_semana'] == 0)]\n",
        "subconjunto_aux = subconjunto[['media_minutos', 'num_registros', 'numero_plazas','color','bateria_linea','log_ratio_intensidad_por_nplazas','media_ocupacion']]"
      ],
      "metadata": {
        "id": "30qce11tkzKH"
      },
      "id": "30qce11tkzKH",
      "execution_count": null,
      "outputs": []
    },
    {
      "cell_type": "markdown",
      "source": [
        "Para este hacer un estudio del Principal Component Analysis más detallado, para los otros ya no."
      ],
      "metadata": {
        "id": "nLQwvshJ6pKb"
      },
      "id": "nLQwvshJ6pKb"
    },
    {
      "cell_type": "code",
      "source": [
        "pca = PCA(n_components=4)\n",
        "\n",
        "df_parking_pca = pca.fit_transform(subconjunto_aux)\n",
        "\n",
        "# Nombramos la columnas según la componente principal a la que correspondan\n",
        "df_parking_pca = pd.DataFrame(df_parking_pca, columns=['PC'+str(i+1) for i in range(pca.n_components_)])"
      ],
      "metadata": {
        "id": "P1cuWnBR7nyz"
      },
      "id": "P1cuWnBR7nyz",
      "execution_count": null,
      "outputs": []
    },
    {
      "cell_type": "markdown",
      "source": [
        "Estudiamos tanto el método del codo como el silhouette score para estimar el valor de k antes de llevar a cabo el algoritmo de kmeans final."
      ],
      "metadata": {
        "id": "D_95B6RR7UgR"
      },
      "id": "D_95B6RR7UgR"
    },
    {
      "cell_type": "code",
      "source": [
        "import matplotlib.pyplot as plt\n",
        "from sklearn.cluster import KMeans\n",
        "from sklearn.metrics import silhouette_score\n",
        "import numpy as np\n",
        "\n",
        "X = df_parking_pca.select_dtypes(include=[np.number])\n",
        "\n",
        "valores_k = range(2, 8)\n",
        "inercias = []\n",
        "silhouettes_scores = []\n",
        "\n",
        "for k in valores_k:\n",
        "    kmeans = KMeans(n_clusters=k, n_init='auto', random_state=42)\n",
        "    labels = kmeans.fit_predict(X)\n",
        "    inercias.append(kmeans.inertia_)\n",
        "    silhouettes_scores.append(silhouette_score(X, labels))\n",
        "\n",
        "import matplotlib.pyplot as plt\n",
        "\n",
        "fig, axs = plt.subplots(1, 2, figsize=(12, 4))\n",
        "\n",
        "axs[0].plot(valores_k, inercias, marker='o', color='darkorange')\n",
        "axs[0].set_title('Método del codo (Elbow)')\n",
        "axs[0].set_xlabel('Número de clusters (k)')\n",
        "axs[0].set_ylabel('Inercia')\n",
        "axs[0].grid(True)\n",
        "\n",
        "axs[1].plot(valores_k, silhouettes_scores, marker='s', linestyle='--', color='teal')\n",
        "axs[1].set_title('Silhouette Score por número de clusters')\n",
        "axs[1].set_xlabel('Número de clusters (k)')\n",
        "axs[1].set_ylabel('Silhouette Score')\n",
        "axs[1].grid(True)\n",
        "\n",
        "plt.tight_layout()\n",
        "plt.show()\n"
      ],
      "metadata": {
        "id": "07WgQylP8Z1X"
      },
      "id": "07WgQylP8Z1X",
      "execution_count": null,
      "outputs": []
    },
    {
      "cell_type": "markdown",
      "source": [
        "Podemos observar que tenemos valores relativamente altos del silhouette score para valores altos de inercia, esto nos indica que la distinción entre clusters es buena pero los clusters son amplios, no compactos, y que los puntos tienen alta dispersión. Para datos reales como los que estamos usando en este trabajo un silhouette score de más de 0.45 lo vamos a considerar como aceptable, puesto que los datos reales tienen ruido que complica la segmentación de éstos. En éste caso"
      ],
      "metadata": {
        "id": "k8W_Ovko81hq"
      },
      "id": "k8W_Ovko81hq"
    },
    {
      "cell_type": "code",
      "source": [
        "from sklearn.metrics import silhouette_score, calinski_harabasz_score, davies_bouldin_score\n",
        "from sklearn.cluster import KMeans\n",
        "from tabulate import tabulate\n",
        "from collections import Counter\n",
        "\n",
        "# Apply KMeans clustering using the optimal k\n",
        "kmeans = KMeans(n_clusters=2, init='k-means++', n_init=10, max_iter=100, random_state=0)\n",
        "kmeans.fit(df_parking_pca)\n",
        "\n",
        "# Get the frequency of each cluster\n",
        "cluster_frequencies = Counter(kmeans.labels_)\n",
        "\n",
        "# Append the new cluster labels back to the original dataset\n",
        "df_parking_1['cluster'] = kmeans.labels_\n",
        "# Append the new cluster labels to the PCA version of the dataset\n",
        "df_parking_pca['cluster'] = kmeans.labels_\n",
        "\n"
      ],
      "metadata": {
        "id": "-iBkhhpC8nnb"
      },
      "id": "-iBkhhpC8nnb",
      "execution_count": null,
      "outputs": []
    },
    {
      "cell_type": "code",
      "source": [
        "# Calculate the percentage of customers in each cluster\n",
        "cluster_percentage = (df_parking_pca['cluster'].value_counts(normalize=True) * 100).reset_index()\n",
        "cluster_percentage.columns = ['Cluster', 'Percentage']\n",
        "cluster_percentage.sort_values(by='Cluster', inplace=True)\n",
        "\n",
        "# Create a horizontal bar plot\n",
        "plt.figure(figsize=(10, 4))\n",
        "sns.barplot(x='Percentage', y='Cluster', data=cluster_percentage, orient='h')\n",
        "\n",
        "# Adding percentages on the bars\n",
        "for index, value in enumerate(cluster_percentage['Percentage']):\n",
        "    plt.text(value+0.5, index, f'{value:.2f}%')\n",
        "\n",
        "plt.title('Distribution of Customers Across Clusters', fontsize=14)\n",
        "plt.xticks(ticks=np.arange(0, 50, 5))\n",
        "plt.xlabel('Percentage (%)')\n",
        "\n",
        "# Show the plot\n",
        "plt.show()"
      ],
      "metadata": {
        "id": "lFmUBlKm12Nu"
      },
      "id": "lFmUBlKm12Nu",
      "execution_count": null,
      "outputs": []
    },
    {
      "cell_type": "code",
      "source": [
        "# Plot histograms for each feature segmented by the clusters\n",
        "features = df_parking_1.columns[1:-1]\n",
        "clusters = df_parking_1['cluster'].unique()\n",
        "clusters.sort()\n",
        "\n",
        "# Setting up the subplots\n",
        "n_rows = len(features)\n",
        "n_cols = len(clusters)\n",
        "fig, axes = plt.subplots(n_rows, n_cols, figsize=(20, 3*n_rows))\n",
        "\n",
        "# Plotting histograms\n",
        "for i, feature in enumerate(features):\n",
        "    for j, cluster in enumerate(clusters):\n",
        "        data = df_parking_1[df_parking_1['cluster'] == cluster][feature]\n",
        "        axes[i, j].hist(data, bins=20, edgecolor='w', alpha=0.7)\n",
        "        axes[i, j].set_title(f'Cluster {cluster} - {feature}', fontsize=15)\n",
        "        axes[i, j].set_xlabel('')\n",
        "        axes[i, j].set_ylabel('')\n",
        "\n",
        "# Adjusting layout to prevent overlapping\n",
        "plt.tight_layout()\n",
        "plt.show()\n"
      ],
      "metadata": {
        "id": "uvF-NXhr2Q1q"
      },
      "id": "uvF-NXhr2Q1q",
      "execution_count": null,
      "outputs": []
    },
    {
      "cell_type": "code",
      "source": [
        "stats_por_cluster = df_parking_1.drop('geometria', axis=1).groupby('cluster').mean()\n",
        "\n",
        "stats_por_cluster"
      ],
      "metadata": {
        "id": "aFzWjtUW5D7h"
      },
      "id": "aFzWjtUW5D7h",
      "execution_count": null,
      "outputs": []
    },
    {
      "cell_type": "code",
      "source": [
        "import geopandas as gpd\n",
        "from shapely import wkt\n",
        "\n",
        "# 1. Convertir columna de geometría (WKT -> Point)\n",
        "# df_parking_1['geometria'] = df_parking_1['geometria'].apply(wkt.loads)\n",
        "\n",
        "# 2. Crear GeoDataFrame con CRS EPSG:25830\n",
        "gdf = gpd.GeoDataFrame(df_parking_1, geometry='geometria', crs='EPSG:25830')\n",
        "\n",
        "# 3. Reproyectar a EPSG:4326 (lat/lon)\n",
        "gdf = gdf.to_crs(epsg=4326)\n",
        "\n",
        "# 4. Extraer latitud y longitud\n",
        "gdf['latitud'] = gdf.geometry.y\n",
        "gdf['longitud'] = gdf.geometry.x\n"
      ],
      "metadata": {
        "id": "--7l1BTeGEtQ"
      },
      "id": "--7l1BTeGEtQ",
      "execution_count": null,
      "outputs": []
    },
    {
      "cell_type": "code",
      "source": [
        "import plotly.express as px\n",
        "\n",
        "# Convertir cluster a string para usar color_discrete_map\n",
        "gdf['cluster_str'] = gdf['cluster'].astype(str)\n",
        "\n",
        "color_discrete_map = {\n",
        "    \"0\": \"red\",\n",
        "    \"1\": \"green\"\n",
        "}\n",
        "\n",
        "fig = px.scatter_mapbox(\n",
        "    gdf,\n",
        "    lat=\"latitud\",\n",
        "    lon=\"longitud\",\n",
        "    color=\"cluster_str\",  # Usar la columna de strings\n",
        "    zoom=11,\n",
        "    height=600,\n",
        "    mapbox_style=\"carto-positron\",\n",
        "    hover_data={\n",
        "        \"media_ocupacion\": True,\n",
        "        \"numero_plazas\": True\n",
        "    },\n",
        "    color_discrete_map=color_discrete_map\n",
        ")\n",
        "\n",
        "# Reducir tamaño de los puntos\n",
        "fig.update_traces(marker=dict(size=4))\n",
        "\n",
        "fig.update_layout(title=\"Clusters de Zonas de Aparcamiento\")\n",
        "fig.show()\n"
      ],
      "metadata": {
        "id": "g-cgopRT2uTU"
      },
      "id": "g-cgopRT2uTU",
      "execution_count": null,
      "outputs": []
    },
    {
      "cell_type": "code",
      "source": [
        "import joblib\n",
        "\n",
        "# Guardar el modelo\n",
        "joblib.dump(kmeans, 'kmeans_mañana_entre_semana.pkl')"
      ],
      "metadata": {
        "id": "tA--mmhhnmf4"
      },
      "id": "tA--mmhhnmf4",
      "execution_count": null,
      "outputs": []
    },
    {
      "cell_type": "code",
      "source": [
        "import pandas as pd\n",
        "from sklearn.tree import DecisionTreeClassifier, plot_tree\n",
        "import matplotlib.pyplot as plt\n",
        "\n",
        "# Suponiendo que bank_clust es tu dataframe de entrada\n",
        "gdf_tree = gdf.copy()\n",
        "\n",
        "# Asegurar que 'cluster' sea numérico\n",
        "gdf_tree[\"cluster\"] = gdf_tree[\"cluster\"].astype(int)\n",
        "\n",
        "# Crear variables dummy estilo one-vs-rest\n",
        "gdf_tree[\"cluster_1\"] = (gdf_tree[\"cluster\"] == 1).astype(int)\n",
        "gdf_tree[\"cluster_2\"] = (gdf_tree[\"cluster\"] == 2).astype(int)\n",
        "gdf_tree[\"cluster_3\"] = (gdf_tree[\"cluster\"] == 3).astype(int)"
      ],
      "metadata": {
        "id": "ZUNnlES4r0Ds"
      },
      "id": "ZUNnlES4r0Ds",
      "execution_count": null,
      "outputs": []
    },
    {
      "cell_type": "code",
      "source": [
        "gdf_tree"
      ],
      "metadata": {
        "id": "2Fook67LsZKd"
      },
      "id": "2Fook67LsZKd",
      "execution_count": null,
      "outputs": []
    },
    {
      "cell_type": "code",
      "source": [
        "# Seleccionamos las variables predictoras y la variable objetivo\n",
        "X = gdf_tree[['media_minutos', 'num_registros', 'numero_plazas','color','bateria_linea','log_ratio_intensidad_por_nplazas','media_ocupacion']] # columnas 0 a 16 (como en R: 1:17)\n",
        "y = gdf_tree[\"cluster_1\"]\n",
        "\n",
        "# Entrenamos el árbol\n",
        "tree_clf = DecisionTreeClassifier(max_depth=4, random_state=42)\n",
        "tree_clf.fit(X, y)\n"
      ],
      "metadata": {
        "id": "hMhrtEHFsXrP"
      },
      "id": "hMhrtEHFsXrP",
      "execution_count": null,
      "outputs": []
    },
    {
      "cell_type": "code",
      "source": [
        "import matplotlib.pyplot as plt\n",
        "from sklearn.tree import DecisionTreeClassifier, plot_tree\n",
        "\n",
        "# Ajustamos el tamaño de la figura\n",
        "plt.figure(figsize=(24, 12))\n",
        "\n",
        "# Dibujamos el árbol con etiquetas y colores\n",
        "plot_tree(\n",
        "    tree_clf,\n",
        "    feature_names=X.columns,\n",
        "    class_names=[\"No Cluster 1\", \"Cluster 1\"],\n",
        "    filled=True,\n",
        "    rounded=True,\n",
        "    fontsize=12,\n",
        "    proportion=True,  # puedes poner True para que las cajas tengan tamaños proporcionales\n",
        ")\n",
        "\n",
        "plt.title(\"VARIABLES ASOCIADAS A CLÚSTER - 1\", fontsize=16)\n",
        "plt.show()\n"
      ],
      "metadata": {
        "id": "Ma3wh3CQsq9D"
      },
      "id": "Ma3wh3CQsq9D",
      "execution_count": null,
      "outputs": []
    },
    {
      "cell_type": "markdown",
      "source": [
        "### Clustering para un día entre semana al mediodia"
      ],
      "metadata": {
        "id": "cOZAIV2CnRoG"
      },
      "id": "cOZAIV2CnRoG"
    },
    {
      "cell_type": "code",
      "source": [
        "df_parking_1 = df_parking_scaled[(df_parking_scaled['int_tiempo'] == 1) & (df_parking_scaled['fin_de_semana'] == 0)]\n",
        "df_parking_1_ok = df_parking_1[['media_minutos', 'num_registros', 'numero_plazas','color','bateria_linea','log_ratio_intensidad_por_nplazas','media_ocupacion']]"
      ],
      "metadata": {
        "id": "zfwBDcMknXo2"
      },
      "id": "zfwBDcMknXo2",
      "execution_count": null,
      "outputs": []
    },
    {
      "cell_type": "code",
      "source": [
        "# Creating a PCA object with 6 components\n",
        "pca = PCA(n_components=4)\n",
        "\n",
        "# Fitting and transforming the original data to the new PCA dataframe\n",
        "df_parking_pca = pca.fit_transform(df_parking_1_ok)\n",
        "\n",
        "# Creating a new dataframe from the PCA dataframe, with columns labeled PC1, PC2, etc.\n",
        "df_parking_pca = pd.DataFrame(df_parking_pca, columns=['PC'+str(i+1) for i in range(pca.n_components_)])\n",
        "\n",
        "# Adding the CustomerID index back to the new PCA dataframe\n",
        "df_parking_pca.index = df_parking_1.index"
      ],
      "metadata": {
        "id": "PGa7ptJ5p2d_"
      },
      "id": "PGa7ptJ5p2d_",
      "execution_count": null,
      "outputs": []
    },
    {
      "cell_type": "markdown",
      "source": [
        "📌 1. ¿Qué es la inercia en KMeans?\n",
        "La inercia mide cuán cerca están los puntos de su centroide asignado. Es la suma de las distancias cuadradas de cada punto al centroide del cluster al que pertenece.\n",
        "\n",
        "Menor inercia = clusters más compactos (pero no necesariamente mejores).\n",
        "\n",
        "Siempre disminuye al aumentar k, por eso no se puede usar sola para elegir k.\n",
        "\n",
        "📌 2. ¿Qué es el Silhouette Score?\n",
        "El Silhouette Score mide qué tan bien separado está un punto de los clusters vecinos. Su valor va de -1 a 1.\n",
        "\n",
        "Cerca de 1: los puntos están bien agrupados y separados de otros clusters.\n",
        "\n",
        "Cerca de 0: los puntos están cerca del límite entre clusters.\n",
        "\n",
        "Cerca de -1: los puntos están probablemente mal asignados.\n",
        "\n",
        "🤔 ¿Qué significa tener un valor de k con alta inercia pero buen Silhouette Score?\n",
        "Eso indica que:\n",
        "\n",
        "Los clusters están bien separados y definidos (silhouette score alto),\n",
        "\n",
        "Pero no necesariamente muy compactos (porque la inercia aún es alta).\n",
        "\n",
        "Esto puede pasar cuando:\n",
        "\n",
        "Hay pocos clusters, y aún así los puntos están bien agrupados (aunque los clusters sean grandes, poco densos).\n",
        "\n",
        "O los datos están naturalmente bien separados, incluso con k pequeño.\n",
        "\n",
        "✅ ¿Qué deberías hacer en ese caso?\n",
        "Confía más en el Silhouette Score que en la inercia.\n",
        "\n",
        "La inercia te ayuda a ver la tendencia, pero el Silhouette Score te dice qué tan buena es la partición.\n",
        "\n",
        "Un k con buena separación (alto silhouette) es preferible aunque la inercia no sea mínima.\n",
        "\n"
      ],
      "metadata": {
        "id": "TMN8LyYZq_5k"
      },
      "id": "TMN8LyYZq_5k"
    },
    {
      "cell_type": "code",
      "source": [
        "import matplotlib.pyplot as plt\n",
        "from sklearn.cluster import KMeans\n",
        "from sklearn.metrics import silhouette_score\n",
        "import numpy as np\n",
        "\n",
        "# Solo columnas numéricas\n",
        "X = df_parking_pca.select_dtypes(include=[np.number])\n",
        "\n",
        "# Rango de k a probar\n",
        "k_values = range(2, 8)\n",
        "inertias = []\n",
        "silhouettes = []\n",
        "\n",
        "for k in k_values:\n",
        "    kmeans = KMeans(n_clusters=k, n_init='auto', random_state=42)\n",
        "    labels = kmeans.fit_predict(X)\n",
        "    inertias.append(kmeans.inertia_)\n",
        "    silhouettes.append(silhouette_score(X, labels))\n",
        "\n",
        "# Elegir mejor k según silhouette\n",
        "best_k_silhouette = k_values[np.argmax(silhouettes)]\n",
        "\n",
        "# --------- Gráfico 1: Elbow (Inercia) ----------\n",
        "plt.figure(figsize=(8, 4))\n",
        "plt.plot(k_values, inertias, marker='o', color='darkorange')\n",
        "plt.xlabel('Número de clusters (k)')\n",
        "plt.ylabel('Inercia')\n",
        "plt.title('Método del codo (Elbow)')\n",
        "plt.grid(True)\n",
        "plt.tight_layout()\n",
        "plt.show()\n",
        "\n",
        "# --------- Gráfico 2: Silhouette ----------\n",
        "plt.figure(figsize=(8, 4))\n",
        "plt.plot(k_values, silhouettes, marker='s', linestyle='--', color='teal')\n",
        "plt.xlabel('Número de clusters (k)')\n",
        "plt.ylabel('Silhouette Score')\n",
        "plt.title('Silhouette Score por número de clusters')\n",
        "plt.grid(True)\n",
        "plt.tight_layout()\n",
        "plt.show()\n",
        "\n",
        "# --------- Resultado óptimo ----------\n",
        "print(f'✅ Mejor k según silhouette score: {best_k_silhouette} (score = {max(silhouettes):.3f})')\n"
      ],
      "metadata": {
        "id": "97aH4GWBp9jE"
      },
      "id": "97aH4GWBp9jE",
      "execution_count": null,
      "outputs": []
    },
    {
      "cell_type": "code",
      "source": [
        "from sklearn.metrics import silhouette_score, calinski_harabasz_score, davies_bouldin_score\n",
        "from sklearn.cluster import KMeans\n",
        "from tabulate import tabulate\n",
        "from collections import Counter\n",
        "\n",
        "# Apply KMeans clustering using the optimal k\n",
        "kmeans = KMeans(n_clusters=3, init='k-means++', n_init=10, max_iter=100, random_state=0)\n",
        "kmeans.fit(df_parking_pca)\n",
        "\n",
        "# Get the frequency of each cluster\n",
        "cluster_frequencies = Counter(kmeans.labels_)\n",
        "\n",
        "# Append the new cluster labels back to the original dataset\n",
        "df_parking_1['cluster'] = kmeans.labels_\n",
        "# Append the new cluster labels to the PCA version of the dataset\n",
        "df_parking_pca['cluster'] = kmeans.labels_"
      ],
      "metadata": {
        "id": "Nmt5chFVqHY7"
      },
      "id": "Nmt5chFVqHY7",
      "execution_count": null,
      "outputs": []
    },
    {
      "cell_type": "code",
      "source": [
        "# Calculate the percentage of customers in each cluster\n",
        "cluster_percentage = (df_parking_pca['cluster'].value_counts(normalize=True) * 100).reset_index()\n",
        "cluster_percentage.columns = ['Cluster', 'Percentage']\n",
        "cluster_percentage.sort_values(by='Cluster', inplace=True)\n",
        "\n",
        "# Create a horizontal bar plot\n",
        "plt.figure(figsize=(10, 4))\n",
        "sns.barplot(x='Percentage', y='Cluster', data=cluster_percentage, orient='h')\n",
        "\n",
        "# Adding percentages on the bars\n",
        "for index, value in enumerate(cluster_percentage['Percentage']):\n",
        "    plt.text(value+0.5, index, f'{value:.2f}%')\n",
        "\n",
        "plt.title('Distribution of Customers Across Clusters', fontsize=14)\n",
        "plt.xticks(ticks=np.arange(0, 50, 5))\n",
        "plt.xlabel('Percentage (%)')\n",
        "\n",
        "# Show the plot\n",
        "plt.show()"
      ],
      "metadata": {
        "id": "am9yKP2hqNPD"
      },
      "id": "am9yKP2hqNPD",
      "execution_count": null,
      "outputs": []
    },
    {
      "cell_type": "code",
      "source": [
        "stats_por_cluster = df_parking_1.drop('geometria', axis=1).groupby('cluster').mean()\n",
        "\n",
        "stats_por_cluster"
      ],
      "metadata": {
        "id": "vlIbRt_Q7QV9"
      },
      "id": "vlIbRt_Q7QV9",
      "execution_count": null,
      "outputs": []
    },
    {
      "cell_type": "code",
      "source": [
        "import plotly.express as px\n",
        "\n",
        "import geopandas as gpd\n",
        "from shapely import wkt\n",
        "\n",
        "# 1. Convertir columna de geometría (WKT -> Point)\n",
        "df_parking_1['geometria'] = df_parking_1['geometria'].apply(wkt.loads)\n",
        "\n",
        "# 2. Crear GeoDataFrame con CRS EPSG:25830\n",
        "gdf = gpd.GeoDataFrame(df_parking_1, geometry='geometria', crs='EPSG:25830')\n",
        "\n",
        "# 3. Reproyectar a EPSG:4326 (lat/lon)\n",
        "gdf = gdf.to_crs(epsg=4326)\n",
        "\n",
        "# 4. Extraer latitud y longitud\n",
        "gdf['latitud'] = gdf.geometry.y\n",
        "gdf['longitud'] = gdf.geometry.x\n",
        "\n",
        "# Convertir cluster a string para usar color_discrete_map\n",
        "gdf['cluster_str'] = gdf['cluster'].astype(str)\n",
        "\n",
        "color_discrete_map = {\n",
        "    \"0\": \"red\",\n",
        "    \"1\": \"orange\",\n",
        "    \"2\" : \"green\"\n",
        "}\n",
        "\n",
        "fig = px.scatter_mapbox(\n",
        "    gdf,\n",
        "    lat=\"latitud\",\n",
        "    lon=\"longitud\",\n",
        "    color=\"cluster_str\",  # Usar la columna de strings\n",
        "    zoom=11,\n",
        "    height=600,\n",
        "    mapbox_style=\"carto-positron\",\n",
        "    hover_data={\n",
        "        \"media_ocupacion\": True,\n",
        "        \"numero_plazas\": True\n",
        "    },\n",
        "    color_discrete_map=color_discrete_map\n",
        ")\n",
        "\n",
        "# Reducir tamaño de los puntos\n",
        "fig.update_traces(marker=dict(size=4))\n",
        "\n",
        "fig.update_layout(title=\"Clusters de Zonas de Aparcamiento\")\n",
        "fig.show()\n"
      ],
      "metadata": {
        "id": "TyrJjhnQrD96"
      },
      "id": "TyrJjhnQrD96",
      "execution_count": null,
      "outputs": []
    },
    {
      "cell_type": "markdown",
      "source": [
        "Podemos observar que debido al tráfico que hay en Madrid Capital un día entresemana al mediodía las plazas verdes se reducen bastante mientras que aumentan las naranjas y las rojas."
      ],
      "metadata": {
        "id": "FRHBNkNDrbBR"
      },
      "id": "FRHBNkNDrbBR"
    },
    {
      "cell_type": "code",
      "source": [
        "import joblib\n",
        "\n",
        "# Guardar el modelo\n",
        "joblib.dump(kmeans, 'kmeans_mañana_entre_semana.pkl')"
      ],
      "metadata": {
        "id": "ra0cbaIgsGx_"
      },
      "id": "ra0cbaIgsGx_",
      "execution_count": null,
      "outputs": []
    },
    {
      "cell_type": "markdown",
      "source": [
        "Clustering de un día entre semana por la tarde"
      ],
      "metadata": {
        "id": "D6cmb9xisHKN"
      },
      "id": "D6cmb9xisHKN"
    },
    {
      "cell_type": "code",
      "source": [
        "df_parking_1 = df_parking_scaled[(df_parking_scaled['int_tiempo'] == 2) & (df_parking_scaled['fin_de_semana'] == 0)]\n",
        "df_parking_1_ok = df_parking_1[['media_minutos', 'num_registros', 'numero_plazas','color','bateria_linea','log_ratio_intensidad_por_nplazas','media_ocupacion']]"
      ],
      "metadata": {
        "id": "e8A5tnKwsSiK"
      },
      "execution_count": null,
      "outputs": [],
      "id": "e8A5tnKwsSiK"
    },
    {
      "cell_type": "code",
      "source": [
        "# Creating a PCA object with 6 components\n",
        "pca = PCA(n_components=4)\n",
        "\n",
        "# Fitting and transforming the original data to the new PCA dataframe\n",
        "df_parking_pca = pca.fit_transform(df_parking_1_ok)\n",
        "\n",
        "# Creating a new dataframe from the PCA dataframe, with columns labeled PC1, PC2, etc.\n",
        "df_parking_pca = pd.DataFrame(df_parking_pca, columns=['PC'+str(i+1) for i in range(pca.n_components_)])\n",
        "\n",
        "# Adding the CustomerID index back to the new PCA dataframe\n",
        "df_parking_pca.index = df_parking_1.index"
      ],
      "metadata": {
        "id": "IGUlrjO2sSiL"
      },
      "execution_count": null,
      "outputs": [],
      "id": "IGUlrjO2sSiL"
    },
    {
      "cell_type": "code",
      "source": [
        "import matplotlib.pyplot as plt\n",
        "from sklearn.cluster import KMeans\n",
        "from sklearn.metrics import silhouette_score\n",
        "import numpy as np\n",
        "\n",
        "# Solo columnas numéricas\n",
        "X = df_parking_pca.select_dtypes(include=[np.number])\n",
        "\n",
        "# Rango de k a probar\n",
        "k_values = range(2, 8)\n",
        "inertias = []\n",
        "silhouettes = []\n",
        "\n",
        "for k in k_values:\n",
        "    kmeans = KMeans(n_clusters=k, n_init='auto', random_state=42)\n",
        "    labels = kmeans.fit_predict(X)\n",
        "    inertias.append(kmeans.inertia_)\n",
        "    silhouettes.append(silhouette_score(X, labels))\n",
        "\n",
        "# Elegir mejor k según silhouette\n",
        "best_k_silhouette = k_values[np.argmax(silhouettes)]\n",
        "\n",
        "# --------- Gráfico 1: Elbow (Inercia) ----------\n",
        "plt.figure(figsize=(8, 4))\n",
        "plt.plot(k_values, inertias, marker='o', color='darkorange')\n",
        "plt.xlabel('Número de clusters (k)')\n",
        "plt.ylabel('Inercia')\n",
        "plt.title('Método del codo (Elbow)')\n",
        "plt.grid(True)\n",
        "plt.tight_layout()\n",
        "plt.show()\n",
        "\n",
        "# --------- Gráfico 2: Silhouette ----------\n",
        "plt.figure(figsize=(8, 4))\n",
        "plt.plot(k_values, silhouettes, marker='s', linestyle='--', color='teal')\n",
        "plt.xlabel('Número de clusters (k)')\n",
        "plt.ylabel('Silhouette Score')\n",
        "plt.title('Silhouette Score por número de clusters')\n",
        "plt.grid(True)\n",
        "plt.tight_layout()\n",
        "plt.show()\n",
        "\n",
        "# --------- Resultado óptimo ----------\n",
        "print(f'✅ Mejor k según silhouette score: {best_k_silhouette} (score = {max(silhouettes):.3f})')\n"
      ],
      "metadata": {
        "id": "Pa7itFStsSiL"
      },
      "execution_count": null,
      "outputs": [],
      "id": "Pa7itFStsSiL"
    },
    {
      "cell_type": "code",
      "source": [
        "from sklearn.metrics import silhouette_score, calinski_harabasz_score, davies_bouldin_score\n",
        "from sklearn.cluster import KMeans\n",
        "from tabulate import tabulate\n",
        "from collections import Counter\n",
        "\n",
        "# Apply KMeans clustering using the optimal k\n",
        "kmeans = KMeans(n_clusters=3, init='k-means++', n_init=10, max_iter=100, random_state=0)\n",
        "kmeans.fit(df_parking_pca)\n",
        "\n",
        "# Get the frequency of each cluster\n",
        "cluster_frequencies = Counter(kmeans.labels_)\n",
        "\n",
        "# Append the new cluster labels back to the original dataset\n",
        "df_parking_1['cluster'] = kmeans.labels_\n",
        "# Append the new cluster labels to the PCA version of the dataset\n",
        "df_parking_pca['cluster'] = kmeans.labels_"
      ],
      "metadata": {
        "id": "XREirKFBsSiL"
      },
      "execution_count": null,
      "outputs": [],
      "id": "XREirKFBsSiL"
    },
    {
      "cell_type": "code",
      "source": [
        "# Calculate the percentage of customers in each cluster\n",
        "cluster_percentage = (df_parking_pca['cluster'].value_counts(normalize=True) * 100).reset_index()\n",
        "cluster_percentage.columns = ['Cluster', 'Percentage']\n",
        "cluster_percentage.sort_values(by='Cluster', inplace=True)\n",
        "\n",
        "# Create a horizontal bar plot\n",
        "plt.figure(figsize=(10, 4))\n",
        "sns.barplot(x='Percentage', y='Cluster', data=cluster_percentage, orient='h')\n",
        "\n",
        "# Adding percentages on the bars\n",
        "for index, value in enumerate(cluster_percentage['Percentage']):\n",
        "    plt.text(value+0.5, index, f'{value:.2f}%')\n",
        "\n",
        "plt.title('Distribution of Customers Across Clusters', fontsize=14)\n",
        "plt.xticks(ticks=np.arange(0, 50, 5))\n",
        "plt.xlabel('Percentage (%)')\n",
        "\n",
        "# Show the plot\n",
        "plt.show()"
      ],
      "metadata": {
        "id": "3xnB7XD7sSiL"
      },
      "execution_count": null,
      "outputs": [],
      "id": "3xnB7XD7sSiL"
    },
    {
      "cell_type": "code",
      "source": [
        "stats_por_cluster = df_parking_1.drop('geometria', axis=1).groupby('cluster').mean()\n",
        "\n",
        "stats_por_cluster"
      ],
      "metadata": {
        "id": "mQj0GvvnsSiL"
      },
      "execution_count": null,
      "outputs": [],
      "id": "mQj0GvvnsSiL"
    },
    {
      "cell_type": "code",
      "source": [
        "import plotly.express as px\n",
        "\n",
        "import geopandas as gpd\n",
        "from shapely import wkt\n",
        "\n",
        "# 1. Convertir columna de geometría (WKT -> Point)\n",
        "#df_parking_1['geometria'] = df_parking_1['geometria'].apply(wkt.loads)\n",
        "\n",
        "# 2. Crear GeoDataFrame con CRS EPSG:25830\n",
        "gdf = gpd.GeoDataFrame(df_parking_1, geometry='geometria', crs='EPSG:25830')\n",
        "\n",
        "# 3. Reproyectar a EPSG:4326 (lat/lon)\n",
        "gdf = gdf.to_crs(epsg=4326)\n",
        "\n",
        "# 4. Extraer latitud y longitud\n",
        "gdf['latitud'] = gdf.geometry.y\n",
        "gdf['longitud'] = gdf.geometry.x\n",
        "\n",
        "# Convertir cluster a string para usar color_discrete_map\n",
        "gdf['cluster_str'] = gdf['cluster'].astype(str)\n",
        "\n",
        "color_discrete_map = {\n",
        "    \"0\": \"green\",\n",
        "    \"1\": \"orange\",\n",
        "    \"2\" : \"red\"\n",
        "}\n",
        "\n",
        "fig = px.scatter_mapbox(\n",
        "    gdf,\n",
        "    lat=\"latitud\",\n",
        "    lon=\"longitud\",\n",
        "    color=\"cluster_str\",  # Usar la columna de strings\n",
        "    zoom=11,\n",
        "    height=600,\n",
        "    mapbox_style=\"carto-positron\",\n",
        "    hover_data={\n",
        "        \"media_ocupacion\": True,\n",
        "        \"numero_plazas\": True\n",
        "    },\n",
        "    color_discrete_map=color_discrete_map\n",
        ")\n",
        "\n",
        "# Reducir tamaño de los puntos\n",
        "fig.update_traces(marker=dict(size=4))\n",
        "\n",
        "fig.update_layout(title=\"Clusters de Zonas de Aparcamiento\")\n",
        "fig.show()\n"
      ],
      "metadata": {
        "id": "4rU50fcqsSiM"
      },
      "execution_count": null,
      "outputs": [],
      "id": "4rU50fcqsSiM"
    },
    {
      "cell_type": "markdown",
      "source": [
        "Vemos que muchas de esas zonas verdes se recuperan por la tarde al disminuir el tráfico."
      ],
      "metadata": {
        "id": "S_P31kVTtLMk"
      },
      "id": "S_P31kVTtLMk"
    },
    {
      "cell_type": "code",
      "source": [
        "import joblib\n",
        "\n",
        "# Guardar el modelo\n",
        "joblib.dump(kmeans, 'kmeans_tarde_entre_semana.pkl')"
      ],
      "metadata": {
        "id": "X-qoUi4LsSiM"
      },
      "execution_count": null,
      "outputs": [],
      "id": "X-qoUi4LsSiM"
    },
    {
      "cell_type": "markdown",
      "source": [
        "Clustering para un día entre semana por la noche"
      ],
      "metadata": {
        "id": "4b1ejZkVxwBr"
      },
      "id": "4b1ejZkVxwBr"
    },
    {
      "cell_type": "code",
      "source": [
        "df_parking_1 = df_parking_scaled[(df_parking_scaled['int_tiempo'] == 3) & (df_parking_scaled['fin_de_semana'] == 0)]\n",
        "df_parking_1_ok = df_parking_1[['media_minutos', 'num_registros', 'numero_plazas','color','bateria_linea','log_ratio_intensidad_por_nplazas','media_ocupacion']]"
      ],
      "metadata": {
        "id": "G2aXd-pWx6dD"
      },
      "execution_count": null,
      "outputs": [],
      "id": "G2aXd-pWx6dD"
    },
    {
      "cell_type": "code",
      "source": [
        "# Creating a PCA object with 6 components\n",
        "pca = PCA(n_components=4)\n",
        "\n",
        "# Fitting and transforming the original data to the new PCA dataframe\n",
        "df_parking_pca = pca.fit_transform(df_parking_1_ok)\n",
        "\n",
        "# Creating a new dataframe from the PCA dataframe, with columns labeled PC1, PC2, etc.\n",
        "df_parking_pca = pd.DataFrame(df_parking_pca, columns=['PC'+str(i+1) for i in range(pca.n_components_)])\n",
        "\n",
        "# Adding the CustomerID index back to the new PCA dataframe\n",
        "df_parking_pca.index = df_parking_1.index"
      ],
      "metadata": {
        "id": "wfjUnKe8x6dE"
      },
      "execution_count": null,
      "outputs": [],
      "id": "wfjUnKe8x6dE"
    },
    {
      "cell_type": "code",
      "source": [
        "import matplotlib.pyplot as plt\n",
        "from sklearn.cluster import KMeans\n",
        "from sklearn.metrics import silhouette_score\n",
        "import numpy as np\n",
        "\n",
        "# Solo columnas numéricas\n",
        "X = df_parking_pca.select_dtypes(include=[np.number])\n",
        "\n",
        "# Rango de k a probar\n",
        "k_values = range(2, 8)\n",
        "inertias = []\n",
        "silhouettes = []\n",
        "\n",
        "for k in k_values:\n",
        "    kmeans = KMeans(n_clusters=k, n_init='auto', random_state=42)\n",
        "    labels = kmeans.fit_predict(X)\n",
        "    inertias.append(kmeans.inertia_)\n",
        "    silhouettes.append(silhouette_score(X, labels))\n",
        "\n",
        "# Elegir mejor k según silhouette\n",
        "best_k_silhouette = k_values[np.argmax(silhouettes)]\n",
        "\n",
        "# --------- Gráfico 1: Elbow (Inercia) ----------\n",
        "plt.figure(figsize=(8, 4))\n",
        "plt.plot(k_values, inertias, marker='o', color='darkorange')\n",
        "plt.xlabel('Número de clusters (k)')\n",
        "plt.ylabel('Inercia')\n",
        "plt.title('Método del codo (Elbow)')\n",
        "plt.grid(True)\n",
        "plt.tight_layout()\n",
        "plt.show()\n",
        "\n",
        "# --------- Gráfico 2: Silhouette ----------\n",
        "plt.figure(figsize=(8, 4))\n",
        "plt.plot(k_values, silhouettes, marker='s', linestyle='--', color='teal')\n",
        "plt.xlabel('Número de clusters (k)')\n",
        "plt.ylabel('Silhouette Score')\n",
        "plt.title('Silhouette Score por número de clusters')\n",
        "plt.grid(True)\n",
        "plt.tight_layout()\n",
        "plt.show()\n",
        "\n",
        "# --------- Resultado óptimo ----------\n",
        "print(f'✅ Mejor k según silhouette score: {best_k_silhouette} (score = {max(silhouettes):.3f})')\n"
      ],
      "metadata": {
        "id": "1WSo0lWCx6dE"
      },
      "execution_count": null,
      "outputs": [],
      "id": "1WSo0lWCx6dE"
    },
    {
      "cell_type": "code",
      "source": [
        "from sklearn.metrics import silhouette_score, calinski_harabasz_score, davies_bouldin_score\n",
        "from sklearn.cluster import KMeans\n",
        "from tabulate import tabulate\n",
        "from collections import Counter\n",
        "\n",
        "# Apply KMeans clustering using the optimal k\n",
        "kmeans = KMeans(n_clusters=3, init='k-means++', n_init=10, max_iter=100, random_state=0)\n",
        "kmeans.fit(df_parking_pca)\n",
        "\n",
        "# Get the frequency of each cluster\n",
        "cluster_frequencies = Counter(kmeans.labels_)\n",
        "\n",
        "# Append the new cluster labels back to the original dataset\n",
        "df_parking_1['cluster'] = kmeans.labels_\n",
        "# Append the new cluster labels to the PCA version of the dataset\n",
        "df_parking_pca['cluster'] = kmeans.labels_"
      ],
      "metadata": {
        "id": "DX3lF-JFx6dE"
      },
      "execution_count": null,
      "outputs": [],
      "id": "DX3lF-JFx6dE"
    },
    {
      "cell_type": "code",
      "source": [
        "# Calculate the percentage of customers in each cluster\n",
        "cluster_percentage = (df_parking_pca['cluster'].value_counts(normalize=True) * 100).reset_index()\n",
        "cluster_percentage.columns = ['Cluster', 'Percentage']\n",
        "cluster_percentage.sort_values(by='Cluster', inplace=True)\n",
        "\n",
        "# Create a horizontal bar plot\n",
        "plt.figure(figsize=(10, 4))\n",
        "sns.barplot(x='Percentage', y='Cluster', data=cluster_percentage, orient='h')\n",
        "\n",
        "# Adding percentages on the bars\n",
        "for index, value in enumerate(cluster_percentage['Percentage']):\n",
        "    plt.text(value+0.5, index, f'{value:.2f}%')\n",
        "\n",
        "plt.title('Distribution of Customers Across Clusters', fontsize=14)\n",
        "plt.xticks(ticks=np.arange(0, 50, 5))\n",
        "plt.xlabel('Percentage (%)')\n",
        "\n",
        "# Show the plot\n",
        "plt.show()"
      ],
      "metadata": {
        "id": "ahHiVx2zx6dE"
      },
      "execution_count": null,
      "outputs": [],
      "id": "ahHiVx2zx6dE"
    },
    {
      "cell_type": "code",
      "source": [
        "stats_por_cluster = df_parking_1.drop('geometria', axis=1).groupby('cluster').mean()\n",
        "\n",
        "stats_por_cluster"
      ],
      "metadata": {
        "id": "D-v2VG4tx6dF"
      },
      "execution_count": null,
      "outputs": [],
      "id": "D-v2VG4tx6dF"
    },
    {
      "cell_type": "code",
      "source": [
        "import plotly.express as px\n",
        "\n",
        "import geopandas as gpd\n",
        "from shapely import wkt\n",
        "\n",
        "# 1. Convertir columna de geometría (WKT -> Point)\n",
        "#df_parking_1['geometria'] = df_parking_1['geometria'].apply(wkt.loads)\n",
        "\n",
        "# 2. Crear GeoDataFrame con CRS EPSG:25830\n",
        "gdf = gpd.GeoDataFrame(df_parking_1, geometry='geometria', crs='EPSG:25830')\n",
        "\n",
        "# 3. Reproyectar a EPSG:4326 (lat/lon)\n",
        "gdf = gdf.to_crs(epsg=4326)\n",
        "\n",
        "# 4. Extraer latitud y longitud\n",
        "gdf['latitud'] = gdf.geometry.y\n",
        "gdf['longitud'] = gdf.geometry.x\n",
        "\n",
        "# Convertir cluster a string para usar color_discrete_map\n",
        "gdf['cluster_str'] = gdf['cluster'].astype(str)\n",
        "\n",
        "color_discrete_map = {\n",
        "    \"0\": \"green\",\n",
        "    \"1\": \"orange\",\n",
        "    \"2\" : \"red\"\n",
        "}\n",
        "\n",
        "fig = px.scatter_mapbox(\n",
        "    gdf,\n",
        "    lat=\"latitud\",\n",
        "    lon=\"longitud\",\n",
        "    color=\"cluster_str\",  # Usar la columna de strings\n",
        "    zoom=11,\n",
        "    height=600,\n",
        "    mapbox_style=\"carto-positron\",\n",
        "    hover_data={\n",
        "        \"media_ocupacion\": True,\n",
        "        \"numero_plazas\": True\n",
        "    },\n",
        "    color_discrete_map=color_discrete_map\n",
        ")\n",
        "\n",
        "# Reducir tamaño de los puntos\n",
        "fig.update_traces(marker=dict(size=4))\n",
        "\n",
        "fig.update_layout(title=\"Clusters de Zonas de Aparcamiento\")\n",
        "fig.show()\n"
      ],
      "metadata": {
        "id": "eOFFPuorx6dF"
      },
      "execution_count": null,
      "outputs": [],
      "id": "eOFFPuorx6dF"
    },
    {
      "cell_type": "markdown",
      "source": [
        "Vemos que muchas de esas zonas verdes se recuperan por la tarde al disminuir el tráfico."
      ],
      "metadata": {
        "id": "IHgn2WpXx6dF"
      },
      "id": "IHgn2WpXx6dF"
    },
    {
      "cell_type": "code",
      "source": [
        "import joblib\n",
        "\n",
        "# Guardar el modelo\n",
        "joblib.dump(kmeans, 'kmeans_tarde_entre_semana.pkl')"
      ],
      "metadata": {
        "id": "doteEQWix6dF"
      },
      "execution_count": null,
      "outputs": [],
      "id": "doteEQWix6dF"
    },
    {
      "cell_type": "markdown",
      "source": [
        "Fin de semana por la mañana"
      ],
      "metadata": {
        "id": "gqKsc8NLx6dF"
      },
      "id": "gqKsc8NLx6dF"
    },
    {
      "cell_type": "code",
      "source": [
        "df_parking_1 = df_parking_scaled[(df_parking_scaled['int_tiempo'] == 0) & (df_parking_scaled['fin_de_semana'] == 1)]\n",
        "df_parking_1_ok = df_parking_1[['media_minutos', 'num_registros', 'numero_plazas','color','bateria_linea','log_ratio_intensidad_por_nplazas','media_ocupacion']]"
      ],
      "metadata": {
        "id": "7jWi-1tjywec"
      },
      "execution_count": null,
      "outputs": [],
      "id": "7jWi-1tjywec"
    },
    {
      "cell_type": "code",
      "source": [
        "# Creating a PCA object with 6 components\n",
        "pca = PCA(n_components=4)\n",
        "\n",
        "# Fitting and transforming the original data to the new PCA dataframe\n",
        "df_parking_pca = pca.fit_transform(df_parking_1_ok)\n",
        "\n",
        "# Creating a new dataframe from the PCA dataframe, with columns labeled PC1, PC2, etc.\n",
        "df_parking_pca = pd.DataFrame(df_parking_pca, columns=['PC'+str(i+1) for i in range(pca.n_components_)])\n",
        "\n",
        "# Adding the CustomerID index back to the new PCA dataframe\n",
        "df_parking_pca.index = df_parking_1.index"
      ],
      "metadata": {
        "id": "0B9jXR3Qywed"
      },
      "execution_count": null,
      "outputs": [],
      "id": "0B9jXR3Qywed"
    },
    {
      "cell_type": "code",
      "source": [
        "import matplotlib.pyplot as plt\n",
        "from sklearn.cluster import KMeans\n",
        "from sklearn.metrics import silhouette_score\n",
        "import numpy as np\n",
        "\n",
        "# Solo columnas numéricas\n",
        "X = df_parking_pca.select_dtypes(include=[np.number])\n",
        "\n",
        "# Rango de k a probar\n",
        "k_values = range(2, 8)\n",
        "inertias = []\n",
        "silhouettes = []\n",
        "\n",
        "for k in k_values:\n",
        "    kmeans = KMeans(n_clusters=k, n_init='auto', random_state=42)\n",
        "    labels = kmeans.fit_predict(X)\n",
        "    inertias.append(kmeans.inertia_)\n",
        "    silhouettes.append(silhouette_score(X, labels))\n",
        "\n",
        "# Elegir mejor k según silhouette\n",
        "best_k_silhouette = k_values[np.argmax(silhouettes)]\n",
        "\n",
        "# --------- Gráfico 1: Elbow (Inercia) ----------\n",
        "plt.figure(figsize=(8, 4))\n",
        "plt.plot(k_values, inertias, marker='o', color='darkorange')\n",
        "plt.xlabel('Número de clusters (k)')\n",
        "plt.ylabel('Inercia')\n",
        "plt.title('Método del codo (Elbow)')\n",
        "plt.grid(True)\n",
        "plt.tight_layout()\n",
        "plt.show()\n",
        "\n",
        "# --------- Gráfico 2: Silhouette ----------\n",
        "plt.figure(figsize=(8, 4))\n",
        "plt.plot(k_values, silhouettes, marker='s', linestyle='--', color='teal')\n",
        "plt.xlabel('Número de clusters (k)')\n",
        "plt.ylabel('Silhouette Score')\n",
        "plt.title('Silhouette Score por número de clusters')\n",
        "plt.grid(True)\n",
        "plt.tight_layout()\n",
        "plt.show()\n",
        "\n",
        "# --------- Resultado óptimo ----------\n",
        "print(f'✅ Mejor k según silhouette score: {best_k_silhouette} (score = {max(silhouettes):.3f})')\n"
      ],
      "metadata": {
        "id": "j7SHBwVLywed"
      },
      "execution_count": null,
      "outputs": [],
      "id": "j7SHBwVLywed"
    },
    {
      "cell_type": "code",
      "source": [
        "from sklearn.metrics import silhouette_score, calinski_harabasz_score, davies_bouldin_score\n",
        "from sklearn.cluster import KMeans\n",
        "from tabulate import tabulate\n",
        "from collections import Counter\n",
        "\n",
        "# Apply KMeans clustering using the optimal k\n",
        "kmeans = KMeans(n_clusters=3, init='k-means++', n_init=10, max_iter=100, random_state=0)\n",
        "kmeans.fit(df_parking_pca)\n",
        "\n",
        "# Get the frequency of each cluster\n",
        "cluster_frequencies = Counter(kmeans.labels_)\n",
        "\n",
        "# Append the new cluster labels back to the original dataset\n",
        "df_parking_1['cluster'] = kmeans.labels_\n",
        "# Append the new cluster labels to the PCA version of the dataset\n",
        "df_parking_pca['cluster'] = kmeans.labels_"
      ],
      "metadata": {
        "id": "-92xycplywed"
      },
      "execution_count": null,
      "outputs": [],
      "id": "-92xycplywed"
    },
    {
      "cell_type": "code",
      "source": [
        "# Calculate the percentage of customers in each cluster\n",
        "cluster_percentage = (df_parking_pca['cluster'].value_counts(normalize=True) * 100).reset_index()\n",
        "cluster_percentage.columns = ['Cluster', 'Percentage']\n",
        "cluster_percentage.sort_values(by='Cluster', inplace=True)\n",
        "\n",
        "# Create a horizontal bar plot\n",
        "plt.figure(figsize=(10, 4))\n",
        "sns.barplot(x='Percentage', y='Cluster', data=cluster_percentage, orient='h')\n",
        "\n",
        "# Adding percentages on the bars\n",
        "for index, value in enumerate(cluster_percentage['Percentage']):\n",
        "    plt.text(value+0.5, index, f'{value:.2f}%')\n",
        "\n",
        "plt.title('Distribution of Customers Across Clusters', fontsize=14)\n",
        "plt.xticks(ticks=np.arange(0, 50, 5))\n",
        "plt.xlabel('Percentage (%)')\n",
        "\n",
        "# Show the plot\n",
        "plt.show()"
      ],
      "metadata": {
        "id": "D7SmWZZGywed"
      },
      "execution_count": null,
      "outputs": [],
      "id": "D7SmWZZGywed"
    },
    {
      "cell_type": "code",
      "source": [
        "stats_por_cluster = df_parking_1.drop('geometria', axis=1).groupby('cluster').mean()\n",
        "\n",
        "stats_por_cluster"
      ],
      "metadata": {
        "id": "1KIkGTupywed"
      },
      "execution_count": null,
      "outputs": [],
      "id": "1KIkGTupywed"
    },
    {
      "cell_type": "code",
      "source": [
        "import plotly.express as px\n",
        "\n",
        "import geopandas as gpd\n",
        "from shapely import wkt\n",
        "\n",
        "# 1. Convertir columna de geometría (WKT -> Point)\n",
        "#df_parking_1['geometria'] = df_parking_1['geometria'].apply(wkt.loads)\n",
        "\n",
        "# 2. Crear GeoDataFrame con CRS EPSG:25830\n",
        "gdf = gpd.GeoDataFrame(df_parking_1, geometry='geometria', crs='EPSG:25830')\n",
        "\n",
        "# 3. Reproyectar a EPSG:4326 (lat/lon)\n",
        "gdf = gdf.to_crs(epsg=4326)\n",
        "\n",
        "# 4. Extraer latitud y longitud\n",
        "gdf['latitud'] = gdf.geometry.y\n",
        "gdf['longitud'] = gdf.geometry.x\n",
        "\n",
        "# Convertir cluster a string para usar color_discrete_map\n",
        "gdf['cluster_str'] = gdf['cluster'].astype(str)\n",
        "\n",
        "color_discrete_map = {\n",
        "    \"0\": \"green\",\n",
        "    \"1\": \"orange\",\n",
        "    \"2\" : \"red\"\n",
        "}\n",
        "\n",
        "fig = px.scatter_mapbox(\n",
        "    gdf,\n",
        "    lat=\"latitud\",\n",
        "    lon=\"longitud\",\n",
        "    color=\"cluster_str\",  # Usar la columna de strings\n",
        "    zoom=11,\n",
        "    height=600,\n",
        "    mapbox_style=\"carto-positron\",\n",
        "    hover_data={\n",
        "        \"media_ocupacion\": True,\n",
        "        \"numero_plazas\": True\n",
        "    },\n",
        "    color_discrete_map=color_discrete_map\n",
        ")\n",
        "\n",
        "# Reducir tamaño de los puntos\n",
        "fig.update_traces(marker=dict(size=4))\n",
        "\n",
        "fig.update_layout(title=\"Clusters de Zonas de Aparcamiento\")\n",
        "fig.show()\n"
      ],
      "metadata": {
        "id": "w_R7Ygyuywee"
      },
      "execution_count": null,
      "outputs": [],
      "id": "w_R7Ygyuywee"
    },
    {
      "cell_type": "markdown",
      "source": [
        "Vemos que muchas de esas zonas verdes se recuperan por la tarde al disminuir el tráfico."
      ],
      "metadata": {
        "id": "AQyIsHBpywee"
      },
      "id": "AQyIsHBpywee"
    },
    {
      "cell_type": "code",
      "source": [
        "import joblib\n",
        "\n",
        "# Guardar el modelo\n",
        "joblib.dump(kmeans, 'kmeans_tarde_entre_semana.pkl')"
      ],
      "metadata": {
        "id": "A47vPPayywee"
      },
      "execution_count": null,
      "outputs": [],
      "id": "A47vPPayywee"
    },
    {
      "cell_type": "markdown",
      "source": [
        "Estudio clustering fin de semana medio día"
      ],
      "metadata": {
        "id": "Oe_9iSLn1c6Y"
      },
      "id": "Oe_9iSLn1c6Y"
    },
    {
      "cell_type": "code",
      "source": [
        "df_parking_1 = df_parking_scaled[(df_parking_scaled['int_tiempo'] == 1) & (df_parking_scaled['fin_de_semana'] == 1)]\n",
        "df_parking_1_ok = df_parking_1[['media_minutos', 'num_registros', 'numero_plazas','color','bateria_linea','log_ratio_intensidad_por_nplazas','media_ocupacion']]"
      ],
      "metadata": {
        "id": "Wv2v6mVP1bDI"
      },
      "execution_count": null,
      "outputs": [],
      "id": "Wv2v6mVP1bDI"
    },
    {
      "cell_type": "code",
      "source": [
        "# Creating a PCA object with 6 components\n",
        "pca = PCA(n_components=4)\n",
        "\n",
        "# Fitting and transforming the original data to the new PCA dataframe\n",
        "df_parking_pca = pca.fit_transform(df_parking_1_ok)\n",
        "\n",
        "# Creating a new dataframe from the PCA dataframe, with columns labeled PC1, PC2, etc.\n",
        "df_parking_pca = pd.DataFrame(df_parking_pca, columns=['PC'+str(i+1) for i in range(pca.n_components_)])\n",
        "\n",
        "# Adding the CustomerID index back to the new PCA dataframe\n",
        "df_parking_pca.index = df_parking_1.index"
      ],
      "metadata": {
        "id": "eXljPNKR1bDI"
      },
      "execution_count": null,
      "outputs": [],
      "id": "eXljPNKR1bDI"
    },
    {
      "cell_type": "code",
      "source": [
        "import matplotlib.pyplot as plt\n",
        "from sklearn.cluster import KMeans\n",
        "from sklearn.metrics import silhouette_score\n",
        "import numpy as np\n",
        "\n",
        "# Solo columnas numéricas\n",
        "X = df_parking_pca.select_dtypes(include=[np.number])\n",
        "\n",
        "# Rango de k a probar\n",
        "k_values = range(2, 8)\n",
        "inertias = []\n",
        "silhouettes = []\n",
        "\n",
        "for k in k_values:\n",
        "    kmeans = KMeans(n_clusters=k, n_init='auto', random_state=42)\n",
        "    labels = kmeans.fit_predict(X)\n",
        "    inertias.append(kmeans.inertia_)\n",
        "    silhouettes.append(silhouette_score(X, labels))\n",
        "\n",
        "# Elegir mejor k según silhouette\n",
        "best_k_silhouette = k_values[np.argmax(silhouettes)]\n",
        "\n",
        "# --------- Gráfico 1: Elbow (Inercia) ----------\n",
        "plt.figure(figsize=(8, 4))\n",
        "plt.plot(k_values, inertias, marker='o', color='darkorange')\n",
        "plt.xlabel('Número de clusters (k)')\n",
        "plt.ylabel('Inercia')\n",
        "plt.title('Método del codo (Elbow)')\n",
        "plt.grid(True)\n",
        "plt.tight_layout()\n",
        "plt.show()\n",
        "\n",
        "# --------- Gráfico 2: Silhouette ----------\n",
        "plt.figure(figsize=(8, 4))\n",
        "plt.plot(k_values, silhouettes, marker='s', linestyle='--', color='teal')\n",
        "plt.xlabel('Número de clusters (k)')\n",
        "plt.ylabel('Silhouette Score')\n",
        "plt.title('Silhouette Score por número de clusters')\n",
        "plt.grid(True)\n",
        "plt.tight_layout()\n",
        "plt.show()\n",
        "\n",
        "# --------- Resultado óptimo ----------\n",
        "print(f'✅ Mejor k según silhouette score: {best_k_silhouette} (score = {max(silhouettes):.3f})')\n"
      ],
      "metadata": {
        "id": "R-85IbK71bDJ"
      },
      "execution_count": null,
      "outputs": [],
      "id": "R-85IbK71bDJ"
    },
    {
      "cell_type": "code",
      "source": [
        "from sklearn.metrics import silhouette_score, calinski_harabasz_score, davies_bouldin_score\n",
        "from sklearn.cluster import KMeans\n",
        "from tabulate import tabulate\n",
        "from collections import Counter\n",
        "\n",
        "# Apply KMeans clustering using the optimal k\n",
        "kmeans = KMeans(n_clusters=3, init='k-means++', n_init=10, max_iter=100, random_state=0)\n",
        "kmeans.fit(df_parking_pca)\n",
        "\n",
        "# Get the frequency of each cluster\n",
        "cluster_frequencies = Counter(kmeans.labels_)\n",
        "\n",
        "# Append the new cluster labels back to the original dataset\n",
        "df_parking_1['cluster'] = kmeans.labels_\n",
        "# Append the new cluster labels to the PCA version of the dataset\n",
        "df_parking_pca['cluster'] = kmeans.labels_"
      ],
      "metadata": {
        "id": "Y0PK4EsX1bDJ"
      },
      "execution_count": null,
      "outputs": [],
      "id": "Y0PK4EsX1bDJ"
    },
    {
      "cell_type": "code",
      "source": [
        "# Calculate the percentage of customers in each cluster\n",
        "cluster_percentage = (df_parking_pca['cluster'].value_counts(normalize=True) * 100).reset_index()\n",
        "cluster_percentage.columns = ['Cluster', 'Percentage']\n",
        "cluster_percentage.sort_values(by='Cluster', inplace=True)\n",
        "\n",
        "# Create a horizontal bar plot\n",
        "plt.figure(figsize=(10, 4))\n",
        "sns.barplot(x='Percentage', y='Cluster', data=cluster_percentage, orient='h')\n",
        "\n",
        "# Adding percentages on the bars\n",
        "for index, value in enumerate(cluster_percentage['Percentage']):\n",
        "    plt.text(value+0.5, index, f'{value:.2f}%')\n",
        "\n",
        "plt.title('Distribution of Customers Across Clusters', fontsize=14)\n",
        "plt.xticks(ticks=np.arange(0, 50, 5))\n",
        "plt.xlabel('Percentage (%)')\n",
        "\n",
        "# Show the plot\n",
        "plt.show()"
      ],
      "metadata": {
        "id": "aWOTXuoB1bDJ"
      },
      "execution_count": null,
      "outputs": [],
      "id": "aWOTXuoB1bDJ"
    },
    {
      "cell_type": "code",
      "source": [
        "stats_por_cluster = df_parking_1.drop('geometria', axis=1).groupby('cluster').mean()\n",
        "\n",
        "stats_por_cluster"
      ],
      "metadata": {
        "id": "20ndvgL31bDJ"
      },
      "execution_count": null,
      "outputs": [],
      "id": "20ndvgL31bDJ"
    },
    {
      "cell_type": "code",
      "source": [
        "import plotly.express as px\n",
        "\n",
        "import geopandas as gpd\n",
        "from shapely import wkt\n",
        "\n",
        "# 1. Convertir columna de geometría (WKT -> Point)\n",
        "#df_parking_1['geometria'] = df_parking_1['geometria'].apply(wkt.loads)\n",
        "\n",
        "# 2. Crear GeoDataFrame con CRS EPSG:25830\n",
        "gdf = gpd.GeoDataFrame(df_parking_1, geometry='geometria', crs='EPSG:25830')\n",
        "\n",
        "# 3. Reproyectar a EPSG:4326 (lat/lon)\n",
        "gdf = gdf.to_crs(epsg=4326)\n",
        "\n",
        "# 4. Extraer latitud y longitud\n",
        "gdf['latitud'] = gdf.geometry.y\n",
        "gdf['longitud'] = gdf.geometry.x\n",
        "\n",
        "# Convertir cluster a string para usar color_discrete_map\n",
        "gdf['cluster_str'] = gdf['cluster'].astype(str)\n",
        "\n",
        "color_discrete_map = {\n",
        "    \"0\": \"green\",\n",
        "    \"1\": \"orange\",\n",
        "    \"2\" : \"red\"\n",
        "}\n",
        "\n",
        "fig = px.scatter_mapbox(\n",
        "    gdf,\n",
        "    lat=\"latitud\",\n",
        "    lon=\"longitud\",\n",
        "    color=\"cluster_str\",  # Usar la columna de strings\n",
        "    zoom=11,\n",
        "    height=600,\n",
        "    mapbox_style=\"carto-positron\",\n",
        "    hover_data={\n",
        "        \"media_ocupacion\": True,\n",
        "        \"numero_plazas\": True\n",
        "    },\n",
        "    color_discrete_map=color_discrete_map\n",
        ")\n",
        "\n",
        "# Reducir tamaño de los puntos\n",
        "fig.update_traces(marker=dict(size=4))\n",
        "\n",
        "fig.update_layout(title=\"Clusters de Zonas de Aparcamiento\")\n",
        "fig.show()\n"
      ],
      "metadata": {
        "id": "T-TRUPCA1bDK"
      },
      "execution_count": null,
      "outputs": [],
      "id": "T-TRUPCA1bDK"
    },
    {
      "cell_type": "markdown",
      "source": [
        "Vemos que muchas de esas zonas verdes se recuperan por la tarde al disminuir el tráfico."
      ],
      "metadata": {
        "id": "emzU51XD1bDK"
      },
      "id": "emzU51XD1bDK"
    },
    {
      "cell_type": "code",
      "source": [
        "import joblib\n",
        "\n",
        "# Guardar el modelo\n",
        "joblib.dump(kmeans, 'kmeans_tarde_entre_semana.pkl')"
      ],
      "metadata": {
        "id": "XuA5Dth21bDK"
      },
      "execution_count": null,
      "outputs": [],
      "id": "XuA5Dth21bDK"
    },
    {
      "cell_type": "markdown",
      "source": [
        "Clustering de zonas SER un fin de semana por la tarde"
      ],
      "metadata": {
        "id": "aNr9NCh62TM_"
      },
      "id": "aNr9NCh62TM_"
    },
    {
      "cell_type": "code",
      "source": [
        "df_parking_1 = df_parking_scaled[(df_parking_scaled['int_tiempo'] == 2) & (df_parking_scaled['fin_de_semana'] == 1)]\n",
        "df_parking_1_ok = df_parking_1[['media_minutos', 'num_registros', 'numero_plazas','color','bateria_linea','log_ratio_intensidad_por_nplazas','media_ocupacion']]"
      ],
      "metadata": {
        "id": "GQogPDBa2XVF"
      },
      "execution_count": null,
      "outputs": [],
      "id": "GQogPDBa2XVF"
    },
    {
      "cell_type": "code",
      "source": [
        "# Creating a PCA object with 6 components\n",
        "pca = PCA(n_components=4)\n",
        "\n",
        "# Fitting and transforming the original data to the new PCA dataframe\n",
        "df_parking_pca = pca.fit_transform(df_parking_1_ok)\n",
        "\n",
        "# Creating a new dataframe from the PCA dataframe, with columns labeled PC1, PC2, etc.\n",
        "df_parking_pca = pd.DataFrame(df_parking_pca, columns=['PC'+str(i+1) for i in range(pca.n_components_)])\n",
        "\n",
        "# Adding the CustomerID index back to the new PCA dataframe\n",
        "df_parking_pca.index = df_parking_1.index"
      ],
      "metadata": {
        "id": "hmIcZ_f82XVF"
      },
      "execution_count": null,
      "outputs": [],
      "id": "hmIcZ_f82XVF"
    },
    {
      "cell_type": "code",
      "source": [
        "import matplotlib.pyplot as plt\n",
        "from sklearn.cluster import KMeans\n",
        "from sklearn.metrics import silhouette_score\n",
        "import numpy as np\n",
        "\n",
        "# Solo columnas numéricas\n",
        "X = df_parking_pca.select_dtypes(include=[np.number])\n",
        "\n",
        "# Rango de k a probar\n",
        "k_values = range(2, 8)\n",
        "inertias = []\n",
        "silhouettes = []\n",
        "\n",
        "for k in k_values:\n",
        "    kmeans = KMeans(n_clusters=k, n_init='auto', random_state=42)\n",
        "    labels = kmeans.fit_predict(X)\n",
        "    inertias.append(kmeans.inertia_)\n",
        "    silhouettes.append(silhouette_score(X, labels))\n",
        "\n",
        "# Elegir mejor k según silhouette\n",
        "best_k_silhouette = k_values[np.argmax(silhouettes)]\n",
        "\n",
        "# --------- Gráfico 1: Elbow (Inercia) ----------\n",
        "plt.figure(figsize=(8, 4))\n",
        "plt.plot(k_values, inertias, marker='o', color='darkorange')\n",
        "plt.xlabel('Número de clusters (k)')\n",
        "plt.ylabel('Inercia')\n",
        "plt.title('Método del codo (Elbow)')\n",
        "plt.grid(True)\n",
        "plt.tight_layout()\n",
        "plt.show()\n",
        "\n",
        "# --------- Gráfico 2: Silhouette ----------\n",
        "plt.figure(figsize=(8, 4))\n",
        "plt.plot(k_values, silhouettes, marker='s', linestyle='--', color='teal')\n",
        "plt.xlabel('Número de clusters (k)')\n",
        "plt.ylabel('Silhouette Score')\n",
        "plt.title('Silhouette Score por número de clusters')\n",
        "plt.grid(True)\n",
        "plt.tight_layout()\n",
        "plt.show()\n",
        "\n",
        "# --------- Resultado óptimo ----------\n",
        "print(f'✅ Mejor k según silhouette score: {best_k_silhouette} (score = {max(silhouettes):.3f})')\n"
      ],
      "metadata": {
        "id": "qU4u1g_k2XVG"
      },
      "execution_count": null,
      "outputs": [],
      "id": "qU4u1g_k2XVG"
    },
    {
      "cell_type": "code",
      "source": [
        "from sklearn.metrics import silhouette_score, calinski_harabasz_score, davies_bouldin_score\n",
        "from sklearn.cluster import KMeans\n",
        "from tabulate import tabulate\n",
        "from collections import Counter\n",
        "\n",
        "# Apply KMeans clustering using the optimal k\n",
        "kmeans = KMeans(n_clusters=3, init='k-means++', n_init=10, max_iter=100, random_state=0)\n",
        "kmeans.fit(df_parking_pca)\n",
        "\n",
        "# Get the frequency of each cluster\n",
        "cluster_frequencies = Counter(kmeans.labels_)\n",
        "\n",
        "# Append the new cluster labels back to the original dataset\n",
        "df_parking_1['cluster'] = kmeans.labels_\n",
        "# Append the new cluster labels to the PCA version of the dataset\n",
        "df_parking_pca['cluster'] = kmeans.labels_"
      ],
      "metadata": {
        "id": "5U0GGT9g2XVG"
      },
      "execution_count": null,
      "outputs": [],
      "id": "5U0GGT9g2XVG"
    },
    {
      "cell_type": "code",
      "source": [
        "# Calculate the percentage of customers in each cluster\n",
        "cluster_percentage = (df_parking_pca['cluster'].value_counts(normalize=True) * 100).reset_index()\n",
        "cluster_percentage.columns = ['Cluster', 'Percentage']\n",
        "cluster_percentage.sort_values(by='Cluster', inplace=True)\n",
        "\n",
        "# Create a horizontal bar plot\n",
        "plt.figure(figsize=(10, 4))\n",
        "sns.barplot(x='Percentage', y='Cluster', data=cluster_percentage, orient='h')\n",
        "\n",
        "# Adding percentages on the bars\n",
        "for index, value in enumerate(cluster_percentage['Percentage']):\n",
        "    plt.text(value+0.5, index, f'{value:.2f}%')\n",
        "\n",
        "plt.title('Distribution of Customers Across Clusters', fontsize=14)\n",
        "plt.xticks(ticks=np.arange(0, 50, 5))\n",
        "plt.xlabel('Percentage (%)')\n",
        "\n",
        "# Show the plot\n",
        "plt.show()"
      ],
      "metadata": {
        "id": "ez5G1oci2XVG"
      },
      "execution_count": null,
      "outputs": [],
      "id": "ez5G1oci2XVG"
    },
    {
      "cell_type": "code",
      "source": [
        "stats_por_cluster = df_parking_1.drop('geometria', axis=1).groupby('cluster').mean()\n",
        "\n",
        "stats_por_cluster"
      ],
      "metadata": {
        "id": "EYHq_MNj2XVG"
      },
      "execution_count": null,
      "outputs": [],
      "id": "EYHq_MNj2XVG"
    },
    {
      "cell_type": "code",
      "source": [
        "import plotly.express as px\n",
        "\n",
        "import geopandas as gpd\n",
        "from shapely import wkt\n",
        "\n",
        "# 1. Convertir columna de geometría (WKT -> Point)\n",
        "#df_parking_1['geometria'] = df_parking_1['geometria'].apply(wkt.loads)\n",
        "\n",
        "# 2. Crear GeoDataFrame con CRS EPSG:25830\n",
        "gdf = gpd.GeoDataFrame(df_parking_1, geometry='geometria', crs='EPSG:25830')\n",
        "\n",
        "# 3. Reproyectar a EPSG:4326 (lat/lon)\n",
        "gdf = gdf.to_crs(epsg=4326)\n",
        "\n",
        "# 4. Extraer latitud y longitud\n",
        "gdf['latitud'] = gdf.geometry.y\n",
        "gdf['longitud'] = gdf.geometry.x\n",
        "\n",
        "# Convertir cluster a string para usar color_discrete_map\n",
        "gdf['cluster_str'] = gdf['cluster'].astype(str)\n",
        "\n",
        "color_discrete_map = {\n",
        "    \"0\": \"green\",\n",
        "    \"1\": \"orange\",\n",
        "    \"2\" : \"red\"\n",
        "}\n",
        "\n",
        "fig = px.scatter_mapbox(\n",
        "    gdf,\n",
        "    lat=\"latitud\",\n",
        "    lon=\"longitud\",\n",
        "    color=\"cluster_str\",  # Usar la columna de strings\n",
        "    zoom=11,\n",
        "    height=600,\n",
        "    mapbox_style=\"carto-positron\",\n",
        "    hover_data={\n",
        "        \"media_ocupacion\": True,\n",
        "        \"numero_plazas\": True\n",
        "    },\n",
        "    color_discrete_map=color_discrete_map\n",
        ")\n",
        "\n",
        "# Reducir tamaño de los puntos\n",
        "fig.update_traces(marker=dict(size=4))\n",
        "\n",
        "fig.update_layout(title=\"Clusters de Zonas de Aparcamiento\")\n",
        "fig.show()\n"
      ],
      "metadata": {
        "id": "SfpZYmoD2XVG"
      },
      "execution_count": null,
      "outputs": [],
      "id": "SfpZYmoD2XVG"
    },
    {
      "cell_type": "markdown",
      "source": [
        "Vemos que muchas de esas zonas verdes se recuperan por la tarde al disminuir el tráfico."
      ],
      "metadata": {
        "id": "pfDH56Qj2XVG"
      },
      "id": "pfDH56Qj2XVG"
    },
    {
      "cell_type": "code",
      "source": [
        "import joblib\n",
        "\n",
        "# Guardar el modelo\n",
        "joblib.dump(kmeans, 'kmeans_tarde_entre_semana.pkl')"
      ],
      "metadata": {
        "id": "t3wSXE3s2XVH"
      },
      "execution_count": null,
      "outputs": [],
      "id": "t3wSXE3s2XVH"
    },
    {
      "cell_type": "markdown",
      "source": [
        "Clustering de zonas SER de un fin de semana por la noche"
      ],
      "metadata": {
        "id": "7kbympl62blp"
      },
      "id": "7kbympl62blp"
    },
    {
      "cell_type": "code",
      "source": [
        "df_parking_1 = df_parking_scaled[(df_parking_scaled['int_tiempo'] == 3) & (df_parking_scaled['fin_de_semana'] == 1)]\n",
        "df_parking_1_ok = df_parking_1[['media_minutos', 'num_registros', 'numero_plazas','color','bateria_linea','log_ratio_intensidad_por_nplazas','media_ocupacion']]"
      ],
      "metadata": {
        "id": "kNBpZaKU2hrc"
      },
      "execution_count": null,
      "outputs": [],
      "id": "kNBpZaKU2hrc"
    },
    {
      "cell_type": "code",
      "source": [
        "# Creating a PCA object with 6 components\n",
        "pca = PCA(n_components=4)\n",
        "\n",
        "# Fitting and transforming the original data to the new PCA dataframe\n",
        "df_parking_pca = pca.fit_transform(df_parking_1_ok)\n",
        "\n",
        "# Creating a new dataframe from the PCA dataframe, with columns labeled PC1, PC2, etc.\n",
        "df_parking_pca = pd.DataFrame(df_parking_pca, columns=['PC'+str(i+1) for i in range(pca.n_components_)])\n",
        "\n",
        "# Adding the CustomerID index back to the new PCA dataframe\n",
        "df_parking_pca.index = df_parking_1.index"
      ],
      "metadata": {
        "id": "K1LoOUVP2hrd"
      },
      "execution_count": null,
      "outputs": [],
      "id": "K1LoOUVP2hrd"
    },
    {
      "cell_type": "code",
      "source": [
        "import matplotlib.pyplot as plt\n",
        "from sklearn.cluster import KMeans\n",
        "from sklearn.metrics import silhouette_score\n",
        "import numpy as np\n",
        "\n",
        "# Solo columnas numéricas\n",
        "X = df_parking_pca.select_dtypes(include=[np.number])\n",
        "\n",
        "# Rango de k a probar\n",
        "k_values = range(2, 8)\n",
        "inertias = []\n",
        "silhouettes = []\n",
        "\n",
        "for k in k_values:\n",
        "    kmeans = KMeans(n_clusters=k, n_init='auto', random_state=42)\n",
        "    labels = kmeans.fit_predict(X)\n",
        "    inertias.append(kmeans.inertia_)\n",
        "    silhouettes.append(silhouette_score(X, labels))\n",
        "\n",
        "# Elegir mejor k según silhouette\n",
        "best_k_silhouette = k_values[np.argmax(silhouettes)]\n",
        "\n",
        "# --------- Gráfico 1: Elbow (Inercia) ----------\n",
        "plt.figure(figsize=(8, 4))\n",
        "plt.plot(k_values, inertias, marker='o', color='darkorange')\n",
        "plt.xlabel('Número de clusters (k)')\n",
        "plt.ylabel('Inercia')\n",
        "plt.title('Método del codo (Elbow)')\n",
        "plt.grid(True)\n",
        "plt.tight_layout()\n",
        "plt.show()\n",
        "\n",
        "# --------- Gráfico 2: Silhouette ----------\n",
        "plt.figure(figsize=(8, 4))\n",
        "plt.plot(k_values, silhouettes, marker='s', linestyle='--', color='teal')\n",
        "plt.xlabel('Número de clusters (k)')\n",
        "plt.ylabel('Silhouette Score')\n",
        "plt.title('Silhouette Score por número de clusters')\n",
        "plt.grid(True)\n",
        "plt.tight_layout()\n",
        "plt.show()\n",
        "\n",
        "# --------- Resultado óptimo ----------\n",
        "print(f'✅ Mejor k según silhouette score: {best_k_silhouette} (score = {max(silhouettes):.3f})')\n"
      ],
      "metadata": {
        "id": "48DzkOuA2hrd"
      },
      "execution_count": null,
      "outputs": [],
      "id": "48DzkOuA2hrd"
    },
    {
      "cell_type": "code",
      "source": [
        "from sklearn.metrics import silhouette_score, calinski_harabasz_score, davies_bouldin_score\n",
        "from sklearn.cluster import KMeans\n",
        "from tabulate import tabulate\n",
        "from collections import Counter\n",
        "\n",
        "# Apply KMeans clustering using the optimal k\n",
        "kmeans = KMeans(n_clusters=3, init='k-means++', n_init=10, max_iter=100, random_state=0)\n",
        "kmeans.fit(df_parking_pca)\n",
        "\n",
        "# Get the frequency of each cluster\n",
        "cluster_frequencies = Counter(kmeans.labels_)\n",
        "\n",
        "# Append the new cluster labels back to the original dataset\n",
        "df_parking_1['cluster'] = kmeans.labels_\n",
        "# Append the new cluster labels to the PCA version of the dataset\n",
        "df_parking_pca['cluster'] = kmeans.labels_"
      ],
      "metadata": {
        "id": "94orRh6S2hrd"
      },
      "execution_count": null,
      "outputs": [],
      "id": "94orRh6S2hrd"
    },
    {
      "cell_type": "code",
      "source": [
        "# Calculate the percentage of customers in each cluster\n",
        "cluster_percentage = (df_parking_pca['cluster'].value_counts(normalize=True) * 100).reset_index()\n",
        "cluster_percentage.columns = ['Cluster', 'Percentage']\n",
        "cluster_percentage.sort_values(by='Cluster', inplace=True)\n",
        "\n",
        "# Create a horizontal bar plot\n",
        "plt.figure(figsize=(10, 4))\n",
        "sns.barplot(x='Percentage', y='Cluster', data=cluster_percentage, orient='h')\n",
        "\n",
        "# Adding percentages on the bars\n",
        "for index, value in enumerate(cluster_percentage['Percentage']):\n",
        "    plt.text(value+0.5, index, f'{value:.2f}%')\n",
        "\n",
        "plt.title('Distribution of Customers Across Clusters', fontsize=14)\n",
        "plt.xticks(ticks=np.arange(0, 50, 5))\n",
        "plt.xlabel('Percentage (%)')\n",
        "\n",
        "# Show the plot\n",
        "plt.show()"
      ],
      "metadata": {
        "id": "67sNDW_C2hrd"
      },
      "execution_count": null,
      "outputs": [],
      "id": "67sNDW_C2hrd"
    },
    {
      "cell_type": "code",
      "source": [
        "stats_por_cluster = df_parking_1.drop('geometria', axis=1).groupby('cluster').mean()\n",
        "\n",
        "stats_por_cluster"
      ],
      "metadata": {
        "id": "hbFyp0zU2hrd"
      },
      "execution_count": null,
      "outputs": [],
      "id": "hbFyp0zU2hrd"
    },
    {
      "cell_type": "code",
      "source": [
        "import plotly.express as px\n",
        "\n",
        "import geopandas as gpd\n",
        "from shapely import wkt\n",
        "\n",
        "# 1. Convertir columna de geometría (WKT -> Point)\n",
        "#df_parking_1['geometria'] = df_parking_1['geometria'].apply(wkt.loads)\n",
        "\n",
        "# 2. Crear GeoDataFrame con CRS EPSG:25830\n",
        "gdf = gpd.GeoDataFrame(df_parking_1, geometry='geometria', crs='EPSG:25830')\n",
        "\n",
        "# 3. Reproyectar a EPSG:4326 (lat/lon)\n",
        "gdf = gdf.to_crs(epsg=4326)\n",
        "\n",
        "# 4. Extraer latitud y longitud\n",
        "gdf['latitud'] = gdf.geometry.y\n",
        "gdf['longitud'] = gdf.geometry.x\n",
        "\n",
        "# Convertir cluster a string para usar color_discrete_map\n",
        "gdf['cluster_str'] = gdf['cluster'].astype(str)\n",
        "\n",
        "color_discrete_map = {\n",
        "    \"0\": \"green\",\n",
        "    \"1\": \"orange\",\n",
        "    \"2\" : \"red\"\n",
        "}\n",
        "\n",
        "fig = px.scatter_mapbox(\n",
        "    gdf,\n",
        "    lat=\"latitud\",\n",
        "    lon=\"longitud\",\n",
        "    color=\"cluster_str\",  # Usar la columna de strings\n",
        "    zoom=11,\n",
        "    height=600,\n",
        "    mapbox_style=\"carto-positron\",\n",
        "    hover_data={\n",
        "        \"media_ocupacion\": True,\n",
        "        \"numero_plazas\": True\n",
        "    },\n",
        "    color_discrete_map=color_discrete_map\n",
        ")\n",
        "\n",
        "# Reducir tamaño de los puntos\n",
        "fig.update_traces(marker=dict(size=4))\n",
        "\n",
        "fig.update_layout(title=\"Clusters de Zonas de Aparcamiento\")\n",
        "fig.show()\n"
      ],
      "metadata": {
        "id": "ng7Yjwa-2hrd"
      },
      "execution_count": null,
      "outputs": [],
      "id": "ng7Yjwa-2hrd"
    },
    {
      "cell_type": "markdown",
      "source": [
        "Vemos que muchas de esas zonas verdes se recuperan por la tarde al disminuir el tráfico."
      ],
      "metadata": {
        "id": "17a5qegq2hre"
      },
      "id": "17a5qegq2hre"
    },
    {
      "cell_type": "code",
      "source": [
        "import joblib\n",
        "\n",
        "# Guardar el modelo\n",
        "joblib.dump(kmeans, 'kmeans_tarde_entre_semana.pkl')"
      ],
      "metadata": {
        "id": "6LOTSFmq2hre"
      },
      "execution_count": null,
      "outputs": [],
      "id": "6LOTSFmq2hre"
    },
    {
      "cell_type": "code",
      "source": [
        "df_resumen"
      ],
      "metadata": {
        "id": "iAgrRlRf2hre"
      },
      "execution_count": null,
      "outputs": [],
      "id": "iAgrRlRf2hre"
    },
    {
      "cell_type": "code",
      "source": [
        "df_resumen"
      ],
      "metadata": {
        "id": "PX9_pkrf1bDK"
      },
      "execution_count": null,
      "outputs": [],
      "id": "PX9_pkrf1bDK"
    },
    {
      "cell_type": "markdown",
      "source": [
        "Aquí ya leemos el tráfico a tiempo real y montamos el sistema de recomendación utilizando los clusters y el tráfico a tiempo real"
      ],
      "metadata": {
        "id": "R0_r0wIlywee"
      },
      "id": "R0_r0wIlywee"
    },
    {
      "cell_type": "code",
      "source": [
        "url = \"https://informo.madrid.es/informo/tmadrid/pm.xml\""
      ],
      "metadata": {
        "id": "ueALgrvF5LUP"
      },
      "id": "ueALgrvF5LUP",
      "execution_count": null,
      "outputs": []
    },
    {
      "cell_type": "code",
      "source": [
        "import requests\n",
        "import xml.etree.ElementTree as ET\n",
        "\n",
        "response = requests.get(url)\n",
        "\n",
        "if response.status_code != 200:\n",
        "    raise Exception(f\"Error al acceder a la URL: {response.status_code}\")\n",
        "\n",
        "# Parsear XML\n",
        "root = ET.fromstring(response.content)\n",
        "\n",
        "# Crear lista para guardar los datos\n",
        "data = []\n",
        "\n",
        "# Recorremos nodos XML (esto depende de la estructura exacta del XML)\n",
        "for item in root.findall(\".//pm\"):  # Ajusta la etiqueta a tus datos\n",
        "    data.append({\n",
        "        \"descripcion\": item.findtext(\"descripcion\"),\n",
        "        \"carga\": item.findtext(\"carga\"),\n",
        "        \"intensidad\": item.findtext(\"intensidad\"),\n",
        "        \"ocupacion\": item.findtext(\"ocupacion\"),\n",
        "        \"nivelServicio\": item.findtext(\"nivelServicio\"),\n",
        "        \"st_x\": item.findtext(\"st_x\"),\n",
        "        \"st_y\": item.findtext(\"st_y\")\n",
        "    })\n",
        "\n",
        "data = pd.DataFrame(data)\n",
        "data = data.dropna()  # Quitar valores nulos si los hay\n",
        "data[['intensidad', 'ocupacion', 'carga']] = data[['intensidad', 'ocupacion', 'carga']].astype(float)\n"
      ],
      "metadata": {
        "id": "V7CZpjplttQC"
      },
      "id": "V7CZpjplttQC",
      "execution_count": null,
      "outputs": []
    },
    {
      "cell_type": "code",
      "source": [
        "from pyproj import Transformer\n",
        "\n",
        "# Define el sistema de coordenadas origen y destino\n",
        "transformer = Transformer.from_crs(\"epsg:32630\", \"epsg:4326\", always_xy=True)\n",
        "# Reemplaza coma por punto y convierte a float\n",
        "data['st_x'] = data['st_x'].str.replace(',', '.').astype(float)\n",
        "data['st_y'] = data['st_y'].str.replace(',', '.').astype(float)\n",
        "\n",
        "lon, lat = transformer.transform(data['st_x'], data['st_y'])\n",
        "data[\"longitud\"] = lon\n",
        "data[\"latitud\"] = lat\n",
        "print(f\"Longitud: {lon}, Latitud: {lat}\")"
      ],
      "metadata": {
        "id": "R8xHowY_tzQx"
      },
      "id": "R8xHowY_tzQx",
      "execution_count": null,
      "outputs": []
    },
    {
      "cell_type": "code",
      "source": [
        "import random\n",
        "\n",
        "min_lat, max_lat = 40.410, 40.440\n",
        "min_lon, max_lon = -3.725, -3.670\n",
        "\n",
        "random_lat = random.uniform(min_lat, max_lat)\n",
        "random_lon = random.uniform(min_lon, max_lon)\n",
        "\n",
        "print(f\"Random location: {random_lat}, {random_lon}\")"
      ],
      "metadata": {
        "id": "FP2a0vkTt4SJ"
      },
      "id": "FP2a0vkTt4SJ",
      "execution_count": null,
      "outputs": []
    },
    {
      "cell_type": "code",
      "source": [
        "df_parking_pca"
      ],
      "metadata": {
        "id": "yT4LXRtJu2n_"
      },
      "id": "yT4LXRtJu2n_",
      "execution_count": null,
      "outputs": []
    },
    {
      "cell_type": "code",
      "source": [
        "import plotly.express as px\n",
        "\n",
        "import geopandas as gpd\n",
        "from shapely import wkt\n",
        "\n",
        "# 1. Convertir columna de geometría (WKT -> Point)\n",
        "# df_parking_1['geometria'] = df_parking_1['geometria'].apply(wkt.loads)\n",
        "\n",
        "# 2. Crear GeoDataFrame con CRS EPSG:25830\n",
        "gdf = gpd.GeoDataFrame(df_parking_1, geometry='geometria', crs='EPSG:25830')\n",
        "\n",
        "# 3. Reproyectar a EPSG:4326 (lat/lon)\n",
        "gdf = gdf.to_crs(epsg=4326)\n",
        "\n",
        "# 4. Extraer latitud y longitud\n",
        "gdf['latitud'] = gdf.geometry.y\n",
        "gdf['longitud'] = gdf.geometry.x\n",
        "\n",
        "# Convertir cluster a string para usar color_discrete_map\n",
        "gdf['cluster_str'] = gdf['cluster'].astype(str)\n",
        "\n",
        "color_discrete_map = {\n",
        "    \"0\": \"green\",\n",
        "    \"1\": \"orange\",\n",
        "    \"2\" : \"red\"\n",
        "}\n",
        "\n",
        "fig = px.scatter_mapbox(\n",
        "    gdf,\n",
        "    lat=\"latitud\",\n",
        "    lon=\"longitud\",\n",
        "    color=\"cluster_str\",  # Usar la columna de strings\n",
        "    zoom=11,\n",
        "    height=600,\n",
        "    mapbox_style=\"carto-positron\",\n",
        "    hover_data={\n",
        "        \"media_ocupacion\": True,\n",
        "        \"numero_plazas\": True\n",
        "    },\n",
        "    color_discrete_map=color_discrete_map\n",
        ")\n",
        "\n",
        "# Reducir tamaño de los puntos\n",
        "fig.update_traces(marker=dict(size=4))\n",
        "\n",
        "fig.update_layout(title=\"Clusters de Zonas de Aparcamiento\")\n",
        "fig.show()\n",
        "\n"
      ],
      "metadata": {
        "id": "HQ8qmRWCuET9"
      },
      "id": "HQ8qmRWCuET9",
      "execution_count": null,
      "outputs": []
    },
    {
      "cell_type": "code",
      "source": [
        "import plotly.express as px\n",
        "import plotly.graph_objects as go\n",
        "import random\n",
        "\n",
        "fig.add_trace(go.Scattermapbox(\n",
        "    lat=[random_lat],\n",
        "    lon=[random_lon],\n",
        "    mode='markers',\n",
        "    marker=go.scattermapbox.Marker(\n",
        "        size=14,\n",
        "        color='black'\n",
        "    ),\n",
        "    name=\"Random Location\"\n",
        "))\n",
        "fig.show()\n"
      ],
      "metadata": {
        "id": "pEohla1vuNpl"
      },
      "id": "pEohla1vuNpl",
      "execution_count": null,
      "outputs": []
    },
    {
      "cell_type": "code",
      "source": [
        "import numpy as np\n",
        "\n",
        "def haversine_np(lat1, lon1, lat2, lon2):\n",
        "    R = 6371  # Earth radius km\n",
        "    phi1 = np.radians(lat1)\n",
        "    phi2 = np.radians(lat2)\n",
        "    d_phi = np.radians(lat2 - lat1)\n",
        "    d_lambda = np.radians(lon2 - lon1)\n",
        "\n",
        "    a = np.sin(d_phi/2)**2 + np.cos(phi1)*np.cos(phi2)*np.sin(d_lambda/2)**2\n",
        "    c = 2 * np.arctan2(np.sqrt(a), np.sqrt(1-a))\n",
        "\n",
        "    return R * c\n",
        "\n",
        "\n",
        "cluster_df['distance_to_location'] = haversine_np(\n",
        "    cluster_df['latitud'], cluster_df['longitud'], random_lat, random_lon\n",
        ")\n",
        "\n",
        "data['distance_to_location'] = haversine_np(\n",
        "    data['latitud'], cluster_df['longitud'], random_lat, random_lon\n",
        ")\n",
        "\n",
        "radius_km = 1.0\n",
        "nearby_df = cluster_df[cluster_df['distance_to_location'] <= radius_km]\n",
        "nearby_2_df = data[data['distance_to_location'] <= radius_km]"
      ],
      "metadata": {
        "id": "_Lx8hoqgxs4p"
      },
      "id": "_Lx8hoqgxs4p",
      "execution_count": null,
      "outputs": []
    }
  ],
  "metadata": {
    "colab": {
      "provenance": []
    },
    "kernelspec": {
      "display_name": "Python 3",
      "name": "python3"
    },
    "language_info": {
      "name": "python"
    }
  },
  "nbformat": 4,
  "nbformat_minor": 5
}